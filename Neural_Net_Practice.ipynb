{
 "metadata": {
  "name": "",
  "signature": "sha256:123919589b3af9822e3031547ae714c8fa02ca7414db20be88a43cb0a0836f70"
 },
 "nbformat": 3,
 "nbformat_minor": 0,
 "worksheets": [
  {
   "cells": [
    {
     "cell_type": "code",
     "collapsed": false,
     "input": [
      "%load_ext autoreload"
     ],
     "language": "python",
     "metadata": {},
     "outputs": [],
     "prompt_number": 39
    },
    {
     "cell_type": "code",
     "collapsed": false,
     "input": [
      "%autoreload 2"
     ],
     "language": "python",
     "metadata": {},
     "outputs": [],
     "prompt_number": 40
    },
    {
     "cell_type": "code",
     "collapsed": false,
     "input": [
      "from load_mnist import *"
     ],
     "language": "python",
     "metadata": {},
     "outputs": [],
     "prompt_number": 50
    },
    {
     "cell_type": "markdown",
     "metadata": {},
     "source": [
      "Run file load in notebook to test."
     ]
    },
    {
     "cell_type": "code",
     "collapsed": false,
     "input": [
      "v = load_mnist.load_file('../mnist.pkl.gz')"
     ],
     "language": "python",
     "metadata": {},
     "outputs": [],
     "prompt_number": 25
    },
    {
     "cell_type": "code",
     "collapsed": false,
     "input": [
      "def run_stuff():\n",
      "    with gzip.open('../mnist.pkl.gz') as f:\n",
      "        train_set, valid_set, test_set = cPickle.load(f)\n",
      "    return train_set"
     ],
     "language": "python",
     "metadata": {},
     "outputs": [],
     "prompt_number": 32
    },
    {
     "cell_type": "markdown",
     "metadata": {},
     "source": [
      "Run code from load_mnist. Data contains all pixel info for each image as well as labels (0-9)."
     ]
    },
    {
     "cell_type": "markdown",
     "metadata": {},
     "source": [
      "Load mnist data below. The split is train = 50K(71%), cross =10K(14%), test = 10K(14%)\n",
      "\n",
      "Structure is a tuple where first colum is the picture values and the second is the label"
     ]
    },
    {
     "cell_type": "code",
     "collapsed": false,
     "input": [
      "train_set, valid_set, test_set = load_file('../mnist.pkl.gz')"
     ],
     "language": "python",
     "metadata": {},
     "outputs": [],
     "prompt_number": 51
    },
    {
     "cell_type": "code",
     "collapsed": false,
     "input": [
      "y = train_set[1] # labels\n",
      "x = train_set[0] # pixels 28 x 28 and in an numpy array"
     ],
     "language": "python",
     "metadata": {},
     "outputs": [],
     "prompt_number": 122
    },
    {
     "cell_type": "code",
     "collapsed": false,
     "input": [
      "print y.shape\n",
      "print x.shape"
     ],
     "language": "python",
     "metadata": {},
     "outputs": [
      {
       "output_type": "stream",
       "stream": "stdout",
       "text": [
        "(50000,)\n",
        "(50000, 784)\n"
       ]
      }
     ],
     "prompt_number": 123
    },
    {
     "cell_type": "code",
     "collapsed": false,
     "input": [
      "x[100].reshape(28,28).shape # testing reshape"
     ],
     "language": "python",
     "metadata": {},
     "outputs": [
      {
       "metadata": {},
       "output_type": "pyout",
       "prompt_number": 139,
       "text": [
        "(28, 28)"
       ]
      }
     ],
     "prompt_number": 139
    },
    {
     "cell_type": "code",
     "collapsed": false,
     "input": [
      "# Alternative to show value\n",
      "import matplotlib.pyplot as plt\n",
      "import matplotlib.cm as cm\n",
      "\n",
      "def show_img_note(x):\n",
      "    img = x.reshape(28,28)\n",
      "    plt.imshow(img, cmap=cm.Greys_r)\n",
      "    plt.show()"
     ],
     "language": "python",
     "metadata": {},
     "outputs": [],
     "prompt_number": 138
    },
    {
     "cell_type": "markdown",
     "metadata": {},
     "source": [
      "Viewed both images and confirmed labels matched"
     ]
    },
    {
     "cell_type": "code",
     "collapsed": false,
     "input": [
      "show_img(x[1007])\n",
      "print y[1007]\n",
      "show_img_note(x[777])\n",
      "print y[777]"
     ],
     "language": "python",
     "metadata": {},
     "outputs": [
      {
       "output_type": "stream",
       "stream": "stdout",
       "text": [
        "3\n",
        "8"
       ]
      },
      {
       "output_type": "stream",
       "stream": "stdout",
       "text": [
        "\n"
       ]
      }
     ],
     "prompt_number": 144
    },
    {
     "cell_type": "code",
     "collapsed": false,
     "input": [
      "a = np.arange(-10,10)\n",
      "s = [9, 12, 13, 14]\n",
      "b = a[s]\n",
      "print a[s] > 0\n",
      "print a[s][a[s]>0]\n",
      "print b\n",
      "b[b>0]"
     ],
     "language": "python",
     "metadata": {},
     "outputs": [
      {
       "output_type": "stream",
       "stream": "stdout",
       "text": [
        "[False  True  True  True]\n",
        "[2 3 4]\n",
        "[-1  2  3  4]\n"
       ]
      },
      {
       "metadata": {},
       "output_type": "pyout",
       "prompt_number": 172,
       "text": [
        "array([2, 3, 4])"
       ]
      }
     ],
     "prompt_number": 172
    },
    {
     "cell_type": "code",
     "collapsed": false,
     "input": [
      "n=1"
     ],
     "language": "python",
     "metadata": {},
     "outputs": [],
     "prompt_number": 197
    },
    {
     "cell_type": "code",
     "collapsed": false,
     "input": [
      "train_set[1][train_set[1]==0][0:n]"
     ],
     "language": "python",
     "metadata": {},
     "outputs": [
      {
       "metadata": {},
       "output_type": "pyout",
       "prompt_number": 198,
       "text": [
        "array([0])"
       ]
      }
     ],
     "prompt_number": 198
    },
    {
     "cell_type": "code",
     "collapsed": false,
     "input": [
      "train_set[0][train_set[1]==0][0:n]"
     ],
     "language": "python",
     "metadata": {},
     "outputs": [
      {
       "metadata": {},
       "output_type": "pyout",
       "prompt_number": 199,
       "text": [
        "array([[ 0.        ,  0.        ,  0.        ,  0.        ,  0.        ,\n",
        "         0.        ,  0.        ,  0.        ,  0.        ,  0.        ,\n",
        "         0.        ,  0.        ,  0.        ,  0.        ,  0.        ,\n",
        "         0.        ,  0.        ,  0.        ,  0.        ,  0.        ,\n",
        "         0.        ,  0.        ,  0.        ,  0.        ,  0.        ,\n",
        "         0.        ,  0.        ,  0.        ,  0.        ,  0.        ,\n",
        "         0.        ,  0.        ,  0.        ,  0.        ,  0.        ,\n",
        "         0.        ,  0.        ,  0.        ,  0.        ,  0.        ,\n",
        "         0.        ,  0.        ,  0.        ,  0.        ,  0.        ,\n",
        "         0.        ,  0.        ,  0.        ,  0.        ,  0.        ,\n",
        "         0.        ,  0.        ,  0.        ,  0.        ,  0.        ,\n",
        "         0.        ,  0.        ,  0.        ,  0.        ,  0.        ,\n",
        "         0.        ,  0.        ,  0.        ,  0.        ,  0.        ,\n",
        "         0.        ,  0.        ,  0.        ,  0.        ,  0.        ,\n",
        "         0.        ,  0.        ,  0.        ,  0.        ,  0.        ,\n",
        "         0.        ,  0.        ,  0.        ,  0.        ,  0.        ,\n",
        "         0.        ,  0.        ,  0.        ,  0.        ,  0.        ,\n",
        "         0.        ,  0.        ,  0.        ,  0.        ,  0.        ,\n",
        "         0.        ,  0.        ,  0.        ,  0.        ,  0.        ,\n",
        "         0.        ,  0.        ,  0.        ,  0.        ,  0.        ,\n",
        "         0.        ,  0.        ,  0.        ,  0.        ,  0.        ,\n",
        "         0.        ,  0.        ,  0.        ,  0.        ,  0.        ,\n",
        "         0.        ,  0.        ,  0.        ,  0.        ,  0.        ,\n",
        "         0.        ,  0.        ,  0.        ,  0.        ,  0.        ,\n",
        "         0.        ,  0.        ,  0.        ,  0.        ,  0.        ,\n",
        "         0.        ,  0.        ,  0.19921875,  0.62109375,  0.98828125,\n",
        "         0.62109375,  0.1953125 ,  0.        ,  0.        ,  0.        ,\n",
        "         0.        ,  0.        ,  0.        ,  0.        ,  0.        ,\n",
        "         0.        ,  0.        ,  0.        ,  0.        ,  0.        ,\n",
        "         0.        ,  0.        ,  0.        ,  0.        ,  0.        ,\n",
        "         0.        ,  0.        ,  0.        ,  0.        ,  0.1875    ,\n",
        "         0.9296875 ,  0.984375  ,  0.984375  ,  0.984375  ,  0.92578125,\n",
        "         0.        ,  0.        ,  0.        ,  0.        ,  0.        ,\n",
        "         0.        ,  0.        ,  0.        ,  0.        ,  0.        ,\n",
        "         0.        ,  0.        ,  0.        ,  0.        ,  0.        ,\n",
        "         0.        ,  0.        ,  0.        ,  0.        ,  0.        ,\n",
        "         0.        ,  0.2109375 ,  0.88671875,  0.98828125,  0.984375  ,\n",
        "         0.93359375,  0.91015625,  0.984375  ,  0.22265625,  0.0234375 ,\n",
        "         0.        ,  0.        ,  0.        ,  0.        ,  0.        ,\n",
        "         0.        ,  0.        ,  0.        ,  0.        ,  0.        ,\n",
        "         0.        ,  0.        ,  0.        ,  0.        ,  0.        ,\n",
        "         0.        ,  0.        ,  0.0390625 ,  0.234375  ,  0.875     ,\n",
        "         0.984375  ,  0.98828125,  0.984375  ,  0.7890625 ,  0.328125  ,\n",
        "         0.984375  ,  0.98828125,  0.4765625 ,  0.        ,  0.        ,\n",
        "         0.        ,  0.        ,  0.        ,  0.        ,  0.        ,\n",
        "         0.        ,  0.        ,  0.        ,  0.        ,  0.        ,\n",
        "         0.        ,  0.        ,  0.        ,  0.        ,  0.        ,\n",
        "         0.63671875,  0.984375  ,  0.984375  ,  0.984375  ,  0.98828125,\n",
        "         0.984375  ,  0.984375  ,  0.375     ,  0.73828125,  0.98828125,\n",
        "         0.65234375,  0.        ,  0.        ,  0.        ,  0.        ,\n",
        "         0.        ,  0.        ,  0.        ,  0.        ,  0.        ,\n",
        "         0.        ,  0.        ,  0.        ,  0.        ,  0.        ,\n",
        "         0.        ,  0.        ,  0.19921875,  0.9296875 ,  0.98828125,\n",
        "         0.98828125,  0.7421875 ,  0.4453125 ,  0.98828125,  0.890625  ,\n",
        "         0.18359375,  0.30859375,  0.99609375,  0.65625   ,  0.        ,\n",
        "         0.        ,  0.        ,  0.        ,  0.        ,  0.        ,\n",
        "         0.        ,  0.        ,  0.        ,  0.        ,  0.        ,\n",
        "         0.        ,  0.        ,  0.        ,  0.        ,  0.1875    ,\n",
        "         0.9296875 ,  0.984375  ,  0.984375  ,  0.69921875,  0.046875  ,\n",
        "         0.29296875,  0.47265625,  0.08203125,  0.        ,  0.        ,\n",
        "         0.98828125,  0.94921875,  0.1953125 ,  0.        ,  0.        ,\n",
        "         0.        ,  0.        ,  0.        ,  0.        ,  0.        ,\n",
        "         0.        ,  0.        ,  0.        ,  0.        ,  0.        ,\n",
        "         0.        ,  0.1484375 ,  0.64453125,  0.98828125,  0.91015625,\n",
        "         0.8125    ,  0.328125  ,  0.        ,  0.        ,  0.        ,\n",
        "         0.        ,  0.        ,  0.        ,  0.98828125,  0.984375  ,\n",
        "         0.64453125,  0.        ,  0.        ,  0.        ,  0.        ,\n",
        "         0.        ,  0.        ,  0.        ,  0.        ,  0.        ,\n",
        "         0.        ,  0.        ,  0.        ,  0.02734375,  0.6953125 ,\n",
        "         0.984375  ,  0.9375    ,  0.27734375,  0.07421875,  0.109375  ,\n",
        "         0.        ,  0.        ,  0.        ,  0.        ,  0.        ,\n",
        "         0.        ,  0.98828125,  0.984375  ,  0.76171875,  0.        ,\n",
        "         0.        ,  0.        ,  0.        ,  0.        ,  0.        ,\n",
        "         0.        ,  0.        ,  0.        ,  0.        ,  0.        ,\n",
        "         0.        ,  0.22265625,  0.984375  ,  0.984375  ,  0.24609375,\n",
        "         0.        ,  0.        ,  0.        ,  0.        ,  0.        ,\n",
        "         0.        ,  0.        ,  0.        ,  0.        ,  0.98828125,\n",
        "         0.984375  ,  0.76171875,  0.        ,  0.        ,  0.        ,\n",
        "         0.        ,  0.        ,  0.        ,  0.        ,  0.        ,\n",
        "         0.        ,  0.        ,  0.        ,  0.        ,  0.7734375 ,\n",
        "         0.98828125,  0.7421875 ,  0.        ,  0.        ,  0.        ,\n",
        "         0.        ,  0.        ,  0.        ,  0.        ,  0.        ,\n",
        "         0.        ,  0.        ,  0.99609375,  0.98828125,  0.765625  ,\n",
        "         0.        ,  0.        ,  0.        ,  0.        ,  0.        ,\n",
        "         0.        ,  0.        ,  0.        ,  0.        ,  0.        ,\n",
        "         0.        ,  0.296875  ,  0.9609375 ,  0.984375  ,  0.4375    ,\n",
        "         0.        ,  0.        ,  0.        ,  0.        ,  0.        ,\n",
        "         0.        ,  0.        ,  0.        ,  0.        ,  0.        ,\n",
        "         0.98828125,  0.984375  ,  0.578125  ,  0.        ,  0.        ,\n",
        "         0.        ,  0.        ,  0.        ,  0.        ,  0.        ,\n",
        "         0.        ,  0.        ,  0.        ,  0.        ,  0.33203125,\n",
        "         0.984375  ,  0.8984375 ,  0.09765625,  0.        ,  0.        ,\n",
        "         0.        ,  0.        ,  0.        ,  0.        ,  0.        ,\n",
        "         0.        ,  0.02734375,  0.52734375,  0.98828125,  0.7265625 ,\n",
        "         0.046875  ,  0.        ,  0.        ,  0.        ,  0.        ,\n",
        "         0.        ,  0.        ,  0.        ,  0.        ,  0.        ,\n",
        "         0.        ,  0.        ,  0.33203125,  0.984375  ,  0.87109375,\n",
        "         0.        ,  0.        ,  0.        ,  0.        ,  0.        ,\n",
        "         0.        ,  0.        ,  0.        ,  0.02734375,  0.51171875,\n",
        "         0.984375  ,  0.87890625,  0.27734375,  0.        ,  0.        ,\n",
        "         0.        ,  0.        ,  0.        ,  0.        ,  0.        ,\n",
        "         0.        ,  0.        ,  0.        ,  0.        ,  0.        ,\n",
        "         0.33203125,  0.984375  ,  0.56640625,  0.        ,  0.        ,\n",
        "         0.        ,  0.        ,  0.        ,  0.        ,  0.        ,\n",
        "         0.1875    ,  0.64453125,  0.984375  ,  0.67578125,  0.        ,\n",
        "         0.        ,  0.        ,  0.        ,  0.        ,  0.        ,\n",
        "         0.        ,  0.        ,  0.        ,  0.        ,  0.        ,\n",
        "         0.        ,  0.        ,  0.        ,  0.3359375 ,  0.98828125,\n",
        "         0.87890625,  0.        ,  0.        ,  0.        ,  0.        ,\n",
        "         0.        ,  0.        ,  0.4453125 ,  0.9296875 ,  0.98828125,\n",
        "         0.6328125 ,  0.        ,  0.        ,  0.        ,  0.        ,\n",
        "         0.        ,  0.        ,  0.        ,  0.        ,  0.        ,\n",
        "         0.        ,  0.        ,  0.        ,  0.        ,  0.        ,\n",
        "         0.        ,  0.33203125,  0.984375  ,  0.97265625,  0.5703125 ,\n",
        "         0.1875    ,  0.11328125,  0.33203125,  0.6953125 ,  0.87890625,\n",
        "         0.98828125,  0.87109375,  0.65234375,  0.21875   ,  0.        ,\n",
        "         0.        ,  0.        ,  0.        ,  0.        ,  0.        ,\n",
        "         0.        ,  0.        ,  0.        ,  0.        ,  0.        ,\n",
        "         0.        ,  0.        ,  0.        ,  0.        ,  0.33203125,\n",
        "         0.984375  ,  0.984375  ,  0.984375  ,  0.89453125,  0.83984375,\n",
        "         0.984375  ,  0.984375  ,  0.984375  ,  0.765625  ,  0.5078125 ,\n",
        "         0.        ,  0.        ,  0.        ,  0.        ,  0.        ,\n",
        "         0.        ,  0.        ,  0.        ,  0.        ,  0.        ,\n",
        "         0.        ,  0.        ,  0.        ,  0.        ,  0.        ,\n",
        "         0.        ,  0.        ,  0.109375  ,  0.77734375,  0.984375  ,\n",
        "         0.984375  ,  0.98828125,  0.984375  ,  0.984375  ,  0.91015625,\n",
        "         0.56640625,  0.        ,  0.        ,  0.        ,  0.        ,\n",
        "         0.        ,  0.        ,  0.        ,  0.        ,  0.        ,\n",
        "         0.        ,  0.        ,  0.        ,  0.        ,  0.        ,\n",
        "         0.        ,  0.        ,  0.        ,  0.        ,  0.        ,\n",
        "         0.        ,  0.09765625,  0.5       ,  0.984375  ,  0.98828125,\n",
        "         0.984375  ,  0.55078125,  0.14453125,  0.        ,  0.        ,\n",
        "         0.        ,  0.        ,  0.        ,  0.        ,  0.        ,\n",
        "         0.        ,  0.        ,  0.        ,  0.        ,  0.        ,\n",
        "         0.        ,  0.        ,  0.        ,  0.        ,  0.        ,\n",
        "         0.        ,  0.        ,  0.        ,  0.        ,  0.        ,\n",
        "         0.        ,  0.        ,  0.        ,  0.        ,  0.        ,\n",
        "         0.        ,  0.        ,  0.        ,  0.        ,  0.        ,\n",
        "         0.        ,  0.        ,  0.        ,  0.        ,  0.        ,\n",
        "         0.        ,  0.        ,  0.        ,  0.        ,  0.        ,\n",
        "         0.        ,  0.        ,  0.        ,  0.        ,  0.        ,\n",
        "         0.        ,  0.        ,  0.        ,  0.        ,  0.        ,\n",
        "         0.        ,  0.        ,  0.        ,  0.        ,  0.        ,\n",
        "         0.        ,  0.        ,  0.        ,  0.        ,  0.        ,\n",
        "         0.        ,  0.        ,  0.        ,  0.        ,  0.        ,\n",
        "         0.        ,  0.        ,  0.        ,  0.        ,  0.        ,\n",
        "         0.        ,  0.        ,  0.        ,  0.        ,  0.        ,\n",
        "         0.        ,  0.        ,  0.        ,  0.        ,  0.        ,\n",
        "         0.        ,  0.        ,  0.        ,  0.        ,  0.        ,\n",
        "         0.        ,  0.        ,  0.        ,  0.        ,  0.        ,\n",
        "         0.        ,  0.        ,  0.        ,  0.        ,  0.        ,\n",
        "         0.        ,  0.        ,  0.        ,  0.        ,  0.        ,\n",
        "         0.        ,  0.        ,  0.        ,  0.        ,  0.        ,\n",
        "         0.        ,  0.        ,  0.        ,  0.        ,  0.        ,\n",
        "         0.        ,  0.        ,  0.        ,  0.        ,  0.        ,\n",
        "         0.        ,  0.        ,  0.        ,  0.        ,  0.        ,\n",
        "         0.        ,  0.        ,  0.        ,  0.        ]], dtype=float32)"
       ]
      }
     ],
     "prompt_number": 199
    },
    {
     "cell_type": "code",
     "collapsed": false,
     "input": [
      "train_set[1][1]"
     ],
     "language": "python",
     "metadata": {},
     "outputs": [
      {
       "metadata": {},
       "output_type": "pyout",
       "prompt_number": 181,
       "text": [
        "0"
       ]
      }
     ],
     "prompt_number": 181
    },
    {
     "cell_type": "code",
     "collapsed": false,
     "input": [
      "show_img(train_set[0][1])"
     ],
     "language": "python",
     "metadata": {},
     "outputs": [],
     "prompt_number": 187
    },
    {
     "cell_type": "code",
     "collapsed": false,
     "input": [],
     "language": "python",
     "metadata": {},
     "outputs": []
    }
   ],
   "metadata": {}
  }
 ]
}