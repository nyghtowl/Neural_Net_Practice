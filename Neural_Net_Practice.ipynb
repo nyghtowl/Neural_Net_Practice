{
 "metadata": {
  "name": "",
  "signature": "sha256:920257893eef26694792cd21dbca3bc88808d2ae29cbf684cbd2d61aa291b465"
 },
 "nbformat": 3,
 "nbformat_minor": 0,
 "worksheets": [
  {
   "cells": [
    {
     "cell_type": "code",
     "collapsed": false,
     "input": [
      "%load_ext autoreload"
     ],
     "language": "python",
     "metadata": {},
     "outputs": [
      {
       "output_type": "stream",
       "stream": "stdout",
       "text": [
        "The autoreload extension is already loaded. To reload it, use:\n",
        "  %reload_ext autoreload\n"
       ]
      }
     ],
     "prompt_number": 187
    },
    {
     "cell_type": "code",
     "collapsed": false,
     "input": [
      "%autoreload 2"
     ],
     "language": "python",
     "metadata": {},
     "outputs": [],
     "prompt_number": 188
    },
    {
     "cell_type": "code",
     "collapsed": false,
     "input": [
      "from load_mnist import *"
     ],
     "language": "python",
     "metadata": {},
     "outputs": [],
     "prompt_number": 189
    },
    {
     "cell_type": "markdown",
     "metadata": {},
     "source": [
      "Run file load in notebook to test."
     ]
    },
    {
     "cell_type": "code",
     "collapsed": false,
     "input": [
      "v = load_file('../mnist.pkl.gz')"
     ],
     "language": "python",
     "metadata": {},
     "outputs": [],
     "prompt_number": 16
    },
    {
     "cell_type": "code",
     "collapsed": false,
     "input": [
      "def run_stuff():\n",
      "    with gzip.open('../mnist.pkl.gz') as f:\n",
      "        train_set, valid_set, test_set = cPickle.load(f)\n",
      "    return train_set"
     ],
     "language": "python",
     "metadata": {},
     "outputs": [],
     "prompt_number": 17
    },
    {
     "cell_type": "markdown",
     "metadata": {},
     "source": [
      "Run code from load_mnist. Data contains all pixel info for each image as well as labels (0-9)."
     ]
    },
    {
     "cell_type": "markdown",
     "metadata": {},
     "source": [
      "Load mnist data below. The split is train = 50K(71%), cross =10K(14%), test = 10K(14%)\n",
      "\n",
      "Structure is a tuple where first colum is the picture values and the second is the label"
     ]
    },
    {
     "cell_type": "code",
     "collapsed": false,
     "input": [
      "train_set, valid_set, test_set = load_file('../mnist.pkl.gz')"
     ],
     "language": "python",
     "metadata": {},
     "outputs": [],
     "prompt_number": 18
    },
    {
     "cell_type": "code",
     "collapsed": false,
     "input": [
      "y = train_set[1] # labels\n",
      "x = train_set[0] # pixels 28 x 28 and in an numpy array"
     ],
     "language": "python",
     "metadata": {},
     "outputs": [],
     "prompt_number": 19
    },
    {
     "cell_type": "code",
     "collapsed": false,
     "input": [
      "print y.shape\n",
      "print x.shape"
     ],
     "language": "python",
     "metadata": {},
     "outputs": [
      {
       "output_type": "stream",
       "stream": "stdout",
       "text": [
        "(50000,)\n",
        "(50000, 784)\n"
       ]
      }
     ],
     "prompt_number": 20
    },
    {
     "cell_type": "code",
     "collapsed": false,
     "input": [
      "x[100].reshape(28,28).shape # testing reshape"
     ],
     "language": "python",
     "metadata": {},
     "outputs": [
      {
       "metadata": {},
       "output_type": "pyout",
       "prompt_number": 21,
       "text": [
        "(28, 28)"
       ]
      }
     ],
     "prompt_number": 21
    },
    {
     "cell_type": "code",
     "collapsed": false,
     "input": [
      "# Alternative to show value\n",
      "import matplotlib.pyplot as plt\n",
      "import matplotlib.cm as cm\n",
      "\n",
      "def show_img_note(x):\n",
      "    img = x.reshape(28,28)\n",
      "    plt.imshow(img, cmap=cm.Greys_r)\n",
      "    plt.show()"
     ],
     "language": "python",
     "metadata": {},
     "outputs": [],
     "prompt_number": 138
    },
    {
     "cell_type": "markdown",
     "metadata": {},
     "source": [
      "Viewed both images and confirmed labels matched"
     ]
    },
    {
     "cell_type": "code",
     "collapsed": false,
     "input": [
      "show_img(x[1007])\n",
      "print y[1007]\n",
      "show_img_note(x[777])\n",
      "print y[777]"
     ],
     "language": "python",
     "metadata": {},
     "outputs": [
      {
       "output_type": "stream",
       "stream": "stdout",
       "text": [
        "3\n",
        "8"
       ]
      },
      {
       "output_type": "stream",
       "stream": "stdout",
       "text": [
        "\n"
       ]
      }
     ],
     "prompt_number": 144
    },
    {
     "cell_type": "code",
     "collapsed": false,
     "input": [
      "a = np.arange(-10,10)\n",
      "s = [9, 12, 13, 14]\n",
      "b = a[s]\n",
      "print a[s] > 0\n",
      "print a[s][a[s]>0]\n",
      "print b\n",
      "b[b>0]"
     ],
     "language": "python",
     "metadata": {},
     "outputs": [
      {
       "output_type": "stream",
       "stream": "stdout",
       "text": [
        "[False  True  True  True]\n",
        "[2 3 4]\n",
        "[-1  2  3  4]\n"
       ]
      },
      {
       "metadata": {},
       "output_type": "pyout",
       "prompt_number": 172,
       "text": [
        "array([2, 3, 4])"
       ]
      }
     ],
     "prompt_number": 172
    },
    {
     "cell_type": "code",
     "collapsed": false,
     "input": [
      "train_set[1][1]"
     ],
     "language": "python",
     "metadata": {},
     "outputs": [
      {
       "metadata": {},
       "output_type": "pyout",
       "prompt_number": 181,
       "text": [
        "0"
       ]
      }
     ],
     "prompt_number": 181
    },
    {
     "cell_type": "code",
     "collapsed": false,
     "input": [
      "show_img(train_set[0][1])\n",
      "show_img(train_set[0][train_set[1]==0][0:n].round())"
     ],
     "language": "python",
     "metadata": {},
     "outputs": [],
     "prompt_number": 207
    },
    {
     "cell_type": "code",
     "collapsed": false,
     "input": [
      "n=5"
     ],
     "language": "python",
     "metadata": {},
     "outputs": [],
     "prompt_number": 23
    },
    {
     "cell_type": "code",
     "collapsed": false,
     "input": [
      "y_sample = train_set[1][train_set[1]==0][0:n]\n",
      "y_sample1 = train_set[1][train_set[1]==1][0:n]\n",
      "# replace 0 with [1,0]"
     ],
     "language": "python",
     "metadata": {},
     "outputs": [],
     "prompt_number": 24
    },
    {
     "cell_type": "code",
     "collapsed": false,
     "input": [
      "x_sample = train_set[0][train_set[1]==0][0:n].round()\n",
      "x_sample1 = train_set[0][train_set[1]==1][0:n].round()"
     ],
     "language": "python",
     "metadata": {},
     "outputs": [],
     "prompt_number": 25
    },
    {
     "cell_type": "code",
     "collapsed": false,
     "input": [
      "np.round(.50)"
     ],
     "language": "python",
     "metadata": {},
     "outputs": [
      {
       "metadata": {},
       "output_type": "pyout",
       "prompt_number": 249,
       "text": [
        "0.0"
       ]
      }
     ],
     "prompt_number": 249
    },
    {
     "cell_type": "code",
     "collapsed": false,
     "input": [
      "np.round(.6)"
     ],
     "language": "python",
     "metadata": {},
     "outputs": [
      {
       "metadata": {},
       "output_type": "pyout",
       "prompt_number": 205,
       "text": [
        "1.0"
       ]
      }
     ],
     "prompt_number": 205
    },
    {
     "cell_type": "markdown",
     "metadata": {},
     "source": [
      "create function that builds x and y samples - abstract above so 1 and 0 can be passed in. Then alternate the order of the values but keep label with picture so that to vary what will be entered"
     ]
    },
    {
     "cell_type": "code",
     "collapsed": false,
     "input": [
      "sample.describe"
     ],
     "language": "python",
     "metadata": {},
     "outputs": [
      {
       "metadata": {},
       "output_type": "pyout",
       "prompt_number": 228,
       "text": [
        "<bound method DataFrame.describe of <class 'pandas.core.frame.DataFrame'>\n",
        "Int64Index: 50000 entries, 0 to 49999\n",
        "Columns: 784 entries, 0 to 783\n",
        "dtypes: float32(784)>"
       ]
      }
     ],
     "prompt_number": 228
    },
    {
     "cell_type": "code",
     "collapsed": false,
     "input": [
      "result = np.concatenate((y_sample, y_sample1))\n",
      "result2 = np.vstack((x_sample, x_sample1))"
     ],
     "language": "python",
     "metadata": {},
     "outputs": [],
     "prompt_number": 30
    },
    {
     "cell_type": "code",
     "collapsed": false,
     "input": [
      "result"
     ],
     "language": "python",
     "metadata": {},
     "outputs": [
      {
       "metadata": {},
       "output_type": "pyout",
       "prompt_number": 71,
       "text": [
        "array([0, 0, 0, 0, 0, 1, 1, 1, 1, 1])"
       ]
      }
     ],
     "prompt_number": 71
    },
    {
     "cell_type": "code",
     "collapsed": false,
     "input": [
      "x = [0,1]"
     ],
     "language": "python",
     "metadata": {},
     "outputs": [],
     "prompt_number": 76
    },
    {
     "cell_type": "code",
     "collapsed": false,
     "input": [
      "# result[result==0] = \n",
      "result3 = np.array([0, [1,1], 2, 4, 5])\n",
      "#result3[result3==1] = [1,2]"
     ],
     "language": "python",
     "metadata": {},
     "outputs": [
      {
       "ename": "ValueError",
       "evalue": "setting an array element with a sequence.",
       "output_type": "pyerr",
       "traceback": [
        "\u001b[0;31m---------------------------------------------------------------------------\u001b[0m\n\u001b[0;31mValueError\u001b[0m                                Traceback (most recent call last)",
        "\u001b[0;32m<ipython-input-99-f1eebb19a91a>\u001b[0m in \u001b[0;36m<module>\u001b[0;34m()\u001b[0m\n\u001b[1;32m      1\u001b[0m \u001b[0;31m# result[result==0] =\u001b[0m\u001b[0;34m\u001b[0m\u001b[0;34m\u001b[0m\u001b[0m\n\u001b[0;32m----> 2\u001b[0;31m \u001b[0mresult3\u001b[0m \u001b[0;34m=\u001b[0m \u001b[0mnp\u001b[0m\u001b[0;34m.\u001b[0m\u001b[0marray\u001b[0m\u001b[0;34m(\u001b[0m\u001b[0;34m[\u001b[0m\u001b[0;36m0\u001b[0m\u001b[0;34m,\u001b[0m \u001b[0;34m[\u001b[0m\u001b[0;36m1\u001b[0m\u001b[0;34m,\u001b[0m\u001b[0;36m1\u001b[0m\u001b[0;34m]\u001b[0m\u001b[0;34m,\u001b[0m \u001b[0;36m2\u001b[0m\u001b[0;34m,\u001b[0m \u001b[0;36m4\u001b[0m\u001b[0;34m,\u001b[0m \u001b[0;36m5\u001b[0m\u001b[0;34m]\u001b[0m\u001b[0;34m)\u001b[0m\u001b[0;34m\u001b[0m\u001b[0m\n\u001b[0m\u001b[1;32m      3\u001b[0m \u001b[0;31m#result3[result3==1] = [1,2]\u001b[0m\u001b[0;34m\u001b[0m\u001b[0;34m\u001b[0m\u001b[0m\n",
        "\u001b[0;31mValueError\u001b[0m: setting an array element with a sequence."
       ]
      }
     ],
     "prompt_number": 99
    },
    {
     "cell_type": "code",
     "collapsed": false,
     "input": [
      "result3"
     ],
     "language": "python",
     "metadata": {},
     "outputs": [
      {
       "metadata": {},
       "output_type": "pyout",
       "prompt_number": 100,
       "text": [
        "array([0, 1, 2, 4, 5])"
       ]
      }
     ],
     "prompt_number": 100
    },
    {
     "cell_type": "code",
     "collapsed": false,
     "input": [
      "test = np.array(10 * ([1,0]))"
     ],
     "language": "python",
     "metadata": {},
     "outputs": [],
     "prompt_number": 47
    },
    {
     "cell_type": "code",
     "collapsed": false,
     "input": [
      "test.reshape(10,2)"
     ],
     "language": "python",
     "metadata": {},
     "outputs": [
      {
       "metadata": {},
       "output_type": "pyout",
       "prompt_number": 49,
       "text": [
        "array([[1, 0],\n",
        "       [1, 0],\n",
        "       [1, 0],\n",
        "       [1, 0],\n",
        "       [1, 0],\n",
        "       [1, 0],\n",
        "       [1, 0],\n",
        "       [1, 0],\n",
        "       [1, 0],\n",
        "       [1, 0]])"
       ]
      }
     ],
     "prompt_number": 49
    },
    {
     "cell_type": "code",
     "collapsed": false,
     "input": [
      "def binarize(num):\n",
      "    if num == 0:\n",
      "        return [1,0]\n",
      "    else:\n",
      "        return [0,1]"
     ],
     "language": "python",
     "metadata": {},
     "outputs": [],
     "prompt_number": 27
    },
    {
     "cell_type": "code",
     "collapsed": false,
     "input": [
      "np.apply_along_axis(binarize,0,result)"
     ],
     "language": "python",
     "metadata": {},
     "outputs": [
      {
       "ename": "ValueError",
       "evalue": "The truth value of an array with more than one element is ambiguous. Use a.any() or a.all()",
       "output_type": "pyerr",
       "traceback": [
        "\u001b[0;31m---------------------------------------------------------------------------\u001b[0m\n\u001b[0;31mValueError\u001b[0m                                Traceback (most recent call last)",
        "\u001b[0;32m<ipython-input-33-43e2c492f806>\u001b[0m in \u001b[0;36m<module>\u001b[0;34m()\u001b[0m\n\u001b[0;32m----> 1\u001b[0;31m \u001b[0mnp\u001b[0m\u001b[0;34m.\u001b[0m\u001b[0mapply_along_axis\u001b[0m\u001b[0;34m(\u001b[0m\u001b[0mbinarize\u001b[0m\u001b[0;34m,\u001b[0m\u001b[0;36m0\u001b[0m\u001b[0;34m,\u001b[0m\u001b[0mresult\u001b[0m\u001b[0;34m)\u001b[0m\u001b[0;34m\u001b[0m\u001b[0m\n\u001b[0m",
        "\u001b[0;32m/Users/willow/anaconda/lib/python2.7/site-packages/numpy/lib/shape_base.pyc\u001b[0m in \u001b[0;36mapply_along_axis\u001b[0;34m(func1d, axis, arr, *args)\u001b[0m\n\u001b[1;32m     78\u001b[0m     \u001b[0moutshape\u001b[0m \u001b[0;34m=\u001b[0m \u001b[0masarray\u001b[0m\u001b[0;34m(\u001b[0m\u001b[0marr\u001b[0m\u001b[0;34m.\u001b[0m\u001b[0mshape\u001b[0m\u001b[0;34m)\u001b[0m\u001b[0;34m.\u001b[0m\u001b[0mtake\u001b[0m\u001b[0;34m(\u001b[0m\u001b[0mindlist\u001b[0m\u001b[0;34m)\u001b[0m\u001b[0;34m\u001b[0m\u001b[0m\n\u001b[1;32m     79\u001b[0m     \u001b[0mi\u001b[0m\u001b[0;34m.\u001b[0m\u001b[0mput\u001b[0m\u001b[0;34m(\u001b[0m\u001b[0mindlist\u001b[0m\u001b[0;34m,\u001b[0m \u001b[0mind\u001b[0m\u001b[0;34m)\u001b[0m\u001b[0;34m\u001b[0m\u001b[0m\n\u001b[0;32m---> 80\u001b[0;31m     \u001b[0mres\u001b[0m \u001b[0;34m=\u001b[0m \u001b[0mfunc1d\u001b[0m\u001b[0;34m(\u001b[0m\u001b[0marr\u001b[0m\u001b[0;34m[\u001b[0m\u001b[0mtuple\u001b[0m\u001b[0;34m(\u001b[0m\u001b[0mi\u001b[0m\u001b[0;34m.\u001b[0m\u001b[0mtolist\u001b[0m\u001b[0;34m(\u001b[0m\u001b[0;34m)\u001b[0m\u001b[0;34m)\u001b[0m\u001b[0;34m]\u001b[0m\u001b[0;34m,\u001b[0m\u001b[0;34m*\u001b[0m\u001b[0margs\u001b[0m\u001b[0;34m)\u001b[0m\u001b[0;34m\u001b[0m\u001b[0m\n\u001b[0m\u001b[1;32m     81\u001b[0m     \u001b[0;31m#  if res is a number, then we have a smaller output array\u001b[0m\u001b[0;34m\u001b[0m\u001b[0;34m\u001b[0m\u001b[0m\n\u001b[1;32m     82\u001b[0m     \u001b[0;32mif\u001b[0m \u001b[0misscalar\u001b[0m\u001b[0;34m(\u001b[0m\u001b[0mres\u001b[0m\u001b[0;34m)\u001b[0m\u001b[0;34m:\u001b[0m\u001b[0;34m\u001b[0m\u001b[0m\n",
        "\u001b[0;32m<ipython-input-27-4fdd17a15d8e>\u001b[0m in \u001b[0;36mbinarize\u001b[0;34m(num)\u001b[0m\n\u001b[1;32m      1\u001b[0m \u001b[0;32mdef\u001b[0m \u001b[0mbinarize\u001b[0m\u001b[0;34m(\u001b[0m\u001b[0mnum\u001b[0m\u001b[0;34m)\u001b[0m\u001b[0;34m:\u001b[0m\u001b[0;34m\u001b[0m\u001b[0m\n\u001b[0;32m----> 2\u001b[0;31m     \u001b[0;32mif\u001b[0m \u001b[0mnum\u001b[0m \u001b[0;34m==\u001b[0m \u001b[0;36m0\u001b[0m\u001b[0;34m:\u001b[0m\u001b[0;34m\u001b[0m\u001b[0m\n\u001b[0m\u001b[1;32m      3\u001b[0m         \u001b[0;32mreturn\u001b[0m \u001b[0;34m[\u001b[0m\u001b[0;36m1\u001b[0m\u001b[0;34m,\u001b[0m\u001b[0;36m0\u001b[0m\u001b[0;34m]\u001b[0m\u001b[0;34m\u001b[0m\u001b[0m\n\u001b[1;32m      4\u001b[0m     \u001b[0;32melse\u001b[0m\u001b[0;34m:\u001b[0m\u001b[0;34m\u001b[0m\u001b[0m\n\u001b[1;32m      5\u001b[0m         \u001b[0;32mreturn\u001b[0m \u001b[0;34m[\u001b[0m\u001b[0;36m0\u001b[0m\u001b[0;34m,\u001b[0m\u001b[0;36m1\u001b[0m\u001b[0;34m]\u001b[0m\u001b[0;34m\u001b[0m\u001b[0m\n",
        "\u001b[0;31mValueError\u001b[0m: The truth value of an array with more than one element is ambiguous. Use a.any() or a.all()"
       ]
      }
     ],
     "prompt_number": 33
    },
    {
     "cell_type": "code",
     "collapsed": false,
     "input": [
      "ans = np.dstack((result, result2))"
     ],
     "language": "python",
     "metadata": {},
     "outputs": [
      {
       "ename": "ValueError",
       "evalue": "all the input array dimensions except for the concatenation axis must match exactly",
       "output_type": "pyerr",
       "traceback": [
        "\u001b[0;31m---------------------------------------------------------------------------\u001b[0m\n\u001b[0;31mValueError\u001b[0m                                Traceback (most recent call last)",
        "\u001b[0;32m<ipython-input-303-85a74dc9d319>\u001b[0m in \u001b[0;36m<module>\u001b[0;34m()\u001b[0m\n\u001b[0;32m----> 1\u001b[0;31m \u001b[0mans\u001b[0m \u001b[0;34m=\u001b[0m \u001b[0mnp\u001b[0m\u001b[0;34m.\u001b[0m\u001b[0mdstack\u001b[0m\u001b[0;34m(\u001b[0m\u001b[0;34m(\u001b[0m\u001b[0mresult\u001b[0m\u001b[0;34m,\u001b[0m \u001b[0mresult2\u001b[0m\u001b[0;34m)\u001b[0m\u001b[0;34m)\u001b[0m\u001b[0;34m\u001b[0m\u001b[0m\n\u001b[0m",
        "\u001b[0;32m/Users/willow/anaconda/lib/python2.7/site-packages/numpy/lib/shape_base.pyc\u001b[0m in \u001b[0;36mdstack\u001b[0;34m(tup)\u001b[0m\n\u001b[1;32m    344\u001b[0m \u001b[0;34m\u001b[0m\u001b[0m\n\u001b[1;32m    345\u001b[0m     \"\"\"\n\u001b[0;32m--> 346\u001b[0;31m     \u001b[0;32mreturn\u001b[0m \u001b[0m_nx\u001b[0m\u001b[0;34m.\u001b[0m\u001b[0mconcatenate\u001b[0m\u001b[0;34m(\u001b[0m\u001b[0mmap\u001b[0m\u001b[0;34m(\u001b[0m\u001b[0matleast_3d\u001b[0m\u001b[0;34m,\u001b[0m\u001b[0mtup\u001b[0m\u001b[0;34m)\u001b[0m\u001b[0;34m,\u001b[0m\u001b[0;36m2\u001b[0m\u001b[0;34m)\u001b[0m\u001b[0;34m\u001b[0m\u001b[0m\n\u001b[0m\u001b[1;32m    347\u001b[0m \u001b[0;34m\u001b[0m\u001b[0m\n\u001b[1;32m    348\u001b[0m \u001b[0;32mdef\u001b[0m \u001b[0m_replace_zero_by_x_arrays\u001b[0m\u001b[0;34m(\u001b[0m\u001b[0msub_arys\u001b[0m\u001b[0;34m)\u001b[0m\u001b[0;34m:\u001b[0m\u001b[0;34m\u001b[0m\u001b[0m\n",
        "\u001b[0;31mValueError\u001b[0m: all the input array dimensions except for the concatenation axis must match exactly"
       ]
      }
     ],
     "prompt_number": 303
    },
    {
     "cell_type": "code",
     "collapsed": false,
     "input": [
      "random.shuffle(ans)"
     ],
     "language": "python",
     "metadata": {},
     "outputs": [],
     "prompt_number": 307
    },
    {
     "cell_type": "code",
     "collapsed": false,
     "input": [
      "pics, labels = zip(*ans)"
     ],
     "language": "python",
     "metadata": {},
     "outputs": [],
     "prompt_number": 308
    },
    {
     "cell_type": "code",
     "collapsed": false,
     "input": [
      "pics, labels = labels, pics"
     ],
     "language": "python",
     "metadata": {},
     "outputs": [],
     "prompt_number": 309
    },
    {
     "cell_type": "code",
     "collapsed": false,
     "input": [
      "labels"
     ],
     "language": "python",
     "metadata": {},
     "outputs": [
      {
       "metadata": {},
       "output_type": "pyout",
       "prompt_number": 310,
       "text": [
        "(0, 1, 1, 1, 0, 0, 0, 1, 0, 1)"
       ]
      }
     ],
     "prompt_number": 310
    },
    {
     "cell_type": "code",
     "collapsed": false,
     "input": [
      "show_img(pics[-1])"
     ],
     "language": "python",
     "metadata": {},
     "outputs": [],
     "prompt_number": 311
    },
    {
     "cell_type": "code",
     "collapsed": false,
     "input": [
      "dbn = DBN.DBN(input=pics, label=labels, n_ins=784, hidden_layer_sizes=[500, 250, 100], n_outs=10, numpy_rng=None)"
     ],
     "language": "python",
     "metadata": {},
     "outputs": [
      {
       "ename": "NameError",
       "evalue": "name 'DBN' is not defined",
       "output_type": "pyerr",
       "traceback": [
        "\u001b[0;31m---------------------------------------------------------------------------\u001b[0m\n\u001b[0;31mNameError\u001b[0m                                 Traceback (most recent call last)",
        "\u001b[0;32m<ipython-input-350-be1bc716fd11>\u001b[0m in \u001b[0;36m<module>\u001b[0;34m()\u001b[0m\n\u001b[0;32m----> 1\u001b[0;31m \u001b[0mdbn\u001b[0m \u001b[0;34m=\u001b[0m \u001b[0mDBN\u001b[0m\u001b[0;34m.\u001b[0m\u001b[0mDBN\u001b[0m\u001b[0;34m(\u001b[0m\u001b[0minput\u001b[0m\u001b[0;34m=\u001b[0m\u001b[0mpics\u001b[0m\u001b[0;34m,\u001b[0m \u001b[0mlabel\u001b[0m\u001b[0;34m=\u001b[0m\u001b[0mlabels\u001b[0m\u001b[0;34m,\u001b[0m \u001b[0mn_ins\u001b[0m\u001b[0;34m=\u001b[0m\u001b[0;36m784\u001b[0m\u001b[0;34m,\u001b[0m \u001b[0mhidden_layer_sizes\u001b[0m\u001b[0;34m=\u001b[0m\u001b[0;34m[\u001b[0m\u001b[0;36m500\u001b[0m\u001b[0;34m,\u001b[0m \u001b[0;36m250\u001b[0m\u001b[0;34m,\u001b[0m \u001b[0;36m100\u001b[0m\u001b[0;34m]\u001b[0m\u001b[0;34m,\u001b[0m \u001b[0mn_outs\u001b[0m\u001b[0;34m=\u001b[0m\u001b[0;36m10\u001b[0m\u001b[0;34m,\u001b[0m \u001b[0mnumpy_rng\u001b[0m\u001b[0;34m=\u001b[0m\u001b[0mNone\u001b[0m\u001b[0;34m)\u001b[0m\u001b[0;34m\u001b[0m\u001b[0m\n\u001b[0m",
        "\u001b[0;31mNameError\u001b[0m: name 'DBN' is not defined"
       ]
      }
     ],
     "prompt_number": 350
    },
    {
     "cell_type": "code",
     "collapsed": false,
     "input": [
      "from DeepLearning.python import DBN"
     ],
     "language": "python",
     "metadata": {},
     "outputs": [],
     "prompt_number": 359
    },
    {
     "cell_type": "code",
     "collapsed": false,
     "input": [
      "dbn = main()"
     ],
     "language": "python",
     "metadata": {},
     "outputs": [
      {
       "output_type": "stream",
       "stream": "stdout",
       "text": [
        "y_sample [[1 0 0 0 0 0 0 0 0 0]\n",
        " [1 0 0 0 0 0 0 0 0 0]\n",
        " [1 0 0 0 0 0 0 0 0 0]\n",
        " [1 0 0 0 0 0 0 0 0 0]\n",
        " [1 0 0 0 0 0 0 0 0 0]\n",
        " [1 0 0 0 0 0 0 0 0 0]\n",
        " [1 0 0 0 0 0 0 0 0 0]\n",
        " [1 0 0 0 0 0 0 0 0 0]\n",
        " [1 0 0 0 0 0 0 0 0 0]\n",
        " [1 0 0 0 0 0 0 0 0 0]\n",
        " [0 1 0 0 0 0 0 0 0 0]\n",
        " [0 1 0 0 0 0 0 0 0 0]\n",
        " [0 1 0 0 0 0 0 0 0 0]\n",
        " [0 1 0 0 0 0 0 0 0 0]\n",
        " [0 1 0 0 0 0 0 0 0 0]\n",
        " [0 1 0 0 0 0 0 0 0 0]\n",
        " [0 1 0 0 0 0 0 0 0 0]\n",
        " [0 1 0 0 0 0 0 0 0 0]\n",
        " [0 1 0 0 0 0 0 0 0 0]\n",
        " [0 1 0 0 0 0 0 0 0 0]]\n"
       ]
      }
     ],
     "prompt_number": 115
    },
    {
     "cell_type": "code",
     "collapsed": false,
     "input": [
      "dbn"
     ],
     "language": "python",
     "metadata": {},
     "outputs": [
      {
       "metadata": {},
       "output_type": "pyout",
       "prompt_number": 116,
       "text": [
        "<DeepLearning.python.DBN.DBN at 0x10394b2d0>"
       ]
      }
     ],
     "prompt_number": 116
    },
    {
     "cell_type": "code",
     "collapsed": false,
     "input": [
      "# test neural net\n",
      "start = time.time()\n",
      "dbn.pretrain(lr=0.0035, epochs=5000)\n",
      "print time.time() - start"
     ],
     "language": "python",
     "metadata": {},
     "outputs": [
      {
       "output_type": "stream",
       "stream": "stdout",
       "text": [
        "145.749346972\n"
       ]
      }
     ],
     "prompt_number": 117
    },
    {
     "cell_type": "code",
     "collapsed": false,
     "input": [
      "dbn.finetune(lr=.001, epochs=5000)"
     ],
     "language": "python",
     "metadata": {},
     "outputs": [],
     "prompt_number": 118
    },
    {
     "cell_type": "code",
     "collapsed": false,
     "input": [
      "len(test_set[1])"
     ],
     "language": "python",
     "metadata": {},
     "outputs": [
      {
       "metadata": {},
       "output_type": "pyout",
       "prompt_number": 125,
       "text": [
        "10000"
       ]
      }
     ],
     "prompt_number": 125
    },
    {
     "cell_type": "code",
     "collapsed": false,
     "input": [
      "pics_test, labels_test = create_sample(test_set, 50)"
     ],
     "language": "python",
     "metadata": {},
     "outputs": [],
     "prompt_number": 130
    },
    {
     "cell_type": "code",
     "collapsed": false,
     "input": [
      "dbn.predict(pics_test)"
     ],
     "language": "python",
     "metadata": {},
     "outputs": [
      {
       "metadata": {},
       "output_type": "pyout",
       "prompt_number": 131,
       "text": [
        "array([[ 0.45930323,  0.27310835,  0.03344855,  0.03344855,  0.03344855,\n",
        "         0.03344855,  0.03344855,  0.03344855,  0.03344855,  0.03344855],\n",
        "       [ 0.28302917,  0.24726314,  0.05871346,  0.05871346,  0.05871346,\n",
        "         0.05871346,  0.05871346,  0.05871346,  0.05871346,  0.05871346],\n",
        "       [ 0.47964858,  0.35584313,  0.02056354,  0.02056354,  0.02056354,\n",
        "         0.02056354,  0.02056354,  0.02056354,  0.02056354,  0.02056354],\n",
        "       [ 0.24852935,  0.26646666,  0.0606255 ,  0.0606255 ,  0.0606255 ,\n",
        "         0.0606255 ,  0.0606255 ,  0.0606255 ,  0.0606255 ,  0.0606255 ],\n",
        "       [ 0.25815148,  0.23397744,  0.06348388,  0.06348388,  0.06348388,\n",
        "         0.06348388,  0.06348388,  0.06348388,  0.06348388,  0.06348388],\n",
        "       [ 0.26807778,  0.2231352 ,  0.06359838,  0.06359838,  0.06359838,\n",
        "         0.06359838,  0.06359838,  0.06359838,  0.06359838,  0.06359838],\n",
        "       [ 0.24461284,  0.25494267,  0.06255556,  0.06255556,  0.06255556,\n",
        "         0.06255556,  0.06255556,  0.06255556,  0.06255556,  0.06255556],\n",
        "       [ 0.25293924,  0.26355885,  0.06043774,  0.06043774,  0.06043774,\n",
        "         0.06043774,  0.06043774,  0.06043774,  0.06043774,  0.06043774],\n",
        "       [ 0.24387872,  0.21992241,  0.06702486,  0.06702486,  0.06702486,\n",
        "         0.06702486,  0.06702486,  0.06702486,  0.06702486,  0.06702486],\n",
        "       [ 0.24373541,  0.21961368,  0.06708136,  0.06708136,  0.06708136,\n",
        "         0.06708136,  0.06708136,  0.06708136,  0.06708136,  0.06708136],\n",
        "       [ 0.37693102,  0.30301554,  0.04000668,  0.04000668,  0.04000668,\n",
        "         0.04000668,  0.04000668,  0.04000668,  0.04000668,  0.04000668],\n",
        "       [ 0.37000695,  0.32140617,  0.03857336,  0.03857336,  0.03857336,\n",
        "         0.03857336,  0.03857336,  0.03857336,  0.03857336,  0.03857336],\n",
        "       [ 0.45655313,  0.27105049,  0.03404955,  0.03404955,  0.03404955,\n",
        "         0.03404955,  0.03404955,  0.03404955,  0.03404955,  0.03404955],\n",
        "       [ 0.39603573,  0.29424321,  0.03871513,  0.03871513,  0.03871513,\n",
        "         0.03871513,  0.03871513,  0.03871513,  0.03871513,  0.03871513],\n",
        "       [ 0.22940219,  0.24645639,  0.06551768,  0.06551768,  0.06551768,\n",
        "         0.06551768,  0.06551768,  0.06551768,  0.06551768,  0.06551768],\n",
        "       [ 0.46805081,  0.36034052,  0.02145108,  0.02145108,  0.02145108,\n",
        "         0.02145108,  0.02145108,  0.02145108,  0.02145108,  0.02145108],\n",
        "       [ 0.2603539 ,  0.22313614,  0.06456374,  0.06456374,  0.06456374,\n",
        "         0.06456374,  0.06456374,  0.06456374,  0.06456374,  0.06456374],\n",
        "       [ 0.2684193 ,  0.22316288,  0.06355223,  0.06355223,  0.06355223,\n",
        "         0.06355223,  0.06355223,  0.06355223,  0.06355223,  0.06355223],\n",
        "       [ 0.40957224,  0.32303257,  0.0334244 ,  0.0334244 ,  0.0334244 ,\n",
        "         0.0334244 ,  0.0334244 ,  0.0334244 ,  0.0334244 ,  0.0334244 ],\n",
        "       [ 0.25669035,  0.25501145,  0.06103727,  0.06103727,  0.06103727,\n",
        "         0.06103727,  0.06103727,  0.06103727,  0.06103727,  0.06103727],\n",
        "       [ 0.24375784,  0.21979372,  0.06705605,  0.06705605,  0.06705605,\n",
        "         0.06705605,  0.06705605,  0.06705605,  0.06705605,  0.06705605],\n",
        "       [ 0.48748725,  0.3508357 ,  0.02020963,  0.02020963,  0.02020963,\n",
        "         0.02020963,  0.02020963,  0.02020963,  0.02020963,  0.02020963],\n",
        "       [ 0.48413573,  0.35194258,  0.02049021,  0.02049021,  0.02049021,\n",
        "         0.02049021,  0.02049021,  0.02049021,  0.02049021,  0.02049021],\n",
        "       [ 0.26878394,  0.24480418,  0.06080149,  0.06080149,  0.06080149,\n",
        "         0.06080149,  0.06080149,  0.06080149,  0.06080149,  0.06080149],\n",
        "       [ 0.26870748,  0.22311528,  0.06352215,  0.06352215,  0.06352215,\n",
        "         0.06352215,  0.06352215,  0.06352215,  0.06352215,  0.06352215],\n",
        "       [ 0.2682163 ,  0.24418395,  0.06094997,  0.06094997,  0.06094997,\n",
        "         0.06094997,  0.06094997,  0.06094997,  0.06094997,  0.06094997],\n",
        "       [ 0.32713416,  0.28763492,  0.04815386,  0.04815386,  0.04815386,\n",
        "         0.04815386,  0.04815386,  0.04815386,  0.04815386,  0.04815386],\n",
        "       [ 0.39858788,  0.31116619,  0.03628074,  0.03628074,  0.03628074,\n",
        "         0.03628074,  0.03628074,  0.03628074,  0.03628074,  0.03628074],\n",
        "       [ 0.26857302,  0.22311255,  0.0635393 ,  0.0635393 ,  0.0635393 ,\n",
        "         0.0635393 ,  0.0635393 ,  0.0635393 ,  0.0635393 ,  0.0635393 ],\n",
        "       [ 0.24398232,  0.22001886,  0.06699985,  0.06699985,  0.06699985,\n",
        "         0.06699985,  0.06699985,  0.06699985,  0.06699985,  0.06699985],\n",
        "       [ 0.25522094,  0.23211327,  0.06408322,  0.06408322,  0.06408322,\n",
        "         0.06408322,  0.06408322,  0.06408322,  0.06408322,  0.06408322],\n",
        "       [ 0.2870136 ,  0.2432008 ,  0.0587232 ,  0.0587232 ,  0.0587232 ,\n",
        "         0.0587232 ,  0.0587232 ,  0.0587232 ,  0.0587232 ,  0.0587232 ],\n",
        "       [ 0.47542977,  0.35641613,  0.02101926,  0.02101926,  0.02101926,\n",
        "         0.02101926,  0.02101926,  0.02101926,  0.02101926,  0.02101926],\n",
        "       [ 0.47929532,  0.35587715,  0.02060344,  0.02060344,  0.02060344,\n",
        "         0.02060344,  0.02060344,  0.02060344,  0.02060344,  0.02060344],\n",
        "       [ 0.2478159 ,  0.22956241,  0.06532771,  0.06532771,  0.06532771,\n",
        "         0.06532771,  0.06532771,  0.06532771,  0.06532771,  0.06532771],\n",
        "       [ 0.43401781,  0.33148007,  0.02931276,  0.02931276,  0.02931276,\n",
        "         0.02931276,  0.02931276,  0.02931276,  0.02931276,  0.02931276],\n",
        "       [ 0.38902688,  0.31369589,  0.03715965,  0.03715965,  0.03715965,\n",
        "         0.03715965,  0.03715965,  0.03715965,  0.03715965,  0.03715965],\n",
        "       [ 0.47582317,  0.35636683,  0.02097625,  0.02097625,  0.02097625,\n",
        "         0.02097625,  0.02097625,  0.02097625,  0.02097625,  0.02097625],\n",
        "       [ 0.47855255,  0.35598602,  0.02068268,  0.02068268,  0.02068268,\n",
        "         0.02068268,  0.02068268,  0.02068268,  0.02068268,  0.02068268],\n",
        "       [ 0.39369475,  0.29284638,  0.03918236,  0.03918236,  0.03918236,\n",
        "         0.03918236,  0.03918236,  0.03918236,  0.03918236,  0.03918236],\n",
        "       [ 0.36995685,  0.32141449,  0.03857858,  0.03857858,  0.03857858,\n",
        "         0.03857858,  0.03857858,  0.03857858,  0.03857858,  0.03857858],\n",
        "       [ 0.37019111,  0.32133819,  0.03855884,  0.03855884,  0.03855884,\n",
        "         0.03855884,  0.03855884,  0.03855884,  0.03855884,  0.03855884],\n",
        "       [ 0.2504241 ,  0.22986167,  0.06496428,  0.06496428,  0.06496428,\n",
        "         0.06496428,  0.06496428,  0.06496428,  0.06496428,  0.06496428],\n",
        "       [ 0.25514139,  0.2262291 ,  0.06482869,  0.06482869,  0.06482869,\n",
        "         0.06482869,  0.06482869,  0.06482869,  0.06482869,  0.06482869],\n",
        "       [ 0.28552277,  0.24688817,  0.05844863,  0.05844863,  0.05844863,\n",
        "         0.05844863,  0.05844863,  0.05844863,  0.05844863,  0.05844863],\n",
        "       [ 0.26833407,  0.22306223,  0.06357546,  0.06357546,  0.06357546,\n",
        "         0.06357546,  0.06357546,  0.06357546,  0.06357546,  0.06357546],\n",
        "       [ 0.24745193,  0.2550577 ,  0.0621863 ,  0.0621863 ,  0.0621863 ,\n",
        "         0.0621863 ,  0.0621863 ,  0.0621863 ,  0.0621863 ,  0.0621863 ],\n",
        "       [ 0.26394245,  0.22416969,  0.06398598,  0.06398598,  0.06398598,\n",
        "         0.06398598,  0.06398598,  0.06398598,  0.06398598,  0.06398598],\n",
        "       [ 0.47693206,  0.33207922,  0.02387359,  0.02387359,  0.02387359,\n",
        "         0.02387359,  0.02387359,  0.02387359,  0.02387359,  0.02387359],\n",
        "       [ 0.37001317,  0.32154325,  0.03855545,  0.03855545,  0.03855545,\n",
        "         0.03855545,  0.03855545,  0.03855545,  0.03855545,  0.03855545],\n",
        "       [ 0.39057256,  0.31705442,  0.03654663,  0.03654663,  0.03654663,\n",
        "         0.03654663,  0.03654663,  0.03654663,  0.03654663,  0.03654663],\n",
        "       [ 0.35056929,  0.30766882,  0.04272024,  0.04272024,  0.04272024,\n",
        "         0.04272024,  0.04272024,  0.04272024,  0.04272024,  0.04272024],\n",
        "       [ 0.38999082,  0.29646061,  0.03919357,  0.03919357,  0.03919357,\n",
        "         0.03919357,  0.03919357,  0.03919357,  0.03919357,  0.03919357],\n",
        "       [ 0.47968039,  0.3558235 ,  0.02056201,  0.02056201,  0.02056201,\n",
        "         0.02056201,  0.02056201,  0.02056201,  0.02056201,  0.02056201],\n",
        "       [ 0.26869346,  0.22312391,  0.06352283,  0.06352283,  0.06352283,\n",
        "         0.06352283,  0.06352283,  0.06352283,  0.06352283,  0.06352283],\n",
        "       [ 0.21419725,  0.2319859 ,  0.06922711,  0.06922711,  0.06922711,\n",
        "         0.06922711,  0.06922711,  0.06922711,  0.06922711,  0.06922711],\n",
        "       [ 0.22340425,  0.24157549,  0.06687753,  0.06687753,  0.06687753,\n",
        "         0.06687753,  0.06687753,  0.06687753,  0.06687753,  0.06687753],\n",
        "       [ 0.47498338,  0.35647963,  0.02106712,  0.02106712,  0.02106712,\n",
        "         0.02106712,  0.02106712,  0.02106712,  0.02106712,  0.02106712],\n",
        "       [ 0.2485366 ,  0.23007673,  0.06517333,  0.06517333,  0.06517333,\n",
        "         0.06517333,  0.06517333,  0.06517333,  0.06517333,  0.06517333],\n",
        "       [ 0.24787034,  0.2295777 ,  0.06531899,  0.06531899,  0.06531899,\n",
        "         0.06531899,  0.06531899,  0.06531899,  0.06531899,  0.06531899],\n",
        "       [ 0.47965734,  0.35582654,  0.02056451,  0.02056451,  0.02056451,\n",
        "         0.02056451,  0.02056451,  0.02056451,  0.02056451,  0.02056451],\n",
        "       [ 0.26864718,  0.2231141 ,  0.06352984,  0.06352984,  0.06352984,\n",
        "         0.06352984,  0.06352984,  0.06352984,  0.06352984,  0.06352984],\n",
        "       [ 0.26876625,  0.24175073,  0.06118538,  0.06118538,  0.06118538,\n",
        "         0.06118538,  0.06118538,  0.06118538,  0.06118538,  0.06118538],\n",
        "       [ 0.47933186,  0.35587308,  0.02059938,  0.02059938,  0.02059938,\n",
        "         0.02059938,  0.02059938,  0.02059938,  0.02059938,  0.02059938],\n",
        "       [ 0.29271579,  0.28334192,  0.05299279,  0.05299279,  0.05299279,\n",
        "         0.05299279,  0.05299279,  0.05299279,  0.05299279,  0.05299279],\n",
        "       [ 0.22474835,  0.24360582,  0.06645573,  0.06645573,  0.06645573,\n",
        "         0.06645573,  0.06645573,  0.06645573,  0.06645573,  0.06645573],\n",
        "       [ 0.47914922,  0.35610047,  0.02059379,  0.02059379,  0.02059379,\n",
        "         0.02059379,  0.02059379,  0.02059379,  0.02059379,  0.02059379],\n",
        "       [ 0.28114866,  0.25031529,  0.05856701,  0.05856701,  0.05856701,\n",
        "         0.05856701,  0.05856701,  0.05856701,  0.05856701,  0.05856701],\n",
        "       [ 0.38801214,  0.31543089,  0.03706962,  0.03706962,  0.03706962,\n",
        "         0.03706962,  0.03706962,  0.03706962,  0.03706962,  0.03706962],\n",
        "       [ 0.25301832,  0.23275616,  0.06427819,  0.06427819,  0.06427819,\n",
        "         0.06427819,  0.06427819,  0.06427819,  0.06427819,  0.06427819],\n",
        "       [ 0.40033394,  0.28877289,  0.03886165,  0.03886165,  0.03886165,\n",
        "         0.03886165,  0.03886165,  0.03886165,  0.03886165,  0.03886165],\n",
        "       [ 0.50202891,  0.32307787,  0.02186165,  0.02186165,  0.02186165,\n",
        "         0.02186165,  0.02186165,  0.02186165,  0.02186165,  0.02186165],\n",
        "       [ 0.24997847,  0.25426064,  0.06197011,  0.06197011,  0.06197011,\n",
        "         0.06197011,  0.06197011,  0.06197011,  0.06197011,  0.06197011],\n",
        "       [ 0.3804892 ,  0.31823683,  0.03765925,  0.03765925,  0.03765925,\n",
        "         0.03765925,  0.03765925,  0.03765925,  0.03765925,  0.03765925],\n",
        "       [ 0.29726691,  0.28355767,  0.05239693,  0.05239693,  0.05239693,\n",
        "         0.05239693,  0.05239693,  0.05239693,  0.05239693,  0.05239693],\n",
        "       [ 0.39701806,  0.31154797,  0.03642925,  0.03642925,  0.03642925,\n",
        "         0.03642925,  0.03642925,  0.03642925,  0.03642925,  0.03642925],\n",
        "       [ 0.26819473,  0.22306247,  0.06359285,  0.06359285,  0.06359285,\n",
        "         0.06359285,  0.06359285,  0.06359285,  0.06359285,  0.06359285],\n",
        "       [ 0.44982092,  0.27797967,  0.03402493,  0.03402493,  0.03402493,\n",
        "         0.03402493,  0.03402493,  0.03402493,  0.03402493,  0.03402493],\n",
        "       [ 0.23990393,  0.22422924,  0.06698335,  0.06698335,  0.06698335,\n",
        "         0.06698335,  0.06698335,  0.06698335,  0.06698335,  0.06698335],\n",
        "       [ 0.25805673,  0.25779178,  0.06051894,  0.06051894,  0.06051894,\n",
        "         0.06051894,  0.06051894,  0.06051894,  0.06051894,  0.06051894],\n",
        "       [ 0.40855789,  0.32286115,  0.03357262,  0.03357262,  0.03357262,\n",
        "         0.03357262,  0.03357262,  0.03357262,  0.03357262,  0.03357262],\n",
        "       [ 0.41821677,  0.31026777,  0.03393943,  0.03393943,  0.03393943,\n",
        "         0.03393943,  0.03393943,  0.03393943,  0.03393943,  0.03393943],\n",
        "       [ 0.45122723,  0.3131621 ,  0.02945133,  0.02945133,  0.02945133,\n",
        "         0.02945133,  0.02945133,  0.02945133,  0.02945133,  0.02945133],\n",
        "       [ 0.36995941,  0.3214143 ,  0.03857829,  0.03857829,  0.03857829,\n",
        "         0.03857829,  0.03857829,  0.03857829,  0.03857829,  0.03857829],\n",
        "       [ 0.21701124,  0.23460835,  0.06854755,  0.06854755,  0.06854755,\n",
        "         0.06854755,  0.06854755,  0.06854755,  0.06854755,  0.06854755],\n",
        "       [ 0.24792474,  0.22962394,  0.06530642,  0.06530642,  0.06530642,\n",
        "         0.06530642,  0.06530642,  0.06530642,  0.06530642,  0.06530642],\n",
        "       [ 0.24393324,  0.21998019,  0.06701082,  0.06701082,  0.06701082,\n",
        "         0.06701082,  0.06701082,  0.06701082,  0.06701082,  0.06701082],\n",
        "       [ 0.4728621 ,  0.35665373,  0.02131052,  0.02131052,  0.02131052,\n",
        "         0.02131052,  0.02131052,  0.02131052,  0.02131052,  0.02131052],\n",
        "       [ 0.47950306,  0.35585002,  0.02058086,  0.02058086,  0.02058086,\n",
        "         0.02058086,  0.02058086,  0.02058086,  0.02058086,  0.02058086],\n",
        "       [ 0.37224569,  0.32056791,  0.0383983 ,  0.0383983 ,  0.0383983 ,\n",
        "         0.0383983 ,  0.0383983 ,  0.0383983 ,  0.0383983 ,  0.0383983 ],\n",
        "       [ 0.49557873,  0.32325529,  0.02264575,  0.02264575,  0.02264575,\n",
        "         0.02264575,  0.02264575,  0.02264575,  0.02264575,  0.02264575],\n",
        "       [ 0.39600432,  0.31234705,  0.03645608,  0.03645608,  0.03645608,\n",
        "         0.03645608,  0.03645608,  0.03645608,  0.03645608,  0.03645608],\n",
        "       [ 0.2438798 ,  0.21992534,  0.06702436,  0.06702436,  0.06702436,\n",
        "         0.06702436,  0.06702436,  0.06702436,  0.06702436,  0.06702436],\n",
        "       [ 0.24392697,  0.21996907,  0.067013  ,  0.067013  ,  0.067013  ,\n",
        "         0.067013  ,  0.067013  ,  0.067013  ,  0.067013  ,  0.067013  ],\n",
        "       [ 0.3858497 ,  0.30725127,  0.03836238,  0.03836238,  0.03836238,\n",
        "         0.03836238,  0.03836238,  0.03836238,  0.03836238,  0.03836238],\n",
        "       [ 0.43650853,  0.28242867,  0.03513285,  0.03513285,  0.03513285,\n",
        "         0.03513285,  0.03513285,  0.03513285,  0.03513285,  0.03513285],\n",
        "       [ 0.24823187,  0.22966915,  0.06526237,  0.06526237,  0.06526237,\n",
        "         0.06526237,  0.06526237,  0.06526237,  0.06526237,  0.06526237],\n",
        "       [ 0.36996311,  0.32141363,  0.03857791,  0.03857791,  0.03857791,\n",
        "         0.03857791,  0.03857791,  0.03857791,  0.03857791,  0.03857791],\n",
        "       [ 0.40296953,  0.30835699,  0.03608419,  0.03608419,  0.03608419,\n",
        "         0.03608419,  0.03608419,  0.03608419,  0.03608419,  0.03608419],\n",
        "       [ 0.26530358,  0.22304978,  0.06395583,  0.06395583,  0.06395583,\n",
        "         0.06395583,  0.06395583,  0.06395583,  0.06395583,  0.06395583]])"
       ]
      }
     ],
     "prompt_number": 131
    },
    {
     "cell_type": "markdown",
     "metadata": {},
     "source": [
      "Accuracy"
     ]
    },
    {
     "cell_type": "code",
     "collapsed": false,
     "input": [
      "sum(np.argmax(labels_test, axis=1) == np.argmax(dbn.predict(pics_test), axis=1))*1.0/len(labels_test)"
     ],
     "language": "python",
     "metadata": {},
     "outputs": [
      {
       "metadata": {},
       "output_type": "pyout",
       "prompt_number": 133,
       "text": [
        "0.59999999999999998"
       ]
      }
     ],
     "prompt_number": 133
    },
    {
     "cell_type": "markdown",
     "metadata": {},
     "source": [
      "Visually see the differences between actual and predicted labels on test"
     ]
    },
    {
     "cell_type": "code",
     "collapsed": false,
     "input": [
      "print \"Actual:\", np.argmax(labels_test, axis=1)\n",
      "print \"Predicted:\", np.argmax(dbn.predict(pics_test), axis=1)"
     ],
     "language": "python",
     "metadata": {},
     "outputs": [
      {
       "output_type": "stream",
       "stream": "stdout",
       "text": [
        "Actual: [0 1 0 1 1 1 1 1 1 1 0 0 0 0 1 0 1 1 0 1 1 0 0 1 1 1 0 0 1 1 1 1 0 0 1 0 0\n",
        " 0 0 0 0 0 1 1 1 1 1 1 0 0 0 0 0 0 1 1 1 0 1 1 0 1 1 0 1 1 0 1 0 1 0 0 1 0\n",
        " 1 0 1 0 1 1 0 0 0 0 1 1 1 0 0 0 0 0 1 1 0 0 1 0 0 1]\n",
        "Predicted: [0 0 0 1 0 0 1 1 0 0 0 0 0 0 1 0 0 0 0 0 0 0 0 0 0 0 0 0 0 0 0 0 0 0 0 0 0\n",
        " 0 0 0 0 0 0 0 0 0 1 0 0 0 0 0 0 0 0 1 1 0 0 0 0 0 0 0 0 1 0 0 0 0 0 0 1 0\n",
        " 0 0 0 0 0 0 0 0 0 0 1 0 0 0 0 0 0 0 0 0 0 0 0 0 0 0]\n"
       ]
      }
     ],
     "prompt_number": 136
    },
    {
     "cell_type": "markdown",
     "metadata": {},
     "source": [
      "Confusion Matrix - confirm predictive power of neural net"
     ]
    },
    {
     "cell_type": "code",
     "collapsed": false,
     "input": [
      "labels_test"
     ],
     "language": "python",
     "metadata": {},
     "outputs": [
      {
       "metadata": {},
       "output_type": "pyout",
       "prompt_number": 152,
       "text": [
        "(array([1, 0, 0, 0, 0, 0, 0, 0, 0, 0]),\n",
        " array([0, 1, 0, 0, 0, 0, 0, 0, 0, 0]),\n",
        " array([1, 0, 0, 0, 0, 0, 0, 0, 0, 0]),\n",
        " array([0, 1, 0, 0, 0, 0, 0, 0, 0, 0]),\n",
        " array([0, 1, 0, 0, 0, 0, 0, 0, 0, 0]),\n",
        " array([0, 1, 0, 0, 0, 0, 0, 0, 0, 0]),\n",
        " array([0, 1, 0, 0, 0, 0, 0, 0, 0, 0]),\n",
        " array([0, 1, 0, 0, 0, 0, 0, 0, 0, 0]),\n",
        " array([0, 1, 0, 0, 0, 0, 0, 0, 0, 0]),\n",
        " array([0, 1, 0, 0, 0, 0, 0, 0, 0, 0]),\n",
        " array([1, 0, 0, 0, 0, 0, 0, 0, 0, 0]),\n",
        " array([1, 0, 0, 0, 0, 0, 0, 0, 0, 0]),\n",
        " array([1, 0, 0, 0, 0, 0, 0, 0, 0, 0]),\n",
        " array([1, 0, 0, 0, 0, 0, 0, 0, 0, 0]),\n",
        " array([0, 1, 0, 0, 0, 0, 0, 0, 0, 0]),\n",
        " array([1, 0, 0, 0, 0, 0, 0, 0, 0, 0]),\n",
        " array([0, 1, 0, 0, 0, 0, 0, 0, 0, 0]),\n",
        " array([0, 1, 0, 0, 0, 0, 0, 0, 0, 0]),\n",
        " array([1, 0, 0, 0, 0, 0, 0, 0, 0, 0]),\n",
        " array([0, 1, 0, 0, 0, 0, 0, 0, 0, 0]),\n",
        " array([0, 1, 0, 0, 0, 0, 0, 0, 0, 0]),\n",
        " array([1, 0, 0, 0, 0, 0, 0, 0, 0, 0]),\n",
        " array([1, 0, 0, 0, 0, 0, 0, 0, 0, 0]),\n",
        " array([0, 1, 0, 0, 0, 0, 0, 0, 0, 0]),\n",
        " array([0, 1, 0, 0, 0, 0, 0, 0, 0, 0]),\n",
        " array([0, 1, 0, 0, 0, 0, 0, 0, 0, 0]),\n",
        " array([1, 0, 0, 0, 0, 0, 0, 0, 0, 0]),\n",
        " array([1, 0, 0, 0, 0, 0, 0, 0, 0, 0]),\n",
        " array([0, 1, 0, 0, 0, 0, 0, 0, 0, 0]),\n",
        " array([0, 1, 0, 0, 0, 0, 0, 0, 0, 0]),\n",
        " array([0, 1, 0, 0, 0, 0, 0, 0, 0, 0]),\n",
        " array([0, 1, 0, 0, 0, 0, 0, 0, 0, 0]),\n",
        " array([1, 0, 0, 0, 0, 0, 0, 0, 0, 0]),\n",
        " array([1, 0, 0, 0, 0, 0, 0, 0, 0, 0]),\n",
        " array([0, 1, 0, 0, 0, 0, 0, 0, 0, 0]),\n",
        " array([1, 0, 0, 0, 0, 0, 0, 0, 0, 0]),\n",
        " array([1, 0, 0, 0, 0, 0, 0, 0, 0, 0]),\n",
        " array([1, 0, 0, 0, 0, 0, 0, 0, 0, 0]),\n",
        " array([1, 0, 0, 0, 0, 0, 0, 0, 0, 0]),\n",
        " array([1, 0, 0, 0, 0, 0, 0, 0, 0, 0]),\n",
        " array([1, 0, 0, 0, 0, 0, 0, 0, 0, 0]),\n",
        " array([1, 0, 0, 0, 0, 0, 0, 0, 0, 0]),\n",
        " array([0, 1, 0, 0, 0, 0, 0, 0, 0, 0]),\n",
        " array([0, 1, 0, 0, 0, 0, 0, 0, 0, 0]),\n",
        " array([0, 1, 0, 0, 0, 0, 0, 0, 0, 0]),\n",
        " array([0, 1, 0, 0, 0, 0, 0, 0, 0, 0]),\n",
        " array([0, 1, 0, 0, 0, 0, 0, 0, 0, 0]),\n",
        " array([0, 1, 0, 0, 0, 0, 0, 0, 0, 0]),\n",
        " array([1, 0, 0, 0, 0, 0, 0, 0, 0, 0]),\n",
        " array([1, 0, 0, 0, 0, 0, 0, 0, 0, 0]),\n",
        " array([1, 0, 0, 0, 0, 0, 0, 0, 0, 0]),\n",
        " array([1, 0, 0, 0, 0, 0, 0, 0, 0, 0]),\n",
        " array([1, 0, 0, 0, 0, 0, 0, 0, 0, 0]),\n",
        " array([1, 0, 0, 0, 0, 0, 0, 0, 0, 0]),\n",
        " array([0, 1, 0, 0, 0, 0, 0, 0, 0, 0]),\n",
        " array([0, 1, 0, 0, 0, 0, 0, 0, 0, 0]),\n",
        " array([0, 1, 0, 0, 0, 0, 0, 0, 0, 0]),\n",
        " array([1, 0, 0, 0, 0, 0, 0, 0, 0, 0]),\n",
        " array([0, 1, 0, 0, 0, 0, 0, 0, 0, 0]),\n",
        " array([0, 1, 0, 0, 0, 0, 0, 0, 0, 0]),\n",
        " array([1, 0, 0, 0, 0, 0, 0, 0, 0, 0]),\n",
        " array([0, 1, 0, 0, 0, 0, 0, 0, 0, 0]),\n",
        " array([0, 1, 0, 0, 0, 0, 0, 0, 0, 0]),\n",
        " array([1, 0, 0, 0, 0, 0, 0, 0, 0, 0]),\n",
        " array([0, 1, 0, 0, 0, 0, 0, 0, 0, 0]),\n",
        " array([0, 1, 0, 0, 0, 0, 0, 0, 0, 0]),\n",
        " array([1, 0, 0, 0, 0, 0, 0, 0, 0, 0]),\n",
        " array([0, 1, 0, 0, 0, 0, 0, 0, 0, 0]),\n",
        " array([1, 0, 0, 0, 0, 0, 0, 0, 0, 0]),\n",
        " array([0, 1, 0, 0, 0, 0, 0, 0, 0, 0]),\n",
        " array([1, 0, 0, 0, 0, 0, 0, 0, 0, 0]),\n",
        " array([1, 0, 0, 0, 0, 0, 0, 0, 0, 0]),\n",
        " array([0, 1, 0, 0, 0, 0, 0, 0, 0, 0]),\n",
        " array([1, 0, 0, 0, 0, 0, 0, 0, 0, 0]),\n",
        " array([0, 1, 0, 0, 0, 0, 0, 0, 0, 0]),\n",
        " array([1, 0, 0, 0, 0, 0, 0, 0, 0, 0]),\n",
        " array([0, 1, 0, 0, 0, 0, 0, 0, 0, 0]),\n",
        " array([1, 0, 0, 0, 0, 0, 0, 0, 0, 0]),\n",
        " array([0, 1, 0, 0, 0, 0, 0, 0, 0, 0]),\n",
        " array([0, 1, 0, 0, 0, 0, 0, 0, 0, 0]),\n",
        " array([1, 0, 0, 0, 0, 0, 0, 0, 0, 0]),\n",
        " array([1, 0, 0, 0, 0, 0, 0, 0, 0, 0]),\n",
        " array([1, 0, 0, 0, 0, 0, 0, 0, 0, 0]),\n",
        " array([1, 0, 0, 0, 0, 0, 0, 0, 0, 0]),\n",
        " array([0, 1, 0, 0, 0, 0, 0, 0, 0, 0]),\n",
        " array([0, 1, 0, 0, 0, 0, 0, 0, 0, 0]),\n",
        " array([0, 1, 0, 0, 0, 0, 0, 0, 0, 0]),\n",
        " array([1, 0, 0, 0, 0, 0, 0, 0, 0, 0]),\n",
        " array([1, 0, 0, 0, 0, 0, 0, 0, 0, 0]),\n",
        " array([1, 0, 0, 0, 0, 0, 0, 0, 0, 0]),\n",
        " array([1, 0, 0, 0, 0, 0, 0, 0, 0, 0]),\n",
        " array([1, 0, 0, 0, 0, 0, 0, 0, 0, 0]),\n",
        " array([0, 1, 0, 0, 0, 0, 0, 0, 0, 0]),\n",
        " array([0, 1, 0, 0, 0, 0, 0, 0, 0, 0]),\n",
        " array([1, 0, 0, 0, 0, 0, 0, 0, 0, 0]),\n",
        " array([1, 0, 0, 0, 0, 0, 0, 0, 0, 0]),\n",
        " array([0, 1, 0, 0, 0, 0, 0, 0, 0, 0]),\n",
        " array([1, 0, 0, 0, 0, 0, 0, 0, 0, 0]),\n",
        " array([1, 0, 0, 0, 0, 0, 0, 0, 0, 0]),\n",
        " array([0, 1, 0, 0, 0, 0, 0, 0, 0, 0]))"
       ]
      }
     ],
     "prompt_number": 152
    },
    {
     "cell_type": "code",
     "collapsed": false,
     "input": [
      "np.argmax(labels_test, axis=1)"
     ],
     "language": "python",
     "metadata": {},
     "outputs": [
      {
       "metadata": {},
       "output_type": "pyout",
       "prompt_number": 156,
       "text": [
        "array([0, 1, 0, 1, 1, 1, 1, 1, 1, 1, 0, 0, 0, 0, 1, 0, 1, 1, 0, 1, 1, 0, 0,\n",
        "       1, 1, 1, 0, 0, 1, 1, 1, 1, 0, 0, 1, 0, 0, 0, 0, 0, 0, 0, 1, 1, 1, 1,\n",
        "       1, 1, 0, 0, 0, 0, 0, 0, 1, 1, 1, 0, 1, 1, 0, 1, 1, 0, 1, 1, 0, 1, 0,\n",
        "       1, 0, 0, 1, 0, 1, 0, 1, 0, 1, 1, 0, 0, 0, 0, 1, 1, 1, 0, 0, 0, 0, 0,\n",
        "       1, 1, 0, 0, 1, 0, 0, 1])"
       ]
      }
     ],
     "prompt_number": 156
    },
    {
     "cell_type": "code",
     "collapsed": false,
     "input": [
      "cm = confusion_matrix(np.argmax(labels_test, axis=1), np.argmax(dbn.predict(pics_test), axis=1))"
     ],
     "language": "python",
     "metadata": {},
     "outputs": [],
     "prompt_number": 139
    },
    {
     "cell_type": "code",
     "collapsed": false,
     "input": [
      "%matplotlib inline \n",
      "plt.matshow(cm, cmap='Blues')\n",
      "plt.title('Confusion Matrix')\n",
      "plt.colorbar()\n",
      "plt.ylabel('True label')\n",
      "plt.xlabel('Predicted label');"
     ],
     "language": "python",
     "metadata": {},
     "outputs": [
      {
       "metadata": {},
       "output_type": "display_data",
       "png": "[encoded data removed]",
       "text": [
        "<matplotlib.figure.Figure at 0x1149a75d0>"
       ]
      }
     ],
     "prompt_number": 144
    },
    {
     "cell_type": "code",
     "collapsed": false,
     "input": [
      "cm"
     ],
     "language": "python",
     "metadata": {},
     "outputs": [
      {
       "metadata": {},
       "output_type": "pyout",
       "prompt_number": 145,
       "text": [
        "array([[50,  0],\n",
        "       [40, 10]])"
       ]
      }
     ],
     "prompt_number": 145
    },
    {
     "cell_type": "markdown",
     "metadata": {},
     "source": [
      "Run confusion matrix through script"
     ]
    },
    {
     "cell_type": "code",
     "collapsed": false,
     "input": [
      "%matplotliab inline \n",
      "tree = create_confusion_matrix(np.argmax(labels_test, axis=1), np.argmax(dbn.predict(pics_test), axis=1))"
     ],
     "language": "python",
     "metadata": {},
     "outputs": [
      {
       "output_type": "stream",
       "stream": "stdout",
       "text": [
        "Neural Net CM:\n",
        "[[10 40]\n",
        " [ 0 50]]\n",
        "\n"
       ]
      },
      {
       "metadata": {},
       "output_type": "display_data",
       "png": "[encoded data removed]",
       "text": [
        "<matplotlib.figure.Figure at 0x1149aaf90>"
       ]
      }
     ],
     "prompt_number": 174
    },
    {
     "cell_type": "markdown",
     "metadata": {},
     "source": [
      "Create model with 50 examples of each"
     ]
    },
    {
     "cell_type": "code",
     "collapsed": false,
     "input": [
      "dbn2=main()"
     ],
     "language": "python",
     "metadata": {},
     "outputs": [
      {
       "output_type": "stream",
       "stream": "stdout",
       "text": [
        "Time to train model: 438.923112869\n"
       ]
      }
     ],
     "prompt_number": 193
    },
    {
     "cell_type": "code",
     "collapsed": false,
     "input": [
      "dbn2.predict(pics_test)"
     ],
     "language": "python",
     "metadata": {},
     "outputs": [
      {
       "metadata": {},
       "output_type": "pyout",
       "prompt_number": 184,
       "text": [
        "array([[ 0.47116177,  0.43586807,  0.01162127,  0.01162127,  0.01162127,\n",
        "         0.01162127,  0.01162127,  0.01162127,  0.01162127,  0.01162127],\n",
        "       [ 0.26711196,  0.1985118 ,  0.06679703,  0.06679703,  0.06679703,\n",
        "         0.06679703,  0.06679703,  0.06679703,  0.06679703,  0.06679703],\n",
        "       [ 0.44854789,  0.46315844,  0.01103671,  0.01103671,  0.01103671,\n",
        "         0.01103671,  0.01103671,  0.01103671,  0.01103671,  0.01103671],\n",
        "       [ 0.18829269,  0.23425946,  0.07218098,  0.07218098,  0.07218098,\n",
        "         0.07218098,  0.07218098,  0.07218098,  0.07218098,  0.07218098],\n",
        "       [ 0.30621656,  0.23937774,  0.05680071,  0.05680071,  0.05680071,\n",
        "         0.05680071,  0.05680071,  0.05680071,  0.05680071,  0.05680071],\n",
        "       [ 0.27240151,  0.26692761,  0.05758386,  0.05758386,  0.05758386,\n",
        "         0.05758386,  0.05758386,  0.05758386,  0.05758386,  0.05758386],\n",
        "       [ 0.24435428,  0.21680506,  0.06735508,  0.06735508,  0.06735508,\n",
        "         0.06735508,  0.06735508,  0.06735508,  0.06735508,  0.06735508],\n",
        "       [ 0.15160794,  0.18540244,  0.0828737 ,  0.0828737 ,  0.0828737 ,\n",
        "         0.0828737 ,  0.0828737 ,  0.0828737 ,  0.0828737 ,  0.0828737 ],\n",
        "       [ 0.17186815,  0.23116259,  0.07462116,  0.07462116,  0.07462116,\n",
        "         0.07462116,  0.07462116,  0.07462116,  0.07462116,  0.07462116],\n",
        "       [ 0.23800658,  0.27167603,  0.06128967,  0.06128967,  0.06128967,\n",
        "         0.06128967,  0.06128967,  0.06128967,  0.06128967,  0.06128967],\n",
        "       [ 0.57742696,  0.33360217,  0.01112136,  0.01112136,  0.01112136,\n",
        "         0.01112136,  0.01112136,  0.01112136,  0.01112136,  0.01112136],\n",
        "       [ 0.53677703,  0.32391577,  0.0174134 ,  0.0174134 ,  0.0174134 ,\n",
        "         0.0174134 ,  0.0174134 ,  0.0174134 ,  0.0174134 ,  0.0174134 ],\n",
        "       [ 0.45121072,  0.44318471,  0.01320057,  0.01320057,  0.01320057,\n",
        "         0.01320057,  0.01320057,  0.01320057,  0.01320057,  0.01320057],\n",
        "       [ 0.44131587,  0.46585601,  0.01160352,  0.01160352,  0.01160352,\n",
        "         0.01160352,  0.01160352,  0.01160352,  0.01160352,  0.01160352],\n",
        "       [ 0.17462401,  0.20218565,  0.07789879,  0.07789879,  0.07789879,\n",
        "         0.07789879,  0.07789879,  0.07789879,  0.07789879,  0.07789879],\n",
        "       [ 0.39667481,  0.44452982,  0.01984942,  0.01984942,  0.01984942,\n",
        "         0.01984942,  0.01984942,  0.01984942,  0.01984942,  0.01984942],\n",
        "       [ 0.35609392,  0.31153804,  0.041546  ,  0.041546  ,  0.041546  ,\n",
        "         0.041546  ,  0.041546  ,  0.041546  ,  0.041546  ,  0.041546  ],\n",
        "       [ 0.22429763,  0.25079566,  0.06561334,  0.06561334,  0.06561334,\n",
        "         0.06561334,  0.06561334,  0.06561334,  0.06561334,  0.06561334],\n",
        "       [ 0.39275226,  0.49300679,  0.01428012,  0.01428012,  0.01428012,\n",
        "         0.01428012,  0.01428012,  0.01428012,  0.01428012,  0.01428012],\n",
        "       [ 0.20832182,  0.22871074,  0.07037093,  0.07037093,  0.07037093,\n",
        "         0.07037093,  0.07037093,  0.07037093,  0.07037093,  0.07037093],\n",
        "       [ 0.1773939 ,  0.21612253,  0.07581045,  0.07581045,  0.07581045,\n",
        "         0.07581045,  0.07581045,  0.07581045,  0.07581045,  0.07581045],\n",
        "       [ 0.47092769,  0.41184532,  0.01465337,  0.01465337,  0.01465337,\n",
        "         0.01465337,  0.01465337,  0.01465337,  0.01465337,  0.01465337],\n",
        "       [ 0.47379207,  0.43018994,  0.01200225,  0.01200225,  0.01200225,\n",
        "         0.01200225,  0.01200225,  0.01200225,  0.01200225,  0.01200225],\n",
        "       [ 0.29457614,  0.24149786,  0.05799075,  0.05799075,  0.05799075,\n",
        "         0.05799075,  0.05799075,  0.05799075,  0.05799075,  0.05799075],\n",
        "       [ 0.30750859,  0.27512416,  0.05217091,  0.05217091,  0.05217091,\n",
        "         0.05217091,  0.05217091,  0.05217091,  0.05217091,  0.05217091],\n",
        "       [ 0.27206493,  0.22755906,  0.062547  ,  0.062547  ,  0.062547  ,\n",
        "         0.062547  ,  0.062547  ,  0.062547  ,  0.062547  ,  0.062547  ],\n",
        "       [ 0.49621343,  0.34532313,  0.01980793,  0.01980793,  0.01980793,\n",
        "         0.01980793,  0.01980793,  0.01980793,  0.01980793,  0.01980793],\n",
        "       [ 0.5139982 ,  0.39867881,  0.01091537,  0.01091537,  0.01091537,\n",
        "         0.01091537,  0.01091537,  0.01091537,  0.01091537,  0.01091537],\n",
        "       [ 0.2313433 ,  0.23407977,  0.06682212,  0.06682212,  0.06682212,\n",
        "         0.06682212,  0.06682212,  0.06682212,  0.06682212,  0.06682212],\n",
        "       [ 0.14694028,  0.21387271,  0.07989838,  0.07989838,  0.07989838,\n",
        "         0.07989838,  0.07989838,  0.07989838,  0.07989838,  0.07989838],\n",
        "       [ 0.29484187,  0.25098574,  0.05677155,  0.05677155,  0.05677155,\n",
        "         0.05677155,  0.05677155,  0.05677155,  0.05677155,  0.05677155],\n",
        "       [ 0.29701858,  0.23995345,  0.0578785 ,  0.0578785 ,  0.0578785 ,\n",
        "         0.0578785 ,  0.0578785 ,  0.0578785 ,  0.0578785 ,  0.0578785 ],\n",
        "       [ 0.39835083,  0.42837825,  0.02165887,  0.02165887,  0.02165887,\n",
        "         0.02165887,  0.02165887,  0.02165887,  0.02165887,  0.02165887],\n",
        "       [ 0.39068781,  0.47593895,  0.01667166,  0.01667166,  0.01667166,\n",
        "         0.01667166,  0.01667166,  0.01667166,  0.01667166,  0.01667166],\n",
        "       [ 0.27022491,  0.19519797,  0.06682214,  0.06682214,  0.06682214,\n",
        "         0.06682214,  0.06682214,  0.06682214,  0.06682214,  0.06682214],\n",
        "       [ 0.36152517,  0.48296613,  0.01943859,  0.01943859,  0.01943859,\n",
        "         0.01943859,  0.01943859,  0.01943859,  0.01943859,  0.01943859],\n",
        "       [ 0.47573473,  0.41291124,  0.01391925,  0.01391925,  0.01391925,\n",
        "         0.01391925,  0.01391925,  0.01391925,  0.01391925,  0.01391925],\n",
        "       [ 0.42273346,  0.48260386,  0.01183284,  0.01183284,  0.01183284,\n",
        "         0.01183284,  0.01183284,  0.01183284,  0.01183284,  0.01183284],\n",
        "       [ 0.39244087,  0.50995489,  0.01220053,  0.01220053,  0.01220053,\n",
        "         0.01220053,  0.01220053,  0.01220053,  0.01220053,  0.01220053],\n",
        "       [ 0.55609394,  0.33503187,  0.01360927,  0.01360927,  0.01360927,\n",
        "         0.01360927,  0.01360927,  0.01360927,  0.01360927,  0.01360927],\n",
        "       [ 0.54320817,  0.36332102,  0.01168385,  0.01168385,  0.01168385,\n",
        "         0.01168385,  0.01168385,  0.01168385,  0.01168385,  0.01168385],\n",
        "       [ 0.47458266,  0.41312551,  0.01403648,  0.01403648,  0.01403648,\n",
        "         0.01403648,  0.01403648,  0.01403648,  0.01403648,  0.01403648],\n",
        "       [ 0.32229948,  0.25726277,  0.05255472,  0.05255472,  0.05255472,\n",
        "         0.05255472,  0.05255472,  0.05255472,  0.05255472,  0.05255472],\n",
        "       [ 0.31628879,  0.30890315,  0.04685101,  0.04685101,  0.04685101,\n",
        "         0.04685101,  0.04685101,  0.04685101,  0.04685101,  0.04685101],\n",
        "       [ 0.25776749,  0.22500375,  0.06465359,  0.06465359,  0.06465359,\n",
        "         0.06465359,  0.06465359,  0.06465359,  0.06465359,  0.06465359],\n",
        "       [ 0.27867442,  0.22086982,  0.06255697,  0.06255697,  0.06255697,\n",
        "         0.06255697,  0.06255697,  0.06255697,  0.06255697,  0.06255697],\n",
        "       [ 0.23224919,  0.23051143,  0.06715492,  0.06715492,  0.06715492,\n",
        "         0.06715492,  0.06715492,  0.06715492,  0.06715492,  0.06715492],\n",
        "       [ 0.24381536,  0.21014195,  0.06825534,  0.06825534,  0.06825534,\n",
        "         0.06825534,  0.06825534,  0.06825534,  0.06825534,  0.06825534],\n",
        "       [ 0.48587803,  0.440923  ,  0.00914987,  0.00914987,  0.00914987,\n",
        "         0.00914987,  0.00914987,  0.00914987,  0.00914987,  0.00914987],\n",
        "       [ 0.46118028,  0.37926164,  0.01994476,  0.01994476,  0.01994476,\n",
        "         0.01994476,  0.01994476,  0.01994476,  0.01994476,  0.01994476],\n",
        "       [ 0.4481015 ,  0.45370976,  0.01227359,  0.01227359,  0.01227359,\n",
        "         0.01227359,  0.01227359,  0.01227359,  0.01227359,  0.01227359],\n",
        "       [ 0.52419093,  0.35070038,  0.01563859,  0.01563859,  0.01563859,\n",
        "         0.01563859,  0.01563859,  0.01563859,  0.01563859,  0.01563859],\n",
        "       [ 0.58352215,  0.32331281,  0.01164563,  0.01164563,  0.01164563,\n",
        "         0.01164563,  0.01164563,  0.01164563,  0.01164563,  0.01164563],\n",
        "       [ 0.36479075,  0.50680161,  0.01605096,  0.01605096,  0.01605096,\n",
        "         0.01605096,  0.01605096,  0.01605096,  0.01605096,  0.01605096],\n",
        "       [ 0.29919553,  0.2668671 ,  0.05424217,  0.05424217,  0.05424217,\n",
        "         0.05424217,  0.05424217,  0.05424217,  0.05424217,  0.05424217],\n",
        "       [ 0.17575841,  0.19901938,  0.07815278,  0.07815278,  0.07815278,\n",
        "         0.07815278,  0.07815278,  0.07815278,  0.07815278,  0.07815278],\n",
        "       [ 0.16184333,  0.1909645 ,  0.08089902,  0.08089902,  0.08089902,\n",
        "         0.08089902,  0.08089902,  0.08089902,  0.08089902,  0.08089902],\n",
        "       [ 0.42172064,  0.46234066,  0.01449234,  0.01449234,  0.01449234,\n",
        "         0.01449234,  0.01449234,  0.01449234,  0.01449234,  0.01449234],\n",
        "       [ 0.23097536,  0.19063217,  0.07229906,  0.07229906,  0.07229906,\n",
        "         0.07229906,  0.07229906,  0.07229906,  0.07229906,  0.07229906],\n",
        "       [ 0.26224252,  0.19659917,  0.06764479,  0.06764479,  0.06764479,\n",
        "         0.06764479,  0.06764479,  0.06764479,  0.06764479,  0.06764479],\n",
        "       [ 0.4181728 ,  0.46616299,  0.01445803,  0.01445803,  0.01445803,\n",
        "         0.01445803,  0.01445803,  0.01445803,  0.01445803,  0.01445803],\n",
        "       [ 0.31736597,  0.29203205,  0.04882525,  0.04882525,  0.04882525,\n",
        "         0.04882525,  0.04882525,  0.04882525,  0.04882525,  0.04882525],\n",
        "       [ 0.26981533,  0.19923827,  0.0663683 ,  0.0663683 ,  0.0663683 ,\n",
        "         0.0663683 ,  0.0663683 ,  0.0663683 ,  0.0663683 ,  0.0663683 ],\n",
        "       [ 0.41818309,  0.46617411,  0.01445535,  0.01445535,  0.01445535,\n",
        "         0.01445535,  0.01445535,  0.01445535,  0.01445535,  0.01445535],\n",
        "       [ 0.15351359,  0.17949257,  0.08337423,  0.08337423,  0.08337423,\n",
        "         0.08337423,  0.08337423,  0.08337423,  0.08337423,  0.08337423],\n",
        "       [ 0.17277254,  0.20032661,  0.07836261,  0.07836261,  0.07836261,\n",
        "         0.07836261,  0.07836261,  0.07836261,  0.07836261,  0.07836261],\n",
        "       [ 0.35710935,  0.50367697,  0.01740171,  0.01740171,  0.01740171,\n",
        "         0.01740171,  0.01740171,  0.01740171,  0.01740171,  0.01740171],\n",
        "       [ 0.27012438,  0.19550097,  0.06679683,  0.06679683,  0.06679683,\n",
        "         0.06679683,  0.06679683,  0.06679683,  0.06679683,  0.06679683],\n",
        "       [ 0.46820628,  0.38098025,  0.01885168,  0.01885168,  0.01885168,\n",
        "         0.01885168,  0.01885168,  0.01885168,  0.01885168,  0.01885168],\n",
        "       [ 0.26473611,  0.220202  ,  0.06438274,  0.06438274,  0.06438274,\n",
        "         0.06438274,  0.06438274,  0.06438274,  0.06438274,  0.06438274],\n",
        "       [ 0.46643598,  0.43709878,  0.01205815,  0.01205815,  0.01205815,\n",
        "         0.01205815,  0.01205815,  0.01205815,  0.01205815,  0.01205815],\n",
        "       [ 0.48815438,  0.42139418,  0.01130643,  0.01130643,  0.01130643,\n",
        "         0.01130643,  0.01130643,  0.01130643,  0.01130643,  0.01130643],\n",
        "       [ 0.22018058,  0.20854701,  0.07140905,  0.07140905,  0.07140905,\n",
        "         0.07140905,  0.07140905,  0.07140905,  0.07140905,  0.07140905],\n",
        "       [ 0.47033507,  0.39384799,  0.01697712,  0.01697712,  0.01697712,\n",
        "         0.01697712,  0.01697712,  0.01697712,  0.01697712,  0.01697712],\n",
        "       [ 0.26264048,  0.31344749,  0.052989  ,  0.052989  ,  0.052989  ,\n",
        "         0.052989  ,  0.052989  ,  0.052989  ,  0.052989  ,  0.052989  ],\n",
        "       [ 0.46205518,  0.43395338,  0.01299893,  0.01299893,  0.01299893,\n",
        "         0.01299893,  0.01299893,  0.01299893,  0.01299893,  0.01299893],\n",
        "       [ 0.28258687,  0.22700676,  0.0613008 ,  0.0613008 ,  0.0613008 ,\n",
        "         0.0613008 ,  0.0613008 ,  0.0613008 ,  0.0613008 ,  0.0613008 ],\n",
        "       [ 0.47967979,  0.45384802,  0.00830902,  0.00830902,  0.00830902,\n",
        "         0.00830902,  0.00830902,  0.00830902,  0.00830902,  0.00830902],\n",
        "       [ 0.31635726,  0.30105748,  0.04782316,  0.04782316,  0.04782316,\n",
        "         0.04782316,  0.04782316,  0.04782316,  0.04782316,  0.04782316],\n",
        "       [ 0.16031563,  0.18274804,  0.08211704,  0.08211704,  0.08211704,\n",
        "         0.08211704,  0.08211704,  0.08211704,  0.08211704,  0.08211704],\n",
        "       [ 0.35861161,  0.4813134 ,  0.02000937,  0.02000937,  0.02000937,\n",
        "         0.02000937,  0.02000937,  0.02000937,  0.02000937,  0.02000937],\n",
        "       [ 0.49259948,  0.43612472,  0.00890948,  0.00890948,  0.00890948,\n",
        "         0.00890948,  0.00890948,  0.00890948,  0.00890948,  0.00890948],\n",
        "       [ 0.4059031 ,  0.47423199,  0.01498311,  0.01498311,  0.01498311,\n",
        "         0.01498311,  0.01498311,  0.01498311,  0.01498311,  0.01498311],\n",
        "       [ 0.46476964,  0.41314708,  0.01526041,  0.01526041,  0.01526041,\n",
        "         0.01526041,  0.01526041,  0.01526041,  0.01526041,  0.01526041],\n",
        "       [ 0.17869234,  0.20485075,  0.07705711,  0.07705711,  0.07705711,\n",
        "         0.07705711,  0.07705711,  0.07705711,  0.07705711,  0.07705711],\n",
        "       [ 0.25668669,  0.19006571,  0.06915595,  0.06915595,  0.06915595,\n",
        "         0.06915595,  0.06915595,  0.06915595,  0.06915595,  0.06915595],\n",
        "       [ 0.24598825,  0.28580782,  0.05852549,  0.05852549,  0.05852549,\n",
        "         0.05852549,  0.05852549,  0.05852549,  0.05852549,  0.05852549],\n",
        "       [ 0.42031234,  0.46424801,  0.01442996,  0.01442996,  0.01442996,\n",
        "         0.01442996,  0.01442996,  0.01442996,  0.01442996,  0.01442996],\n",
        "       [ 0.43586436,  0.45484626,  0.01366117,  0.01366117,  0.01366117,\n",
        "         0.01366117,  0.01366117,  0.01366117,  0.01366117,  0.01366117],\n",
        "       [ 0.58178456,  0.32985863,  0.0110446 ,  0.0110446 ,  0.0110446 ,\n",
        "         0.0110446 ,  0.0110446 ,  0.0110446 ,  0.0110446 ,  0.0110446 ],\n",
        "       [ 0.48671647,  0.43162443,  0.01020739,  0.01020739,  0.01020739,\n",
        "         0.01020739,  0.01020739,  0.01020739,  0.01020739,  0.01020739],\n",
        "       [ 0.45896465,  0.42524206,  0.01447416,  0.01447416,  0.01447416,\n",
        "         0.01447416,  0.01447416,  0.01447416,  0.01447416,  0.01447416],\n",
        "       [ 0.24252149,  0.28358749,  0.05923638,  0.05923638,  0.05923638,\n",
        "         0.05923638,  0.05923638,  0.05923638,  0.05923638,  0.05923638],\n",
        "       [ 0.22733911,  0.27513488,  0.06219075,  0.06219075,  0.06219075,\n",
        "         0.06219075,  0.06219075,  0.06219075,  0.06219075,  0.06219075],\n",
        "       [ 0.58178878,  0.3299532 ,  0.01103225,  0.01103225,  0.01103225,\n",
        "         0.01103225,  0.01103225,  0.01103225,  0.01103225,  0.01103225],\n",
        "       [ 0.53254768,  0.37120905,  0.01203041,  0.01203041,  0.01203041,\n",
        "         0.01203041,  0.01203041,  0.01203041,  0.01203041,  0.01203041],\n",
        "       [ 0.31043194,  0.23137029,  0.05727472,  0.05727472,  0.05727472,\n",
        "         0.05727472,  0.05727472,  0.05727472,  0.05727472,  0.05727472],\n",
        "       [ 0.51406122,  0.38078355,  0.0131444 ,  0.0131444 ,  0.0131444 ,\n",
        "         0.0131444 ,  0.0131444 ,  0.0131444 ,  0.0131444 ,  0.0131444 ],\n",
        "       [ 0.54909333,  0.35674125,  0.01177068,  0.01177068,  0.01177068,\n",
        "         0.01177068,  0.01177068,  0.01177068,  0.01177068,  0.01177068],\n",
        "       [ 0.28574134,  0.27913802,  0.05439008,  0.05439008,  0.05439008,\n",
        "         0.05439008,  0.05439008,  0.05439008,  0.05439008,  0.05439008]])"
       ]
      }
     ],
     "prompt_number": 184
    },
    {
     "cell_type": "code",
     "collapsed": false,
     "input": [
      "pics_test2, labels_test2= create_data_sample(train_set, 50)"
     ],
     "language": "python",
     "metadata": {},
     "outputs": [],
     "prompt_number": 198
    },
    {
     "cell_type": "code",
     "collapsed": false,
     "input": [
      "print \"Actual:\", np.argmax(labels_test2, axis=1)\n",
      "print \"Predicted:\", np.argmax(dbn2.predict(pics_test2), axis=1)"
     ],
     "language": "python",
     "metadata": {},
     "outputs": [
      {
       "output_type": "stream",
       "stream": "stdout",
       "text": [
        "Actual: [7 7 5 5 5 5 7 5 5 5 7 7 7 5 7 7 5 5 5 7 5 5 7 5 7 7 5 7 7 7 7 7 7 7 7 5 7\n",
        " 7 5 5 5 5 5 7 5 5 5 5 7 7 5 7 5 5 5 5 7 7 5 7 5 7 7 5 7 5 5 5 5 5 7 7 7 7\n",
        " 5 5 7 7 5 5 7 5 7 7 7 7 5 7 5 5 7 5 7 5 5 7 7 7 5 7]\n",
        "Predicted: [7 7 5 7 7 7 7 7 7 7 7 7 7 7 5 7 7 7 7 7 5 7 5 7 7 7 7 5 7 7 7 7 7 5 7 5 7\n",
        " 7 7 7 5 7 7 7 7 7 7 7 7 7 7 7 7 7 7 5 7 5 7 7 7 7 7 7 5 7 7 7 7 7 5 7 7 7\n",
        " 5 7 5 7 7 7 7 7 7 7 7 7 5 7 7 5 7 5 7 7 5 7 7 7 7 7]\n"
       ]
      }
     ],
     "prompt_number": 207
    },
    {
     "cell_type": "code",
     "collapsed": false,
     "input": [
      "print_accuracy(dbn2, labels_test2, pics_test2)"
     ],
     "language": "python",
     "metadata": {},
     "outputs": [
      {
       "output_type": "stream",
       "stream": "stdout",
       "text": [
        "0.52\n"
       ]
      }
     ],
     "prompt_number": 199
    },
    {
     "cell_type": "code",
     "collapsed": false,
     "input": [
      "%matplotlib inline \n",
      "confusion_matrix(np.argmax(labels_test2, axis=1), np.argmax(dbn2.predict(pics_test2), axis=1))"
     ],
     "language": "python",
     "metadata": {},
     "outputs": [
      {
       "metadata": {},
       "output_type": "pyout",
       "prompt_number": 210,
       "text": [
        "array([[10, 40],\n",
        "       [ 8, 42]])"
       ]
      }
     ],
     "prompt_number": 210
    },
    {
     "cell_type": "code",
     "collapsed": false,
     "input": [],
     "language": "python",
     "metadata": {},
     "outputs": []
    }
   ],
   "metadata": {}
  }
 ]
}