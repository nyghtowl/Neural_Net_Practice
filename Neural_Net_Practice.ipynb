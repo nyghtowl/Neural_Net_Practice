{
 "metadata": {
  "name": "",
  "signature": "sha256:557eecd6788945a777f04bfb6acb2c9a47a81da78639d84f5669cafe7b931eaf"
 },
 "nbformat": 3,
 "nbformat_minor": 0,
 "worksheets": [
  {
   "cells": [
    {
     "cell_type": "code",
     "collapsed": false,
     "input": [
      "%load_ext autoreload"
     ],
     "language": "python",
     "metadata": {},
     "outputs": [],
     "prompt_number": 39
    },
    {
     "cell_type": "code",
     "collapsed": false,
     "input": [
      "%autoreload 2"
     ],
     "language": "python",
     "metadata": {},
     "outputs": [],
     "prompt_number": 40
    },
    {
     "cell_type": "code",
     "collapsed": false,
     "input": [
      "import load_mnist"
     ],
     "language": "python",
     "metadata": {},
     "outputs": [],
     "prompt_number": 41
    },
    {
     "cell_type": "code",
     "collapsed": false,
     "input": [
      "v = load_mnist.load_file('../mnist.pkl.gz')"
     ],
     "language": "python",
     "metadata": {},
     "outputs": [],
     "prompt_number": 25
    },
    {
     "cell_type": "code",
     "collapsed": false,
     "input": [
      "def run_stuff():\n",
      "    with gzip.open('../mnist.pkl.gz') as f:\n",
      "        train_set, valid_set, test_set = cPickle.load(f)\n",
      "    return train_set"
     ],
     "language": "python",
     "metadata": {},
     "outputs": [],
     "prompt_number": 32
    },
    {
     "cell_type": "code",
     "collapsed": false,
     "input": [
      "train_set = run_stuff()"
     ],
     "language": "python",
     "metadata": {},
     "outputs": [],
     "prompt_number": 33
    },
    {
     "cell_type": "code",
     "collapsed": false,
     "input": [
      "train_set, valid_set, test_set = load_mnist.load_file('../mnist.pkl.gz')"
     ],
     "language": "python",
     "metadata": {},
     "outputs": [],
     "prompt_number": 43
    },
    {
     "cell_type": "code",
     "collapsed": false,
     "input": [
      "train_set"
     ],
     "language": "python",
     "metadata": {},
     "outputs": [
      {
       "metadata": {},
       "output_type": "pyout",
       "prompt_number": 44,
       "text": [
        "(array([[ 0.,  0.,  0., ...,  0.,  0.,  0.],\n",
        "        [ 0.,  0.,  0., ...,  0.,  0.,  0.],\n",
        "        [ 0.,  0.,  0., ...,  0.,  0.,  0.],\n",
        "        ..., \n",
        "        [ 0.,  0.,  0., ...,  0.,  0.,  0.],\n",
        "        [ 0.,  0.,  0., ...,  0.,  0.,  0.],\n",
        "        [ 0.,  0.,  0., ...,  0.,  0.,  0.]], dtype=float32),\n",
        " array([5, 0, 4, ..., 8, 4, 8]))"
       ]
      }
     ],
     "prompt_number": 44
    },
    {
     "cell_type": "code",
     "collapsed": false,
     "input": [],
     "language": "python",
     "metadata": {},
     "outputs": []
    }
   ],
   "metadata": {}
  }
 ]
}