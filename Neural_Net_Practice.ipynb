{
 "metadata": {
  "name": "",
  "signature": "sha256:721dafec0e82119a084709957c2e4179890a8fc9c228f90836f7f8b69b12fdf6"
 },
 "nbformat": 3,
 "nbformat_minor": 0,
 "worksheets": [
  {
   "cells": [
    {
     "cell_type": "code",
     "collapsed": false,
     "input": [
      "%load_ext autoreload"
     ],
     "language": "python",
     "metadata": {},
     "outputs": [],
     "prompt_number": 3
    },
    {
     "cell_type": "code",
     "collapsed": false,
     "input": [
      "%autoreload 2"
     ],
     "language": "python",
     "metadata": {},
     "outputs": [],
     "prompt_number": 4
    },
    {
     "cell_type": "code",
     "collapsed": false,
     "input": [
      "from load_mnist import *"
     ],
     "language": "python",
     "metadata": {},
     "outputs": [],
     "prompt_number": 7
    },
    {
     "cell_type": "markdown",
     "metadata": {},
     "source": [
      "Run file load in notebook to test."
     ]
    },
    {
     "cell_type": "code",
     "collapsed": false,
     "input": [
      "v = load_file('../mnist.pkl.gz')"
     ],
     "language": "python",
     "metadata": {},
     "outputs": [],
     "prompt_number": 8
    },
    {
     "cell_type": "code",
     "collapsed": false,
     "input": [
      "def run_stuff():\n",
      "    with gzip.open('../mnist.pkl.gz') as f:\n",
      "        train_set, valid_set, test_set = cPickle.load(f)\n",
      "    return train_set"
     ],
     "language": "python",
     "metadata": {},
     "outputs": [],
     "prompt_number": 17
    },
    {
     "cell_type": "markdown",
     "metadata": {},
     "source": [
      "Run code from load_mnist. Data contains all pixel info for each image as well as labels (0-9)."
     ]
    },
    {
     "cell_type": "markdown",
     "metadata": {},
     "source": [
      "Load mnist data below. The split is train = 50K(71%), cross =10K(14%), test = 10K(14%)\n",
      "\n",
      "Structure is a tuple where first colum is the picture values and the second is the label"
     ]
    },
    {
     "cell_type": "code",
     "collapsed": false,
     "input": [
      "train_set, valid_set, test_set = load_file('../mnist.pkl.gz')"
     ],
     "language": "python",
     "metadata": {},
     "outputs": [],
     "prompt_number": 9
    },
    {
     "cell_type": "code",
     "collapsed": false,
     "input": [
      "y = train_set[1] # labels\n",
      "x = train_set[0] # pixels 28 x 28 and in an numpy array"
     ],
     "language": "python",
     "metadata": {},
     "outputs": [],
     "prompt_number": 19
    },
    {
     "cell_type": "code",
     "collapsed": false,
     "input": [
      "print y.shape\n",
      "print x.shape"
     ],
     "language": "python",
     "metadata": {},
     "outputs": [
      {
       "output_type": "stream",
       "stream": "stdout",
       "text": [
        "(50000,)\n",
        "(50000, 784)\n"
       ]
      }
     ],
     "prompt_number": 20
    },
    {
     "cell_type": "code",
     "collapsed": false,
     "input": [
      "x[100].reshape(28,28).shape # testing reshape"
     ],
     "language": "python",
     "metadata": {},
     "outputs": [
      {
       "metadata": {},
       "output_type": "pyout",
       "prompt_number": 21,
       "text": [
        "(28, 28)"
       ]
      }
     ],
     "prompt_number": 21
    },
    {
     "cell_type": "code",
     "collapsed": false,
     "input": [
      "# Alternative to show value\n",
      "import matplotlib.pyplot as plt\n",
      "import matplotlib.cm as cm\n",
      "\n",
      "def show_img_note(x):\n",
      "    img = x.reshape(28,28)\n",
      "    plt.imshow(img, cmap=cm.Greys_r)\n",
      "    plt.show()"
     ],
     "language": "python",
     "metadata": {},
     "outputs": [],
     "prompt_number": 138
    },
    {
     "cell_type": "markdown",
     "metadata": {},
     "source": [
      "Viewed both images and confirmed labels matched"
     ]
    },
    {
     "cell_type": "code",
     "collapsed": false,
     "input": [
      "show_img(x[1007])\n",
      "print y[1007]\n",
      "show_img_note(x[777])\n",
      "print y[777]"
     ],
     "language": "python",
     "metadata": {},
     "outputs": [
      {
       "output_type": "stream",
       "stream": "stdout",
       "text": [
        "3\n",
        "8"
       ]
      },
      {
       "output_type": "stream",
       "stream": "stdout",
       "text": [
        "\n"
       ]
      }
     ],
     "prompt_number": 144
    },
    {
     "cell_type": "code",
     "collapsed": false,
     "input": [
      "a = np.arange(-10,10)\n",
      "s = [9, 12, 13, 14]\n",
      "b = a[s]\n",
      "print a[s] > 0\n",
      "print a[s][a[s]>0]\n",
      "print b\n",
      "b[b>0]"
     ],
     "language": "python",
     "metadata": {},
     "outputs": [
      {
       "output_type": "stream",
       "stream": "stdout",
       "text": [
        "[False  True  True  True]\n",
        "[2 3 4]\n",
        "[-1  2  3  4]\n"
       ]
      },
      {
       "metadata": {},
       "output_type": "pyout",
       "prompt_number": 172,
       "text": [
        "array([2, 3, 4])"
       ]
      }
     ],
     "prompt_number": 172
    },
    {
     "cell_type": "code",
     "collapsed": false,
     "input": [
      "train_set[1][1]"
     ],
     "language": "python",
     "metadata": {},
     "outputs": [
      {
       "metadata": {},
       "output_type": "pyout",
       "prompt_number": 181,
       "text": [
        "0"
       ]
      }
     ],
     "prompt_number": 181
    },
    {
     "cell_type": "code",
     "collapsed": false,
     "input": [
      "show_img(train_set[0][1])\n",
      "show_img(train_set[0][train_set[1]==0][0:n].round())"
     ],
     "language": "python",
     "metadata": {},
     "outputs": [],
     "prompt_number": 207
    },
    {
     "cell_type": "code",
     "collapsed": false,
     "input": [
      "n=5"
     ],
     "language": "python",
     "metadata": {},
     "outputs": [],
     "prompt_number": 23
    },
    {
     "cell_type": "code",
     "collapsed": false,
     "input": [
      "y_sample = train_set[1][train_set[1]==0][0:n]\n",
      "y_sample1 = train_set[1][train_set[1]==1][0:n]\n",
      "# replace 0 with [1,0]"
     ],
     "language": "python",
     "metadata": {},
     "outputs": [],
     "prompt_number": 24
    },
    {
     "cell_type": "code",
     "collapsed": false,
     "input": [
      "x_sample = train_set[0][train_set[1]==0][0:n].round()\n",
      "x_sample1 = train_set[0][train_set[1]==1][0:n].round()"
     ],
     "language": "python",
     "metadata": {},
     "outputs": [],
     "prompt_number": 25
    },
    {
     "cell_type": "code",
     "collapsed": false,
     "input": [
      "np.round(.50)"
     ],
     "language": "python",
     "metadata": {},
     "outputs": [
      {
       "metadata": {},
       "output_type": "pyout",
       "prompt_number": 249,
       "text": [
        "0.0"
       ]
      }
     ],
     "prompt_number": 249
    },
    {
     "cell_type": "code",
     "collapsed": false,
     "input": [
      "np.round(.6)"
     ],
     "language": "python",
     "metadata": {},
     "outputs": [
      {
       "metadata": {},
       "output_type": "pyout",
       "prompt_number": 205,
       "text": [
        "1.0"
       ]
      }
     ],
     "prompt_number": 205
    },
    {
     "cell_type": "markdown",
     "metadata": {},
     "source": [
      "create function that builds x and y samples - abstract above so 1 and 0 can be passed in. Then alternate the order of the values but keep label with picture so that to vary what will be entered"
     ]
    },
    {
     "cell_type": "code",
     "collapsed": false,
     "input": [
      "sample.describe"
     ],
     "language": "python",
     "metadata": {},
     "outputs": [
      {
       "metadata": {},
       "output_type": "pyout",
       "prompt_number": 228,
       "text": [
        "<bound method DataFrame.describe of <class 'pandas.core.frame.DataFrame'>\n",
        "Int64Index: 50000 entries, 0 to 49999\n",
        "Columns: 784 entries, 0 to 783\n",
        "dtypes: float32(784)>"
       ]
      }
     ],
     "prompt_number": 228
    },
    {
     "cell_type": "code",
     "collapsed": false,
     "input": [
      "result = np.concatenate((y_sample, y_sample1))\n",
      "result2 = np.vstack((x_sample, x_sample1))"
     ],
     "language": "python",
     "metadata": {},
     "outputs": [],
     "prompt_number": 30
    },
    {
     "cell_type": "code",
     "collapsed": false,
     "input": [
      "result"
     ],
     "language": "python",
     "metadata": {},
     "outputs": [
      {
       "metadata": {},
       "output_type": "pyout",
       "prompt_number": 71,
       "text": [
        "array([0, 0, 0, 0, 0, 1, 1, 1, 1, 1])"
       ]
      }
     ],
     "prompt_number": 71
    },
    {
     "cell_type": "code",
     "collapsed": false,
     "input": [
      "x = [0,1]"
     ],
     "language": "python",
     "metadata": {},
     "outputs": [],
     "prompt_number": 76
    },
    {
     "cell_type": "code",
     "collapsed": false,
     "input": [
      "# result[result==0] = \n",
      "result3 = np.array([0, [1,1], 2, 4, 5])\n",
      "#result3[result3==1] = [1,2]"
     ],
     "language": "python",
     "metadata": {},
     "outputs": [
      {
       "ename": "ValueError",
       "evalue": "setting an array element with a sequence.",
       "output_type": "pyerr",
       "traceback": [
        "\u001b[0;31m---------------------------------------------------------------------------\u001b[0m\n\u001b[0;31mValueError\u001b[0m                                Traceback (most recent call last)",
        "\u001b[0;32m<ipython-input-99-f1eebb19a91a>\u001b[0m in \u001b[0;36m<module>\u001b[0;34m()\u001b[0m\n\u001b[1;32m      1\u001b[0m \u001b[0;31m# result[result==0] =\u001b[0m\u001b[0;34m\u001b[0m\u001b[0;34m\u001b[0m\u001b[0m\n\u001b[0;32m----> 2\u001b[0;31m \u001b[0mresult3\u001b[0m \u001b[0;34m=\u001b[0m \u001b[0mnp\u001b[0m\u001b[0;34m.\u001b[0m\u001b[0marray\u001b[0m\u001b[0;34m(\u001b[0m\u001b[0;34m[\u001b[0m\u001b[0;36m0\u001b[0m\u001b[0;34m,\u001b[0m \u001b[0;34m[\u001b[0m\u001b[0;36m1\u001b[0m\u001b[0;34m,\u001b[0m\u001b[0;36m1\u001b[0m\u001b[0;34m]\u001b[0m\u001b[0;34m,\u001b[0m \u001b[0;36m2\u001b[0m\u001b[0;34m,\u001b[0m \u001b[0;36m4\u001b[0m\u001b[0;34m,\u001b[0m \u001b[0;36m5\u001b[0m\u001b[0;34m]\u001b[0m\u001b[0;34m)\u001b[0m\u001b[0;34m\u001b[0m\u001b[0m\n\u001b[0m\u001b[1;32m      3\u001b[0m \u001b[0;31m#result3[result3==1] = [1,2]\u001b[0m\u001b[0;34m\u001b[0m\u001b[0;34m\u001b[0m\u001b[0m\n",
        "\u001b[0;31mValueError\u001b[0m: setting an array element with a sequence."
       ]
      }
     ],
     "prompt_number": 99
    },
    {
     "cell_type": "code",
     "collapsed": false,
     "input": [
      "result3"
     ],
     "language": "python",
     "metadata": {},
     "outputs": [
      {
       "metadata": {},
       "output_type": "pyout",
       "prompt_number": 100,
       "text": [
        "array([0, 1, 2, 4, 5])"
       ]
      }
     ],
     "prompt_number": 100
    },
    {
     "cell_type": "code",
     "collapsed": false,
     "input": [
      "test = np.array(10 * ([1,0]))"
     ],
     "language": "python",
     "metadata": {},
     "outputs": [],
     "prompt_number": 47
    },
    {
     "cell_type": "code",
     "collapsed": false,
     "input": [
      "test.reshape(10,2)"
     ],
     "language": "python",
     "metadata": {},
     "outputs": [
      {
       "metadata": {},
       "output_type": "pyout",
       "prompt_number": 49,
       "text": [
        "array([[1, 0],\n",
        "       [1, 0],\n",
        "       [1, 0],\n",
        "       [1, 0],\n",
        "       [1, 0],\n",
        "       [1, 0],\n",
        "       [1, 0],\n",
        "       [1, 0],\n",
        "       [1, 0],\n",
        "       [1, 0]])"
       ]
      }
     ],
     "prompt_number": 49
    },
    {
     "cell_type": "code",
     "collapsed": false,
     "input": [
      "def binarize(num):\n",
      "    if num == 0:\n",
      "        return [1,0]\n",
      "    else:\n",
      "        return [0,1]"
     ],
     "language": "python",
     "metadata": {},
     "outputs": [],
     "prompt_number": 27
    },
    {
     "cell_type": "code",
     "collapsed": false,
     "input": [
      "np.apply_along_axis(binarize,0,result)"
     ],
     "language": "python",
     "metadata": {},
     "outputs": [
      {
       "ename": "ValueError",
       "evalue": "The truth value of an array with more than one element is ambiguous. Use a.any() or a.all()",
       "output_type": "pyerr",
       "traceback": [
        "\u001b[0;31m---------------------------------------------------------------------------\u001b[0m\n\u001b[0;31mValueError\u001b[0m                                Traceback (most recent call last)",
        "\u001b[0;32m<ipython-input-33-43e2c492f806>\u001b[0m in \u001b[0;36m<module>\u001b[0;34m()\u001b[0m\n\u001b[0;32m----> 1\u001b[0;31m \u001b[0mnp\u001b[0m\u001b[0;34m.\u001b[0m\u001b[0mapply_along_axis\u001b[0m\u001b[0;34m(\u001b[0m\u001b[0mbinarize\u001b[0m\u001b[0;34m,\u001b[0m\u001b[0;36m0\u001b[0m\u001b[0;34m,\u001b[0m\u001b[0mresult\u001b[0m\u001b[0;34m)\u001b[0m\u001b[0;34m\u001b[0m\u001b[0m\n\u001b[0m",
        "\u001b[0;32m/Users/willow/anaconda/lib/python2.7/site-packages/numpy/lib/shape_base.pyc\u001b[0m in \u001b[0;36mapply_along_axis\u001b[0;34m(func1d, axis, arr, *args)\u001b[0m\n\u001b[1;32m     78\u001b[0m     \u001b[0moutshape\u001b[0m \u001b[0;34m=\u001b[0m \u001b[0masarray\u001b[0m\u001b[0;34m(\u001b[0m\u001b[0marr\u001b[0m\u001b[0;34m.\u001b[0m\u001b[0mshape\u001b[0m\u001b[0;34m)\u001b[0m\u001b[0;34m.\u001b[0m\u001b[0mtake\u001b[0m\u001b[0;34m(\u001b[0m\u001b[0mindlist\u001b[0m\u001b[0;34m)\u001b[0m\u001b[0;34m\u001b[0m\u001b[0m\n\u001b[1;32m     79\u001b[0m     \u001b[0mi\u001b[0m\u001b[0;34m.\u001b[0m\u001b[0mput\u001b[0m\u001b[0;34m(\u001b[0m\u001b[0mindlist\u001b[0m\u001b[0;34m,\u001b[0m \u001b[0mind\u001b[0m\u001b[0;34m)\u001b[0m\u001b[0;34m\u001b[0m\u001b[0m\n\u001b[0;32m---> 80\u001b[0;31m     \u001b[0mres\u001b[0m \u001b[0;34m=\u001b[0m \u001b[0mfunc1d\u001b[0m\u001b[0;34m(\u001b[0m\u001b[0marr\u001b[0m\u001b[0;34m[\u001b[0m\u001b[0mtuple\u001b[0m\u001b[0;34m(\u001b[0m\u001b[0mi\u001b[0m\u001b[0;34m.\u001b[0m\u001b[0mtolist\u001b[0m\u001b[0;34m(\u001b[0m\u001b[0;34m)\u001b[0m\u001b[0;34m)\u001b[0m\u001b[0;34m]\u001b[0m\u001b[0;34m,\u001b[0m\u001b[0;34m*\u001b[0m\u001b[0margs\u001b[0m\u001b[0;34m)\u001b[0m\u001b[0;34m\u001b[0m\u001b[0m\n\u001b[0m\u001b[1;32m     81\u001b[0m     \u001b[0;31m#  if res is a number, then we have a smaller output array\u001b[0m\u001b[0;34m\u001b[0m\u001b[0;34m\u001b[0m\u001b[0m\n\u001b[1;32m     82\u001b[0m     \u001b[0;32mif\u001b[0m \u001b[0misscalar\u001b[0m\u001b[0;34m(\u001b[0m\u001b[0mres\u001b[0m\u001b[0;34m)\u001b[0m\u001b[0;34m:\u001b[0m\u001b[0;34m\u001b[0m\u001b[0m\n",
        "\u001b[0;32m<ipython-input-27-4fdd17a15d8e>\u001b[0m in \u001b[0;36mbinarize\u001b[0;34m(num)\u001b[0m\n\u001b[1;32m      1\u001b[0m \u001b[0;32mdef\u001b[0m \u001b[0mbinarize\u001b[0m\u001b[0;34m(\u001b[0m\u001b[0mnum\u001b[0m\u001b[0;34m)\u001b[0m\u001b[0;34m:\u001b[0m\u001b[0;34m\u001b[0m\u001b[0m\n\u001b[0;32m----> 2\u001b[0;31m     \u001b[0;32mif\u001b[0m \u001b[0mnum\u001b[0m \u001b[0;34m==\u001b[0m \u001b[0;36m0\u001b[0m\u001b[0;34m:\u001b[0m\u001b[0;34m\u001b[0m\u001b[0m\n\u001b[0m\u001b[1;32m      3\u001b[0m         \u001b[0;32mreturn\u001b[0m \u001b[0;34m[\u001b[0m\u001b[0;36m1\u001b[0m\u001b[0;34m,\u001b[0m\u001b[0;36m0\u001b[0m\u001b[0;34m]\u001b[0m\u001b[0;34m\u001b[0m\u001b[0m\n\u001b[1;32m      4\u001b[0m     \u001b[0;32melse\u001b[0m\u001b[0;34m:\u001b[0m\u001b[0;34m\u001b[0m\u001b[0m\n\u001b[1;32m      5\u001b[0m         \u001b[0;32mreturn\u001b[0m \u001b[0;34m[\u001b[0m\u001b[0;36m0\u001b[0m\u001b[0;34m,\u001b[0m\u001b[0;36m1\u001b[0m\u001b[0;34m]\u001b[0m\u001b[0;34m\u001b[0m\u001b[0m\n",
        "\u001b[0;31mValueError\u001b[0m: The truth value of an array with more than one element is ambiguous. Use a.any() or a.all()"
       ]
      }
     ],
     "prompt_number": 33
    },
    {
     "cell_type": "code",
     "collapsed": false,
     "input": [
      "ans = np.dstack((result, result2))"
     ],
     "language": "python",
     "metadata": {},
     "outputs": [
      {
       "ename": "ValueError",
       "evalue": "all the input array dimensions except for the concatenation axis must match exactly",
       "output_type": "pyerr",
       "traceback": [
        "\u001b[0;31m---------------------------------------------------------------------------\u001b[0m\n\u001b[0;31mValueError\u001b[0m                                Traceback (most recent call last)",
        "\u001b[0;32m<ipython-input-303-85a74dc9d319>\u001b[0m in \u001b[0;36m<module>\u001b[0;34m()\u001b[0m\n\u001b[0;32m----> 1\u001b[0;31m \u001b[0mans\u001b[0m \u001b[0;34m=\u001b[0m \u001b[0mnp\u001b[0m\u001b[0;34m.\u001b[0m\u001b[0mdstack\u001b[0m\u001b[0;34m(\u001b[0m\u001b[0;34m(\u001b[0m\u001b[0mresult\u001b[0m\u001b[0;34m,\u001b[0m \u001b[0mresult2\u001b[0m\u001b[0;34m)\u001b[0m\u001b[0;34m)\u001b[0m\u001b[0;34m\u001b[0m\u001b[0m\n\u001b[0m",
        "\u001b[0;32m/Users/willow/anaconda/lib/python2.7/site-packages/numpy/lib/shape_base.pyc\u001b[0m in \u001b[0;36mdstack\u001b[0;34m(tup)\u001b[0m\n\u001b[1;32m    344\u001b[0m \u001b[0;34m\u001b[0m\u001b[0m\n\u001b[1;32m    345\u001b[0m     \"\"\"\n\u001b[0;32m--> 346\u001b[0;31m     \u001b[0;32mreturn\u001b[0m \u001b[0m_nx\u001b[0m\u001b[0;34m.\u001b[0m\u001b[0mconcatenate\u001b[0m\u001b[0;34m(\u001b[0m\u001b[0mmap\u001b[0m\u001b[0;34m(\u001b[0m\u001b[0matleast_3d\u001b[0m\u001b[0;34m,\u001b[0m\u001b[0mtup\u001b[0m\u001b[0;34m)\u001b[0m\u001b[0;34m,\u001b[0m\u001b[0;36m2\u001b[0m\u001b[0;34m)\u001b[0m\u001b[0;34m\u001b[0m\u001b[0m\n\u001b[0m\u001b[1;32m    347\u001b[0m \u001b[0;34m\u001b[0m\u001b[0m\n\u001b[1;32m    348\u001b[0m \u001b[0;32mdef\u001b[0m \u001b[0m_replace_zero_by_x_arrays\u001b[0m\u001b[0;34m(\u001b[0m\u001b[0msub_arys\u001b[0m\u001b[0;34m)\u001b[0m\u001b[0;34m:\u001b[0m\u001b[0;34m\u001b[0m\u001b[0m\n",
        "\u001b[0;31mValueError\u001b[0m: all the input array dimensions except for the concatenation axis must match exactly"
       ]
      }
     ],
     "prompt_number": 303
    },
    {
     "cell_type": "code",
     "collapsed": false,
     "input": [
      "random.shuffle(ans)"
     ],
     "language": "python",
     "metadata": {},
     "outputs": [],
     "prompt_number": 307
    },
    {
     "cell_type": "code",
     "collapsed": false,
     "input": [
      "pics, labels = zip(*ans)"
     ],
     "language": "python",
     "metadata": {},
     "outputs": [],
     "prompt_number": 308
    },
    {
     "cell_type": "code",
     "collapsed": false,
     "input": [
      "pics, labels = labels, pics"
     ],
     "language": "python",
     "metadata": {},
     "outputs": [],
     "prompt_number": 309
    },
    {
     "cell_type": "code",
     "collapsed": false,
     "input": [
      "labels"
     ],
     "language": "python",
     "metadata": {},
     "outputs": [
      {
       "metadata": {},
       "output_type": "pyout",
       "prompt_number": 310,
       "text": [
        "(0, 1, 1, 1, 0, 0, 0, 1, 0, 1)"
       ]
      }
     ],
     "prompt_number": 310
    },
    {
     "cell_type": "code",
     "collapsed": false,
     "input": [
      "show_img(pics[-1])"
     ],
     "language": "python",
     "metadata": {},
     "outputs": [],
     "prompt_number": 311
    },
    {
     "cell_type": "code",
     "collapsed": false,
     "input": [
      "dbn = DBN.DBN(input=pics, label=labels, n_ins=784, hidden_layer_sizes=[500, 250, 100], n_outs=10, numpy_rng=None)"
     ],
     "language": "python",
     "metadata": {},
     "outputs": [
      {
       "ename": "NameError",
       "evalue": "name 'DBN' is not defined",
       "output_type": "pyerr",
       "traceback": [
        "\u001b[0;31m---------------------------------------------------------------------------\u001b[0m\n\u001b[0;31mNameError\u001b[0m                                 Traceback (most recent call last)",
        "\u001b[0;32m<ipython-input-350-be1bc716fd11>\u001b[0m in \u001b[0;36m<module>\u001b[0;34m()\u001b[0m\n\u001b[0;32m----> 1\u001b[0;31m \u001b[0mdbn\u001b[0m \u001b[0;34m=\u001b[0m \u001b[0mDBN\u001b[0m\u001b[0;34m.\u001b[0m\u001b[0mDBN\u001b[0m\u001b[0;34m(\u001b[0m\u001b[0minput\u001b[0m\u001b[0;34m=\u001b[0m\u001b[0mpics\u001b[0m\u001b[0;34m,\u001b[0m \u001b[0mlabel\u001b[0m\u001b[0;34m=\u001b[0m\u001b[0mlabels\u001b[0m\u001b[0;34m,\u001b[0m \u001b[0mn_ins\u001b[0m\u001b[0;34m=\u001b[0m\u001b[0;36m784\u001b[0m\u001b[0;34m,\u001b[0m \u001b[0mhidden_layer_sizes\u001b[0m\u001b[0;34m=\u001b[0m\u001b[0;34m[\u001b[0m\u001b[0;36m500\u001b[0m\u001b[0;34m,\u001b[0m \u001b[0;36m250\u001b[0m\u001b[0;34m,\u001b[0m \u001b[0;36m100\u001b[0m\u001b[0;34m]\u001b[0m\u001b[0;34m,\u001b[0m \u001b[0mn_outs\u001b[0m\u001b[0;34m=\u001b[0m\u001b[0;36m10\u001b[0m\u001b[0;34m,\u001b[0m \u001b[0mnumpy_rng\u001b[0m\u001b[0;34m=\u001b[0m\u001b[0mNone\u001b[0m\u001b[0;34m)\u001b[0m\u001b[0;34m\u001b[0m\u001b[0m\n\u001b[0m",
        "\u001b[0;31mNameError\u001b[0m: name 'DBN' is not defined"
       ]
      }
     ],
     "prompt_number": 350
    },
    {
     "cell_type": "code",
     "collapsed": false,
     "input": [
      "from DeepLearning.python import DBN"
     ],
     "language": "python",
     "metadata": {},
     "outputs": [],
     "prompt_number": 359
    },
    {
     "cell_type": "code",
     "collapsed": false,
     "input": [
      "dbn = main()"
     ],
     "language": "python",
     "metadata": {},
     "outputs": [
      {
       "output_type": "stream",
       "stream": "stdout",
       "text": [
        "y_sample [[1 0 0 0 0 0 0 0 0 0]\n",
        " [1 0 0 0 0 0 0 0 0 0]\n",
        " [1 0 0 0 0 0 0 0 0 0]\n",
        " [1 0 0 0 0 0 0 0 0 0]\n",
        " [1 0 0 0 0 0 0 0 0 0]\n",
        " [1 0 0 0 0 0 0 0 0 0]\n",
        " [1 0 0 0 0 0 0 0 0 0]\n",
        " [1 0 0 0 0 0 0 0 0 0]\n",
        " [1 0 0 0 0 0 0 0 0 0]\n",
        " [1 0 0 0 0 0 0 0 0 0]\n",
        " [0 1 0 0 0 0 0 0 0 0]\n",
        " [0 1 0 0 0 0 0 0 0 0]\n",
        " [0 1 0 0 0 0 0 0 0 0]\n",
        " [0 1 0 0 0 0 0 0 0 0]\n",
        " [0 1 0 0 0 0 0 0 0 0]\n",
        " [0 1 0 0 0 0 0 0 0 0]\n",
        " [0 1 0 0 0 0 0 0 0 0]\n",
        " [0 1 0 0 0 0 0 0 0 0]\n",
        " [0 1 0 0 0 0 0 0 0 0]\n",
        " [0 1 0 0 0 0 0 0 0 0]]\n"
       ]
      }
     ],
     "prompt_number": 115
    },
    {
     "cell_type": "code",
     "collapsed": false,
     "input": [
      "dbn"
     ],
     "language": "python",
     "metadata": {},
     "outputs": [
      {
       "metadata": {},
       "output_type": "pyout",
       "prompt_number": 116,
       "text": [
        "<DeepLearning.python.DBN.DBN at 0x10394b2d0>"
       ]
      }
     ],
     "prompt_number": 116
    },
    {
     "cell_type": "code",
     "collapsed": false,
     "input": [
      "# test neural net\n",
      "start = time.time()\n",
      "dbn.pretrain(lr=0.0035, epochs=5000)\n",
      "print time.time() - start"
     ],
     "language": "python",
     "metadata": {},
     "outputs": [
      {
       "output_type": "stream",
       "stream": "stdout",
       "text": [
        "145.749346972\n"
       ]
      }
     ],
     "prompt_number": 117
    },
    {
     "cell_type": "code",
     "collapsed": false,
     "input": [
      "dbn.finetune(lr=.001, epochs=5000)"
     ],
     "language": "python",
     "metadata": {},
     "outputs": [],
     "prompt_number": 118
    },
    {
     "cell_type": "code",
     "collapsed": false,
     "input": [
      "len(test_set[1])"
     ],
     "language": "python",
     "metadata": {},
     "outputs": [
      {
       "metadata": {},
       "output_type": "pyout",
       "prompt_number": 125,
       "text": [
        "10000"
       ]
      }
     ],
     "prompt_number": 125
    },
    {
     "cell_type": "code",
     "collapsed": false,
     "input": [
      "pics_test, labels_test = create_sample(test_set, 50)"
     ],
     "language": "python",
     "metadata": {},
     "outputs": [],
     "prompt_number": 130
    },
    {
     "cell_type": "code",
     "collapsed": false,
     "input": [
      "dbn.predict(pics_test)"
     ],
     "language": "python",
     "metadata": {},
     "outputs": [
      {
       "metadata": {},
       "output_type": "pyout",
       "prompt_number": 131,
       "text": [
        "array([[ 0.45930323,  0.27310835,  0.03344855,  0.03344855,  0.03344855,\n",
        "         0.03344855,  0.03344855,  0.03344855,  0.03344855,  0.03344855],\n",
        "       [ 0.28302917,  0.24726314,  0.05871346,  0.05871346,  0.05871346,\n",
        "         0.05871346,  0.05871346,  0.05871346,  0.05871346,  0.05871346],\n",
        "       [ 0.47964858,  0.35584313,  0.02056354,  0.02056354,  0.02056354,\n",
        "         0.02056354,  0.02056354,  0.02056354,  0.02056354,  0.02056354],\n",
        "       [ 0.24852935,  0.26646666,  0.0606255 ,  0.0606255 ,  0.0606255 ,\n",
        "         0.0606255 ,  0.0606255 ,  0.0606255 ,  0.0606255 ,  0.0606255 ],\n",
        "       [ 0.25815148,  0.23397744,  0.06348388,  0.06348388,  0.06348388,\n",
        "         0.06348388,  0.06348388,  0.06348388,  0.06348388,  0.06348388],\n",
        "       [ 0.26807778,  0.2231352 ,  0.06359838,  0.06359838,  0.06359838,\n",
        "         0.06359838,  0.06359838,  0.06359838,  0.06359838,  0.06359838],\n",
        "       [ 0.24461284,  0.25494267,  0.06255556,  0.06255556,  0.06255556,\n",
        "         0.06255556,  0.06255556,  0.06255556,  0.06255556,  0.06255556],\n",
        "       [ 0.25293924,  0.26355885,  0.06043774,  0.06043774,  0.06043774,\n",
        "         0.06043774,  0.06043774,  0.06043774,  0.06043774,  0.06043774],\n",
        "       [ 0.24387872,  0.21992241,  0.06702486,  0.06702486,  0.06702486,\n",
        "         0.06702486,  0.06702486,  0.06702486,  0.06702486,  0.06702486],\n",
        "       [ 0.24373541,  0.21961368,  0.06708136,  0.06708136,  0.06708136,\n",
        "         0.06708136,  0.06708136,  0.06708136,  0.06708136,  0.06708136],\n",
        "       [ 0.37693102,  0.30301554,  0.04000668,  0.04000668,  0.04000668,\n",
        "         0.04000668,  0.04000668,  0.04000668,  0.04000668,  0.04000668],\n",
        "       [ 0.37000695,  0.32140617,  0.03857336,  0.03857336,  0.03857336,\n",
        "         0.03857336,  0.03857336,  0.03857336,  0.03857336,  0.03857336],\n",
        "       [ 0.45655313,  0.27105049,  0.03404955,  0.03404955,  0.03404955,\n",
        "         0.03404955,  0.03404955,  0.03404955,  0.03404955,  0.03404955],\n",
        "       [ 0.39603573,  0.29424321,  0.03871513,  0.03871513,  0.03871513,\n",
        "         0.03871513,  0.03871513,  0.03871513,  0.03871513,  0.03871513],\n",
        "       [ 0.22940219,  0.24645639,  0.06551768,  0.06551768,  0.06551768,\n",
        "         0.06551768,  0.06551768,  0.06551768,  0.06551768,  0.06551768],\n",
        "       [ 0.46805081,  0.36034052,  0.02145108,  0.02145108,  0.02145108,\n",
        "         0.02145108,  0.02145108,  0.02145108,  0.02145108,  0.02145108],\n",
        "       [ 0.2603539 ,  0.22313614,  0.06456374,  0.06456374,  0.06456374,\n",
        "         0.06456374,  0.06456374,  0.06456374,  0.06456374,  0.06456374],\n",
        "       [ 0.2684193 ,  0.22316288,  0.06355223,  0.06355223,  0.06355223,\n",
        "         0.06355223,  0.06355223,  0.06355223,  0.06355223,  0.06355223],\n",
        "       [ 0.40957224,  0.32303257,  0.0334244 ,  0.0334244 ,  0.0334244 ,\n",
        "         0.0334244 ,  0.0334244 ,  0.0334244 ,  0.0334244 ,  0.0334244 ],\n",
        "       [ 0.25669035,  0.25501145,  0.06103727,  0.06103727,  0.06103727,\n",
        "         0.06103727,  0.06103727,  0.06103727,  0.06103727,  0.06103727],\n",
        "       [ 0.24375784,  0.21979372,  0.06705605,  0.06705605,  0.06705605,\n",
        "         0.06705605,  0.06705605,  0.06705605,  0.06705605,  0.06705605],\n",
        "       [ 0.48748725,  0.3508357 ,  0.02020963,  0.02020963,  0.02020963,\n",
        "         0.02020963,  0.02020963,  0.02020963,  0.02020963,  0.02020963],\n",
        "       [ 0.48413573,  0.35194258,  0.02049021,  0.02049021,  0.02049021,\n",
        "         0.02049021,  0.02049021,  0.02049021,  0.02049021,  0.02049021],\n",
        "       [ 0.26878394,  0.24480418,  0.06080149,  0.06080149,  0.06080149,\n",
        "         0.06080149,  0.06080149,  0.06080149,  0.06080149,  0.06080149],\n",
        "       [ 0.26870748,  0.22311528,  0.06352215,  0.06352215,  0.06352215,\n",
        "         0.06352215,  0.06352215,  0.06352215,  0.06352215,  0.06352215],\n",
        "       [ 0.2682163 ,  0.24418395,  0.06094997,  0.06094997,  0.06094997,\n",
        "         0.06094997,  0.06094997,  0.06094997,  0.06094997,  0.06094997],\n",
        "       [ 0.32713416,  0.28763492,  0.04815386,  0.04815386,  0.04815386,\n",
        "         0.04815386,  0.04815386,  0.04815386,  0.04815386,  0.04815386],\n",
        "       [ 0.39858788,  0.31116619,  0.03628074,  0.03628074,  0.03628074,\n",
        "         0.03628074,  0.03628074,  0.03628074,  0.03628074,  0.03628074],\n",
        "       [ 0.26857302,  0.22311255,  0.0635393 ,  0.0635393 ,  0.0635393 ,\n",
        "         0.0635393 ,  0.0635393 ,  0.0635393 ,  0.0635393 ,  0.0635393 ],\n",
        "       [ 0.24398232,  0.22001886,  0.06699985,  0.06699985,  0.06699985,\n",
        "         0.06699985,  0.06699985,  0.06699985,  0.06699985,  0.06699985],\n",
        "       [ 0.25522094,  0.23211327,  0.06408322,  0.06408322,  0.06408322,\n",
        "         0.06408322,  0.06408322,  0.06408322,  0.06408322,  0.06408322],\n",
        "       [ 0.2870136 ,  0.2432008 ,  0.0587232 ,  0.0587232 ,  0.0587232 ,\n",
        "         0.0587232 ,  0.0587232 ,  0.0587232 ,  0.0587232 ,  0.0587232 ],\n",
        "       [ 0.47542977,  0.35641613,  0.02101926,  0.02101926,  0.02101926,\n",
        "         0.02101926,  0.02101926,  0.02101926,  0.02101926,  0.02101926],\n",
        "       [ 0.47929532,  0.35587715,  0.02060344,  0.02060344,  0.02060344,\n",
        "         0.02060344,  0.02060344,  0.02060344,  0.02060344,  0.02060344],\n",
        "       [ 0.2478159 ,  0.22956241,  0.06532771,  0.06532771,  0.06532771,\n",
        "         0.06532771,  0.06532771,  0.06532771,  0.06532771,  0.06532771],\n",
        "       [ 0.43401781,  0.33148007,  0.02931276,  0.02931276,  0.02931276,\n",
        "         0.02931276,  0.02931276,  0.02931276,  0.02931276,  0.02931276],\n",
        "       [ 0.38902688,  0.31369589,  0.03715965,  0.03715965,  0.03715965,\n",
        "         0.03715965,  0.03715965,  0.03715965,  0.03715965,  0.03715965],\n",
        "       [ 0.47582317,  0.35636683,  0.02097625,  0.02097625,  0.02097625,\n",
        "         0.02097625,  0.02097625,  0.02097625,  0.02097625,  0.02097625],\n",
        "       [ 0.47855255,  0.35598602,  0.02068268,  0.02068268,  0.02068268,\n",
        "         0.02068268,  0.02068268,  0.02068268,  0.02068268,  0.02068268],\n",
        "       [ 0.39369475,  0.29284638,  0.03918236,  0.03918236,  0.03918236,\n",
        "         0.03918236,  0.03918236,  0.03918236,  0.03918236,  0.03918236],\n",
        "       [ 0.36995685,  0.32141449,  0.03857858,  0.03857858,  0.03857858,\n",
        "         0.03857858,  0.03857858,  0.03857858,  0.03857858,  0.03857858],\n",
        "       [ 0.37019111,  0.32133819,  0.03855884,  0.03855884,  0.03855884,\n",
        "         0.03855884,  0.03855884,  0.03855884,  0.03855884,  0.03855884],\n",
        "       [ 0.2504241 ,  0.22986167,  0.06496428,  0.06496428,  0.06496428,\n",
        "         0.06496428,  0.06496428,  0.06496428,  0.06496428,  0.06496428],\n",
        "       [ 0.25514139,  0.2262291 ,  0.06482869,  0.06482869,  0.06482869,\n",
        "         0.06482869,  0.06482869,  0.06482869,  0.06482869,  0.06482869],\n",
        "       [ 0.28552277,  0.24688817,  0.05844863,  0.05844863,  0.05844863,\n",
        "         0.05844863,  0.05844863,  0.05844863,  0.05844863,  0.05844863],\n",
        "       [ 0.26833407,  0.22306223,  0.06357546,  0.06357546,  0.06357546,\n",
        "         0.06357546,  0.06357546,  0.06357546,  0.06357546,  0.06357546],\n",
        "       [ 0.24745193,  0.2550577 ,  0.0621863 ,  0.0621863 ,  0.0621863 ,\n",
        "         0.0621863 ,  0.0621863 ,  0.0621863 ,  0.0621863 ,  0.0621863 ],\n",
        "       [ 0.26394245,  0.22416969,  0.06398598,  0.06398598,  0.06398598,\n",
        "         0.06398598,  0.06398598,  0.06398598,  0.06398598,  0.06398598],\n",
        "       [ 0.47693206,  0.33207922,  0.02387359,  0.02387359,  0.02387359,\n",
        "         0.02387359,  0.02387359,  0.02387359,  0.02387359,  0.02387359],\n",
        "       [ 0.37001317,  0.32154325,  0.03855545,  0.03855545,  0.03855545,\n",
        "         0.03855545,  0.03855545,  0.03855545,  0.03855545,  0.03855545],\n",
        "       [ 0.39057256,  0.31705442,  0.03654663,  0.03654663,  0.03654663,\n",
        "         0.03654663,  0.03654663,  0.03654663,  0.03654663,  0.03654663],\n",
        "       [ 0.35056929,  0.30766882,  0.04272024,  0.04272024,  0.04272024,\n",
        "         0.04272024,  0.04272024,  0.04272024,  0.04272024,  0.04272024],\n",
        "       [ 0.38999082,  0.29646061,  0.03919357,  0.03919357,  0.03919357,\n",
        "         0.03919357,  0.03919357,  0.03919357,  0.03919357,  0.03919357],\n",
        "       [ 0.47968039,  0.3558235 ,  0.02056201,  0.02056201,  0.02056201,\n",
        "         0.02056201,  0.02056201,  0.02056201,  0.02056201,  0.02056201],\n",
        "       [ 0.26869346,  0.22312391,  0.06352283,  0.06352283,  0.06352283,\n",
        "         0.06352283,  0.06352283,  0.06352283,  0.06352283,  0.06352283],\n",
        "       [ 0.21419725,  0.2319859 ,  0.06922711,  0.06922711,  0.06922711,\n",
        "         0.06922711,  0.06922711,  0.06922711,  0.06922711,  0.06922711],\n",
        "       [ 0.22340425,  0.24157549,  0.06687753,  0.06687753,  0.06687753,\n",
        "         0.06687753,  0.06687753,  0.06687753,  0.06687753,  0.06687753],\n",
        "       [ 0.47498338,  0.35647963,  0.02106712,  0.02106712,  0.02106712,\n",
        "         0.02106712,  0.02106712,  0.02106712,  0.02106712,  0.02106712],\n",
        "       [ 0.2485366 ,  0.23007673,  0.06517333,  0.06517333,  0.06517333,\n",
        "         0.06517333,  0.06517333,  0.06517333,  0.06517333,  0.06517333],\n",
        "       [ 0.24787034,  0.2295777 ,  0.06531899,  0.06531899,  0.06531899,\n",
        "         0.06531899,  0.06531899,  0.06531899,  0.06531899,  0.06531899],\n",
        "       [ 0.47965734,  0.35582654,  0.02056451,  0.02056451,  0.02056451,\n",
        "         0.02056451,  0.02056451,  0.02056451,  0.02056451,  0.02056451],\n",
        "       [ 0.26864718,  0.2231141 ,  0.06352984,  0.06352984,  0.06352984,\n",
        "         0.06352984,  0.06352984,  0.06352984,  0.06352984,  0.06352984],\n",
        "       [ 0.26876625,  0.24175073,  0.06118538,  0.06118538,  0.06118538,\n",
        "         0.06118538,  0.06118538,  0.06118538,  0.06118538,  0.06118538],\n",
        "       [ 0.47933186,  0.35587308,  0.02059938,  0.02059938,  0.02059938,\n",
        "         0.02059938,  0.02059938,  0.02059938,  0.02059938,  0.02059938],\n",
        "       [ 0.29271579,  0.28334192,  0.05299279,  0.05299279,  0.05299279,\n",
        "         0.05299279,  0.05299279,  0.05299279,  0.05299279,  0.05299279],\n",
        "       [ 0.22474835,  0.24360582,  0.06645573,  0.06645573,  0.06645573,\n",
        "         0.06645573,  0.06645573,  0.06645573,  0.06645573,  0.06645573],\n",
        "       [ 0.47914922,  0.35610047,  0.02059379,  0.02059379,  0.02059379,\n",
        "         0.02059379,  0.02059379,  0.02059379,  0.02059379,  0.02059379],\n",
        "       [ 0.28114866,  0.25031529,  0.05856701,  0.05856701,  0.05856701,\n",
        "         0.05856701,  0.05856701,  0.05856701,  0.05856701,  0.05856701],\n",
        "       [ 0.38801214,  0.31543089,  0.03706962,  0.03706962,  0.03706962,\n",
        "         0.03706962,  0.03706962,  0.03706962,  0.03706962,  0.03706962],\n",
        "       [ 0.25301832,  0.23275616,  0.06427819,  0.06427819,  0.06427819,\n",
        "         0.06427819,  0.06427819,  0.06427819,  0.06427819,  0.06427819],\n",
        "       [ 0.40033394,  0.28877289,  0.03886165,  0.03886165,  0.03886165,\n",
        "         0.03886165,  0.03886165,  0.03886165,  0.03886165,  0.03886165],\n",
        "       [ 0.50202891,  0.32307787,  0.02186165,  0.02186165,  0.02186165,\n",
        "         0.02186165,  0.02186165,  0.02186165,  0.02186165,  0.02186165],\n",
        "       [ 0.24997847,  0.25426064,  0.06197011,  0.06197011,  0.06197011,\n",
        "         0.06197011,  0.06197011,  0.06197011,  0.06197011,  0.06197011],\n",
        "       [ 0.3804892 ,  0.31823683,  0.03765925,  0.03765925,  0.03765925,\n",
        "         0.03765925,  0.03765925,  0.03765925,  0.03765925,  0.03765925],\n",
        "       [ 0.29726691,  0.28355767,  0.05239693,  0.05239693,  0.05239693,\n",
        "         0.05239693,  0.05239693,  0.05239693,  0.05239693,  0.05239693],\n",
        "       [ 0.39701806,  0.31154797,  0.03642925,  0.03642925,  0.03642925,\n",
        "         0.03642925,  0.03642925,  0.03642925,  0.03642925,  0.03642925],\n",
        "       [ 0.26819473,  0.22306247,  0.06359285,  0.06359285,  0.06359285,\n",
        "         0.06359285,  0.06359285,  0.06359285,  0.06359285,  0.06359285],\n",
        "       [ 0.44982092,  0.27797967,  0.03402493,  0.03402493,  0.03402493,\n",
        "         0.03402493,  0.03402493,  0.03402493,  0.03402493,  0.03402493],\n",
        "       [ 0.23990393,  0.22422924,  0.06698335,  0.06698335,  0.06698335,\n",
        "         0.06698335,  0.06698335,  0.06698335,  0.06698335,  0.06698335],\n",
        "       [ 0.25805673,  0.25779178,  0.06051894,  0.06051894,  0.06051894,\n",
        "         0.06051894,  0.06051894,  0.06051894,  0.06051894,  0.06051894],\n",
        "       [ 0.40855789,  0.32286115,  0.03357262,  0.03357262,  0.03357262,\n",
        "         0.03357262,  0.03357262,  0.03357262,  0.03357262,  0.03357262],\n",
        "       [ 0.41821677,  0.31026777,  0.03393943,  0.03393943,  0.03393943,\n",
        "         0.03393943,  0.03393943,  0.03393943,  0.03393943,  0.03393943],\n",
        "       [ 0.45122723,  0.3131621 ,  0.02945133,  0.02945133,  0.02945133,\n",
        "         0.02945133,  0.02945133,  0.02945133,  0.02945133,  0.02945133],\n",
        "       [ 0.36995941,  0.3214143 ,  0.03857829,  0.03857829,  0.03857829,\n",
        "         0.03857829,  0.03857829,  0.03857829,  0.03857829,  0.03857829],\n",
        "       [ 0.21701124,  0.23460835,  0.06854755,  0.06854755,  0.06854755,\n",
        "         0.06854755,  0.06854755,  0.06854755,  0.06854755,  0.06854755],\n",
        "       [ 0.24792474,  0.22962394,  0.06530642,  0.06530642,  0.06530642,\n",
        "         0.06530642,  0.06530642,  0.06530642,  0.06530642,  0.06530642],\n",
        "       [ 0.24393324,  0.21998019,  0.06701082,  0.06701082,  0.06701082,\n",
        "         0.06701082,  0.06701082,  0.06701082,  0.06701082,  0.06701082],\n",
        "       [ 0.4728621 ,  0.35665373,  0.02131052,  0.02131052,  0.02131052,\n",
        "         0.02131052,  0.02131052,  0.02131052,  0.02131052,  0.02131052],\n",
        "       [ 0.47950306,  0.35585002,  0.02058086,  0.02058086,  0.02058086,\n",
        "         0.02058086,  0.02058086,  0.02058086,  0.02058086,  0.02058086],\n",
        "       [ 0.37224569,  0.32056791,  0.0383983 ,  0.0383983 ,  0.0383983 ,\n",
        "         0.0383983 ,  0.0383983 ,  0.0383983 ,  0.0383983 ,  0.0383983 ],\n",
        "       [ 0.49557873,  0.32325529,  0.02264575,  0.02264575,  0.02264575,\n",
        "         0.02264575,  0.02264575,  0.02264575,  0.02264575,  0.02264575],\n",
        "       [ 0.39600432,  0.31234705,  0.03645608,  0.03645608,  0.03645608,\n",
        "         0.03645608,  0.03645608,  0.03645608,  0.03645608,  0.03645608],\n",
        "       [ 0.2438798 ,  0.21992534,  0.06702436,  0.06702436,  0.06702436,\n",
        "         0.06702436,  0.06702436,  0.06702436,  0.06702436,  0.06702436],\n",
        "       [ 0.24392697,  0.21996907,  0.067013  ,  0.067013  ,  0.067013  ,\n",
        "         0.067013  ,  0.067013  ,  0.067013  ,  0.067013  ,  0.067013  ],\n",
        "       [ 0.3858497 ,  0.30725127,  0.03836238,  0.03836238,  0.03836238,\n",
        "         0.03836238,  0.03836238,  0.03836238,  0.03836238,  0.03836238],\n",
        "       [ 0.43650853,  0.28242867,  0.03513285,  0.03513285,  0.03513285,\n",
        "         0.03513285,  0.03513285,  0.03513285,  0.03513285,  0.03513285],\n",
        "       [ 0.24823187,  0.22966915,  0.06526237,  0.06526237,  0.06526237,\n",
        "         0.06526237,  0.06526237,  0.06526237,  0.06526237,  0.06526237],\n",
        "       [ 0.36996311,  0.32141363,  0.03857791,  0.03857791,  0.03857791,\n",
        "         0.03857791,  0.03857791,  0.03857791,  0.03857791,  0.03857791],\n",
        "       [ 0.40296953,  0.30835699,  0.03608419,  0.03608419,  0.03608419,\n",
        "         0.03608419,  0.03608419,  0.03608419,  0.03608419,  0.03608419],\n",
        "       [ 0.26530358,  0.22304978,  0.06395583,  0.06395583,  0.06395583,\n",
        "         0.06395583,  0.06395583,  0.06395583,  0.06395583,  0.06395583]])"
       ]
      }
     ],
     "prompt_number": 131
    },
    {
     "cell_type": "markdown",
     "metadata": {},
     "source": [
      "Accuracy"
     ]
    },
    {
     "cell_type": "code",
     "collapsed": false,
     "input": [
      "sum(np.argmax(labels_test, axis=1) == np.argmax(dbn.predict(pics_test), axis=1))*1.0/len(labels_test)"
     ],
     "language": "python",
     "metadata": {},
     "outputs": [
      {
       "metadata": {},
       "output_type": "pyout",
       "prompt_number": 133,
       "text": [
        "0.59999999999999998"
       ]
      }
     ],
     "prompt_number": 133
    },
    {
     "cell_type": "markdown",
     "metadata": {},
     "source": [
      "Visually see the differences between actual and predicted labels on test"
     ]
    },
    {
     "cell_type": "code",
     "collapsed": false,
     "input": [
      "print \"Actual:\", np.argmax(labels_test, axis=1)\n",
      "print \"Predicted:\", np.argmax(dbn.predict(pics_test), axis=1)"
     ],
     "language": "python",
     "metadata": {},
     "outputs": [
      {
       "output_type": "stream",
       "stream": "stdout",
       "text": [
        "Actual: [0 1 0 1 1 1 1 1 1 1 0 0 0 0 1 0 1 1 0 1 1 0 0 1 1 1 0 0 1 1 1 1 0 0 1 0 0\n",
        " 0 0 0 0 0 1 1 1 1 1 1 0 0 0 0 0 0 1 1 1 0 1 1 0 1 1 0 1 1 0 1 0 1 0 0 1 0\n",
        " 1 0 1 0 1 1 0 0 0 0 1 1 1 0 0 0 0 0 1 1 0 0 1 0 0 1]\n",
        "Predicted: [0 0 0 1 0 0 1 1 0 0 0 0 0 0 1 0 0 0 0 0 0 0 0 0 0 0 0 0 0 0 0 0 0 0 0 0 0\n",
        " 0 0 0 0 0 0 0 0 0 1 0 0 0 0 0 0 0 0 1 1 0 0 0 0 0 0 0 0 1 0 0 0 0 0 0 1 0\n",
        " 0 0 0 0 0 0 0 0 0 0 1 0 0 0 0 0 0 0 0 0 0 0 0 0 0 0]\n"
       ]
      }
     ],
     "prompt_number": 136
    },
    {
     "cell_type": "markdown",
     "metadata": {},
     "source": [
      "Confusion Matrix - confirm predictive power of neural net"
     ]
    },
    {
     "cell_type": "code",
     "collapsed": false,
     "input": [
      "labels_test"
     ],
     "language": "python",
     "metadata": {},
     "outputs": [
      {
       "metadata": {},
       "output_type": "pyout",
       "prompt_number": 152,
       "text": [
        "(array([1, 0, 0, 0, 0, 0, 0, 0, 0, 0]),\n",
        " array([0, 1, 0, 0, 0, 0, 0, 0, 0, 0]),\n",
        " array([1, 0, 0, 0, 0, 0, 0, 0, 0, 0]),\n",
        " array([0, 1, 0, 0, 0, 0, 0, 0, 0, 0]),\n",
        " array([0, 1, 0, 0, 0, 0, 0, 0, 0, 0]),\n",
        " array([0, 1, 0, 0, 0, 0, 0, 0, 0, 0]),\n",
        " array([0, 1, 0, 0, 0, 0, 0, 0, 0, 0]),\n",
        " array([0, 1, 0, 0, 0, 0, 0, 0, 0, 0]),\n",
        " array([0, 1, 0, 0, 0, 0, 0, 0, 0, 0]),\n",
        " array([0, 1, 0, 0, 0, 0, 0, 0, 0, 0]),\n",
        " array([1, 0, 0, 0, 0, 0, 0, 0, 0, 0]),\n",
        " array([1, 0, 0, 0, 0, 0, 0, 0, 0, 0]),\n",
        " array([1, 0, 0, 0, 0, 0, 0, 0, 0, 0]),\n",
        " array([1, 0, 0, 0, 0, 0, 0, 0, 0, 0]),\n",
        " array([0, 1, 0, 0, 0, 0, 0, 0, 0, 0]),\n",
        " array([1, 0, 0, 0, 0, 0, 0, 0, 0, 0]),\n",
        " array([0, 1, 0, 0, 0, 0, 0, 0, 0, 0]),\n",
        " array([0, 1, 0, 0, 0, 0, 0, 0, 0, 0]),\n",
        " array([1, 0, 0, 0, 0, 0, 0, 0, 0, 0]),\n",
        " array([0, 1, 0, 0, 0, 0, 0, 0, 0, 0]),\n",
        " array([0, 1, 0, 0, 0, 0, 0, 0, 0, 0]),\n",
        " array([1, 0, 0, 0, 0, 0, 0, 0, 0, 0]),\n",
        " array([1, 0, 0, 0, 0, 0, 0, 0, 0, 0]),\n",
        " array([0, 1, 0, 0, 0, 0, 0, 0, 0, 0]),\n",
        " array([0, 1, 0, 0, 0, 0, 0, 0, 0, 0]),\n",
        " array([0, 1, 0, 0, 0, 0, 0, 0, 0, 0]),\n",
        " array([1, 0, 0, 0, 0, 0, 0, 0, 0, 0]),\n",
        " array([1, 0, 0, 0, 0, 0, 0, 0, 0, 0]),\n",
        " array([0, 1, 0, 0, 0, 0, 0, 0, 0, 0]),\n",
        " array([0, 1, 0, 0, 0, 0, 0, 0, 0, 0]),\n",
        " array([0, 1, 0, 0, 0, 0, 0, 0, 0, 0]),\n",
        " array([0, 1, 0, 0, 0, 0, 0, 0, 0, 0]),\n",
        " array([1, 0, 0, 0, 0, 0, 0, 0, 0, 0]),\n",
        " array([1, 0, 0, 0, 0, 0, 0, 0, 0, 0]),\n",
        " array([0, 1, 0, 0, 0, 0, 0, 0, 0, 0]),\n",
        " array([1, 0, 0, 0, 0, 0, 0, 0, 0, 0]),\n",
        " array([1, 0, 0, 0, 0, 0, 0, 0, 0, 0]),\n",
        " array([1, 0, 0, 0, 0, 0, 0, 0, 0, 0]),\n",
        " array([1, 0, 0, 0, 0, 0, 0, 0, 0, 0]),\n",
        " array([1, 0, 0, 0, 0, 0, 0, 0, 0, 0]),\n",
        " array([1, 0, 0, 0, 0, 0, 0, 0, 0, 0]),\n",
        " array([1, 0, 0, 0, 0, 0, 0, 0, 0, 0]),\n",
        " array([0, 1, 0, 0, 0, 0, 0, 0, 0, 0]),\n",
        " array([0, 1, 0, 0, 0, 0, 0, 0, 0, 0]),\n",
        " array([0, 1, 0, 0, 0, 0, 0, 0, 0, 0]),\n",
        " array([0, 1, 0, 0, 0, 0, 0, 0, 0, 0]),\n",
        " array([0, 1, 0, 0, 0, 0, 0, 0, 0, 0]),\n",
        " array([0, 1, 0, 0, 0, 0, 0, 0, 0, 0]),\n",
        " array([1, 0, 0, 0, 0, 0, 0, 0, 0, 0]),\n",
        " array([1, 0, 0, 0, 0, 0, 0, 0, 0, 0]),\n",
        " array([1, 0, 0, 0, 0, 0, 0, 0, 0, 0]),\n",
        " array([1, 0, 0, 0, 0, 0, 0, 0, 0, 0]),\n",
        " array([1, 0, 0, 0, 0, 0, 0, 0, 0, 0]),\n",
        " array([1, 0, 0, 0, 0, 0, 0, 0, 0, 0]),\n",
        " array([0, 1, 0, 0, 0, 0, 0, 0, 0, 0]),\n",
        " array([0, 1, 0, 0, 0, 0, 0, 0, 0, 0]),\n",
        " array([0, 1, 0, 0, 0, 0, 0, 0, 0, 0]),\n",
        " array([1, 0, 0, 0, 0, 0, 0, 0, 0, 0]),\n",
        " array([0, 1, 0, 0, 0, 0, 0, 0, 0, 0]),\n",
        " array([0, 1, 0, 0, 0, 0, 0, 0, 0, 0]),\n",
        " array([1, 0, 0, 0, 0, 0, 0, 0, 0, 0]),\n",
        " array([0, 1, 0, 0, 0, 0, 0, 0, 0, 0]),\n",
        " array([0, 1, 0, 0, 0, 0, 0, 0, 0, 0]),\n",
        " array([1, 0, 0, 0, 0, 0, 0, 0, 0, 0]),\n",
        " array([0, 1, 0, 0, 0, 0, 0, 0, 0, 0]),\n",
        " array([0, 1, 0, 0, 0, 0, 0, 0, 0, 0]),\n",
        " array([1, 0, 0, 0, 0, 0, 0, 0, 0, 0]),\n",
        " array([0, 1, 0, 0, 0, 0, 0, 0, 0, 0]),\n",
        " array([1, 0, 0, 0, 0, 0, 0, 0, 0, 0]),\n",
        " array([0, 1, 0, 0, 0, 0, 0, 0, 0, 0]),\n",
        " array([1, 0, 0, 0, 0, 0, 0, 0, 0, 0]),\n",
        " array([1, 0, 0, 0, 0, 0, 0, 0, 0, 0]),\n",
        " array([0, 1, 0, 0, 0, 0, 0, 0, 0, 0]),\n",
        " array([1, 0, 0, 0, 0, 0, 0, 0, 0, 0]),\n",
        " array([0, 1, 0, 0, 0, 0, 0, 0, 0, 0]),\n",
        " array([1, 0, 0, 0, 0, 0, 0, 0, 0, 0]),\n",
        " array([0, 1, 0, 0, 0, 0, 0, 0, 0, 0]),\n",
        " array([1, 0, 0, 0, 0, 0, 0, 0, 0, 0]),\n",
        " array([0, 1, 0, 0, 0, 0, 0, 0, 0, 0]),\n",
        " array([0, 1, 0, 0, 0, 0, 0, 0, 0, 0]),\n",
        " array([1, 0, 0, 0, 0, 0, 0, 0, 0, 0]),\n",
        " array([1, 0, 0, 0, 0, 0, 0, 0, 0, 0]),\n",
        " array([1, 0, 0, 0, 0, 0, 0, 0, 0, 0]),\n",
        " array([1, 0, 0, 0, 0, 0, 0, 0, 0, 0]),\n",
        " array([0, 1, 0, 0, 0, 0, 0, 0, 0, 0]),\n",
        " array([0, 1, 0, 0, 0, 0, 0, 0, 0, 0]),\n",
        " array([0, 1, 0, 0, 0, 0, 0, 0, 0, 0]),\n",
        " array([1, 0, 0, 0, 0, 0, 0, 0, 0, 0]),\n",
        " array([1, 0, 0, 0, 0, 0, 0, 0, 0, 0]),\n",
        " array([1, 0, 0, 0, 0, 0, 0, 0, 0, 0]),\n",
        " array([1, 0, 0, 0, 0, 0, 0, 0, 0, 0]),\n",
        " array([1, 0, 0, 0, 0, 0, 0, 0, 0, 0]),\n",
        " array([0, 1, 0, 0, 0, 0, 0, 0, 0, 0]),\n",
        " array([0, 1, 0, 0, 0, 0, 0, 0, 0, 0]),\n",
        " array([1, 0, 0, 0, 0, 0, 0, 0, 0, 0]),\n",
        " array([1, 0, 0, 0, 0, 0, 0, 0, 0, 0]),\n",
        " array([0, 1, 0, 0, 0, 0, 0, 0, 0, 0]),\n",
        " array([1, 0, 0, 0, 0, 0, 0, 0, 0, 0]),\n",
        " array([1, 0, 0, 0, 0, 0, 0, 0, 0, 0]),\n",
        " array([0, 1, 0, 0, 0, 0, 0, 0, 0, 0]))"
       ]
      }
     ],
     "prompt_number": 152
    },
    {
     "cell_type": "code",
     "collapsed": false,
     "input": [
      "np.argmax(labels_test, axis=1)"
     ],
     "language": "python",
     "metadata": {},
     "outputs": [
      {
       "metadata": {},
       "output_type": "pyout",
       "prompt_number": 156,
       "text": [
        "array([0, 1, 0, 1, 1, 1, 1, 1, 1, 1, 0, 0, 0, 0, 1, 0, 1, 1, 0, 1, 1, 0, 0,\n",
        "       1, 1, 1, 0, 0, 1, 1, 1, 1, 0, 0, 1, 0, 0, 0, 0, 0, 0, 0, 1, 1, 1, 1,\n",
        "       1, 1, 0, 0, 0, 0, 0, 0, 1, 1, 1, 0, 1, 1, 0, 1, 1, 0, 1, 1, 0, 1, 0,\n",
        "       1, 0, 0, 1, 0, 1, 0, 1, 0, 1, 1, 0, 0, 0, 0, 1, 1, 1, 0, 0, 0, 0, 0,\n",
        "       1, 1, 0, 0, 1, 0, 0, 1])"
       ]
      }
     ],
     "prompt_number": 156
    },
    {
     "cell_type": "code",
     "collapsed": false,
     "input": [
      "cm = confusion_matrix(np.argmax(labels_test, axis=1), np.argmax(dbn.predict(pics_test), axis=1))"
     ],
     "language": "python",
     "metadata": {},
     "outputs": [],
     "prompt_number": 139
    },
    {
     "cell_type": "code",
     "collapsed": false,
     "input": [
      "%matplotlib inline \n",
      "plt.matshow(cm, cmap='Blues')\n",
      "plt.title('Confusion Matrix')\n",
      "plt.colorbar()\n",
      "plt.ylabel('True label')\n",
      "plt.xlabel('Predicted label');"
     ],
     "language": "python",
     "metadata": {},
     "outputs": [
      {
       "metadata": {},
       "output_type": "display_data",
       "png": "[encoded data removed]",
       "text": [
        "<matplotlib.figure.Figure at 0x1149a75d0>"
       ]
      }
     ],
     "prompt_number": 144
    },
    {
     "cell_type": "code",
     "collapsed": false,
     "input": [
      "cm"
     ],
     "language": "python",
     "metadata": {},
     "outputs": [
      {
       "metadata": {},
       "output_type": "pyout",
       "prompt_number": 145,
       "text": [
        "array([[50,  0],\n",
        "       [40, 10]])"
       ]
      }
     ],
     "prompt_number": 145
    },
    {
     "cell_type": "markdown",
     "metadata": {},
     "source": [
      "Run confusion matrix through script"
     ]
    },
    {
     "cell_type": "code",
     "collapsed": false,
     "input": [
      "%matplotliab inline \n",
      "tree = create_confusion_matrix(np.argmax(labels_test, axis=1), np.argmax(dbn.predict(pics_test), axis=1))"
     ],
     "language": "python",
     "metadata": {},
     "outputs": [
      {
       "output_type": "stream",
       "stream": "stdout",
       "text": [
        "Neural Net CM:\n",
        "[[10 40]\n",
        " [ 0 50]]\n",
        "\n"
       ]
      },
      {
       "metadata": {},
       "output_type": "display_data",
       "png": "[encoded data removed]",
       "text": [
        "<matplotlib.figure.Figure at 0x1149aaf90>"
       ]
      }
     ],
     "prompt_number": 174
    },
    {
     "cell_type": "markdown",
     "metadata": {},
     "source": [
      "Create model with 50 examples of each"
     ]
    },
    {
     "cell_type": "code",
     "collapsed": false,
     "input": [
      "dbn2=main()"
     ],
     "language": "python",
     "metadata": {},
     "outputs": [
      {
       "output_type": "stream",
       "stream": "stdout",
       "text": [
        "Time to train model: 412.324578047\n"
       ]
      }
     ],
     "prompt_number": 9
    },
    {
     "cell_type": "code",
     "collapsed": false,
     "input": [
      "train_set, valid_set, test_set = load_file('../mnist.pkl.gz')"
     ],
     "language": "python",
     "metadata": {},
     "outputs": [],
     "prompt_number": 10
    },
    {
     "cell_type": "code",
     "collapsed": false,
     "input": [
      "pics_test2, labels_test2= create_data_sample(train_set, 50)"
     ],
     "language": "python",
     "metadata": {},
     "outputs": [],
     "prompt_number": 11
    },
    {
     "cell_type": "code",
     "collapsed": false,
     "input": [
      "dbn2.predict(pics_test2)"
     ],
     "language": "python",
     "metadata": {},
     "outputs": [
      {
       "metadata": {},
       "output_type": "pyout",
       "prompt_number": 12,
       "text": [
        "array([[ 0.01300521,  0.01300521,  0.01300521,  0.01300521,  0.01300521,\n",
        "         0.36581587,  0.01300521,  0.53014246,  0.01300521,  0.01300521],\n",
        "       [ 0.06112276,  0.06112276,  0.06112276,  0.06112276,  0.06112276,\n",
        "         0.24585189,  0.06112276,  0.26516599,  0.06112276,  0.06112276],\n",
        "       [ 0.01460303,  0.01460303,  0.01460303,  0.01460303,  0.01460303,\n",
        "         0.36619453,  0.01460303,  0.51698121,  0.01460303,  0.01460303],\n",
        "       [ 0.04161692,  0.04161692,  0.04161692,  0.04161692,  0.04161692,\n",
        "         0.32331029,  0.04161692,  0.34375435,  0.04161692,  0.04161692],\n",
        "       [ 0.02766305,  0.02766305,  0.02766305,  0.02766305,  0.02766305,\n",
        "         0.38613338,  0.02766305,  0.39256224,  0.02766305,  0.02766305],\n",
        "       [ 0.02153696,  0.02153696,  0.02153696,  0.02153696,  0.02153696,\n",
        "         0.34505737,  0.02153696,  0.48264693,  0.02153696,  0.02153696],\n",
        "       [ 0.02689792,  0.02689792,  0.02689792,  0.02689792,  0.02689792,\n",
        "         0.37627594,  0.02689792,  0.4085407 ,  0.02689792,  0.02689792],\n",
        "       [ 0.05847329,  0.05847329,  0.05847329,  0.05847329,  0.05847329,\n",
        "         0.23266292,  0.05847329,  0.29955074,  0.05847329,  0.05847329],\n",
        "       [ 0.03548461,  0.03548461,  0.03548461,  0.03548461,  0.03548461,\n",
        "         0.25745424,  0.03548461,  0.45866887,  0.03548461,  0.03548461],\n",
        "       [ 0.06851316,  0.06851316,  0.06851316,  0.06851316,  0.06851316,\n",
        "         0.21048169,  0.06851316,  0.24141306,  0.06851316,  0.06851316],\n",
        "       [ 0.02152474,  0.02152474,  0.02152474,  0.02152474,  0.02152474,\n",
        "         0.42229616,  0.02152474,  0.40550591,  0.02152474,  0.02152474],\n",
        "       [ 0.03825662,  0.03825662,  0.03825662,  0.03825662,  0.03825662,\n",
        "         0.24914695,  0.03825662,  0.44480006,  0.03825662,  0.03825662],\n",
        "       [ 0.02229268,  0.02229268,  0.02229268,  0.02229268,  0.02229268,\n",
        "         0.40795019,  0.02229268,  0.41370838,  0.02229268,  0.02229268],\n",
        "       [ 0.03940852,  0.03940852,  0.03940852,  0.03940852,  0.03940852,\n",
        "         0.34338053,  0.03940852,  0.34135128,  0.03940852,  0.03940852],\n",
        "       [ 0.02114324,  0.02114324,  0.02114324,  0.02114324,  0.02114324,\n",
        "         0.30874069,  0.02114324,  0.52211339,  0.02114324,  0.02114324],\n",
        "       [ 0.03777953,  0.03777953,  0.03777953,  0.03777953,  0.03777953,\n",
        "         0.31102127,  0.03777953,  0.38674253,  0.03777953,  0.03777953],\n",
        "       [ 0.05161827,  0.05161827,  0.05161827,  0.05161827,  0.05161827,\n",
        "         0.28045543,  0.05161827,  0.30659841,  0.05161827,  0.05161827],\n",
        "       [ 0.0648091 ,  0.0648091 ,  0.0648091 ,  0.0648091 ,  0.0648091 ,\n",
        "         0.23203294,  0.0648091 ,  0.24949429,  0.0648091 ,  0.0648091 ],\n",
        "       [ 0.02313917,  0.02313917,  0.02313917,  0.02313917,  0.02313917,\n",
        "         0.30619368,  0.02313917,  0.50869294,  0.02313917,  0.02313917],\n",
        "       [ 0.04042892,  0.04042892,  0.04042892,  0.04042892,  0.04042892,\n",
        "         0.32636904,  0.04042892,  0.35019963,  0.04042892,  0.04042892],\n",
        "       [ 0.02269489,  0.02269489,  0.02269489,  0.02269489,  0.02269489,\n",
        "         0.37045513,  0.02269489,  0.44798579,  0.02269489,  0.02269489],\n",
        "       [ 0.03403783,  0.03403783,  0.03403783,  0.03403783,  0.03403783,\n",
        "         0.3418565 ,  0.03403783,  0.3858409 ,  0.03403783,  0.03403783],\n",
        "       [ 0.04207827,  0.04207827,  0.04207827,  0.04207827,  0.04207827,\n",
        "         0.31328327,  0.04207827,  0.35009056,  0.04207827,  0.04207827],\n",
        "       [ 0.04653431,  0.04653431,  0.04653431,  0.04653431,  0.04653431,\n",
        "         0.29273259,  0.04653431,  0.33499296,  0.04653431,  0.04653431],\n",
        "       [ 0.02325312,  0.02325312,  0.02325312,  0.02325312,  0.02325312,\n",
        "         0.38922096,  0.02325312,  0.4247541 ,  0.02325312,  0.02325312],\n",
        "       [ 0.02306119,  0.02306119,  0.02306119,  0.02306119,  0.02306119,\n",
        "         0.42078455,  0.02306119,  0.39472594,  0.02306119,  0.02306119],\n",
        "       [ 0.01898424,  0.01898424,  0.01898424,  0.01898424,  0.01898424,\n",
        "         0.38120649,  0.01898424,  0.46691956,  0.01898424,  0.01898424],\n",
        "       [ 0.06223822,  0.06223822,  0.06223822,  0.06223822,  0.06223822,\n",
        "         0.24931801,  0.06223822,  0.25277623,  0.06223822,  0.06223822],\n",
        "       [ 0.06664916,  0.06664916,  0.06664916,  0.06664916,  0.06664916,\n",
        "         0.2451906 ,  0.06664916,  0.22161615,  0.06664916,  0.06664916],\n",
        "       [ 0.02044885,  0.02044885,  0.02044885,  0.02044885,  0.02044885,\n",
        "         0.40721551,  0.02044885,  0.42919368,  0.02044885,  0.02044885],\n",
        "       [ 0.04509591,  0.04509591,  0.04509591,  0.04509591,  0.04509591,\n",
        "         0.29981979,  0.04509591,  0.33941295,  0.04509591,  0.04509591],\n",
        "       [ 0.04970691,  0.04970691,  0.04970691,  0.04970691,  0.04970691,\n",
        "         0.24495796,  0.04970691,  0.35738679,  0.04970691,  0.04970691],\n",
        "       [ 0.04048076,  0.04048076,  0.04048076,  0.04048076,  0.04048076,\n",
        "         0.34829378,  0.04048076,  0.32786015,  0.04048076,  0.04048076],\n",
        "       [ 0.04072252,  0.04072252,  0.04072252,  0.04072252,  0.04072252,\n",
        "         0.2966284 ,  0.04072252,  0.37759142,  0.04072252,  0.04072252],\n",
        "       [ 0.02303421,  0.02303421,  0.02303421,  0.02303421,  0.02303421,\n",
        "         0.35343869,  0.02303421,  0.46228766,  0.02303421,  0.02303421],\n",
        "       [ 0.01973437,  0.01973437,  0.01973437,  0.01973437,  0.01973437,\n",
        "         0.41360522,  0.01973437,  0.42851983,  0.01973437,  0.01973437],\n",
        "       [ 0.04822245,  0.04822245,  0.04822245,  0.04822245,  0.04822245,\n",
        "         0.31773654,  0.04822245,  0.29648383,  0.04822245,  0.04822245],\n",
        "       [ 0.02665826,  0.02665826,  0.02665826,  0.02665826,  0.02665826,\n",
        "         0.40892454,  0.02665826,  0.3778094 ,  0.02665826,  0.02665826],\n",
        "       [ 0.06603523,  0.06603523,  0.06603523,  0.06603523,  0.06603523,\n",
        "         0.22965979,  0.06603523,  0.24205835,  0.06603523,  0.06603523],\n",
        "       [ 0.04596899,  0.04596899,  0.04596899,  0.04596899,  0.04596899,\n",
        "         0.29221822,  0.04596899,  0.34002987,  0.04596899,  0.04596899],\n",
        "       [ 0.02280222,  0.02280222,  0.02280222,  0.02280222,  0.02280222,\n",
        "         0.38430666,  0.02280222,  0.4332756 ,  0.02280222,  0.02280222],\n",
        "       [ 0.01595557,  0.01595557,  0.01595557,  0.01595557,  0.01595557,\n",
        "         0.34599996,  0.01595557,  0.52635544,  0.01595557,  0.01595557],\n",
        "       [ 0.02638755,  0.02638755,  0.02638755,  0.02638755,  0.02638755,\n",
        "         0.36542935,  0.02638755,  0.42347022,  0.02638755,  0.02638755],\n",
        "       [ 0.0623355 ,  0.0623355 ,  0.0623355 ,  0.0623355 ,  0.0623355 ,\n",
        "         0.20694748,  0.0623355 ,  0.29436851,  0.0623355 ,  0.0623355 ],\n",
        "       [ 0.02983455,  0.02983455,  0.02983455,  0.02983455,  0.02983455,\n",
        "         0.38422984,  0.02983455,  0.37709373,  0.02983455,  0.02983455],\n",
        "       [ 0.01260475,  0.01260475,  0.01260475,  0.01260475,  0.01260475,\n",
        "         0.37892003,  0.01260475,  0.52024201,  0.01260475,  0.01260475],\n",
        "       [ 0.0470721 ,  0.0470721 ,  0.0470721 ,  0.0470721 ,  0.0470721 ,\n",
        "         0.30884734,  0.0470721 ,  0.31457588,  0.0470721 ,  0.0470721 ],\n",
        "       [ 0.02246039,  0.02246039,  0.02246039,  0.02246039,  0.02246039,\n",
        "         0.39922358,  0.02246039,  0.42109329,  0.02246039,  0.02246039],\n",
        "       [ 0.06175176,  0.06175176,  0.06175176,  0.06175176,  0.06175176,\n",
        "         0.25559289,  0.06175176,  0.25039304,  0.06175176,  0.06175176],\n",
        "       [ 0.01402382,  0.01402382,  0.01402382,  0.01402382,  0.01402382,\n",
        "         0.39019815,  0.01402382,  0.49761131,  0.01402382,  0.01402382],\n",
        "       [ 0.02938669,  0.02938669,  0.02938669,  0.02938669,  0.02938669,\n",
        "         0.36414769,  0.02938669,  0.40075879,  0.02938669,  0.02938669],\n",
        "       [ 0.0348402 ,  0.0348402 ,  0.0348402 ,  0.0348402 ,  0.0348402 ,\n",
        "         0.35730207,  0.0348402 ,  0.36397632,  0.0348402 ,  0.0348402 ],\n",
        "       [ 0.01544118,  0.01544118,  0.01544118,  0.01544118,  0.01544118,\n",
        "         0.41371193,  0.01544118,  0.46275861,  0.01544118,  0.01544118],\n",
        "       [ 0.04856141,  0.04856141,  0.04856141,  0.04856141,  0.04856141,\n",
        "         0.2851844 ,  0.04856141,  0.32632431,  0.04856141,  0.04856141],\n",
        "       [ 0.03230597,  0.03230597,  0.03230597,  0.03230597,  0.03230597,\n",
        "         0.36352661,  0.03230597,  0.37802563,  0.03230597,  0.03230597],\n",
        "       [ 0.03523328,  0.03523328,  0.03523328,  0.03523328,  0.03523328,\n",
        "         0.31390447,  0.03523328,  0.4042293 ,  0.03523328,  0.03523328],\n",
        "       [ 0.04266479,  0.04266479,  0.04266479,  0.04266479,  0.04266479,\n",
        "         0.32137679,  0.04266479,  0.33730486,  0.04266479,  0.04266479],\n",
        "       [ 0.03829867,  0.03829867,  0.03829867,  0.03829867,  0.03829867,\n",
        "         0.348497  ,  0.03829867,  0.34511367,  0.03829867,  0.03829867],\n",
        "       [ 0.03064944,  0.03064944,  0.03064944,  0.03064944,  0.03064944,\n",
        "         0.38578202,  0.03064944,  0.36902247,  0.03064944,  0.03064944],\n",
        "       [ 0.0499321 ,  0.0499321 ,  0.0499321 ,  0.0499321 ,  0.0499321 ,\n",
        "         0.27948023,  0.0499321 ,  0.32106295,  0.0499321 ,  0.0499321 ],\n",
        "       [ 0.03148341,  0.03148341,  0.03148341,  0.03148341,  0.03148341,\n",
        "         0.37329072,  0.03148341,  0.37484201,  0.03148341,  0.03148341],\n",
        "       [ 0.03584249,  0.03584249,  0.03584249,  0.03584249,  0.03584249,\n",
        "         0.32896695,  0.03584249,  0.38429313,  0.03584249,  0.03584249],\n",
        "       [ 0.03553938,  0.03553938,  0.03553938,  0.03553938,  0.03553938,\n",
        "         0.33748125,  0.03553938,  0.37820369,  0.03553938,  0.03553938],\n",
        "       [ 0.02470397,  0.02470397,  0.02470397,  0.02470397,  0.02470397,\n",
        "         0.37497745,  0.02470397,  0.42739076,  0.02470397,  0.02470397],\n",
        "       [ 0.0527425 ,  0.0527425 ,  0.0527425 ,  0.0527425 ,  0.0527425 ,\n",
        "         0.26266734,  0.0527425 ,  0.31539263,  0.0527425 ,  0.0527425 ],\n",
        "       [ 0.0237714 ,  0.0237714 ,  0.0237714 ,  0.0237714 ,  0.0237714 ,\n",
        "         0.37487874,  0.0237714 ,  0.43495004,  0.0237714 ,  0.0237714 ],\n",
        "       [ 0.07426583,  0.07426583,  0.07426583,  0.07426583,  0.07426583,\n",
        "         0.18070841,  0.07426583,  0.22516495,  0.07426583,  0.07426583],\n",
        "       [ 0.04766047,  0.04766047,  0.04766047,  0.04766047,  0.04766047,\n",
        "         0.30961161,  0.04766047,  0.30910465,  0.04766047,  0.04766047],\n",
        "       [ 0.02404166,  0.02404166,  0.02404166,  0.02404166,  0.02404166,\n",
        "         0.40008042,  0.02404166,  0.40758631,  0.02404166,  0.02404166],\n",
        "       [ 0.05017711,  0.05017711,  0.05017711,  0.05017711,  0.05017711,\n",
        "         0.24844082,  0.05017711,  0.3501423 ,  0.05017711,  0.05017711],\n",
        "       [ 0.05284442,  0.05284442,  0.05284442,  0.05284442,  0.05284442,\n",
        "         0.25894434,  0.05284442,  0.31830033,  0.05284442,  0.05284442],\n",
        "       [ 0.04967587,  0.04967587,  0.04967587,  0.04967587,  0.04967587,\n",
        "         0.22026021,  0.04967587,  0.38233281,  0.04967587,  0.04967587],\n",
        "       [ 0.03221201,  0.03221201,  0.03221201,  0.03221201,  0.03221201,\n",
        "         0.33224093,  0.03221201,  0.41006299,  0.03221201,  0.03221201],\n",
        "       [ 0.0326486 ,  0.0326486 ,  0.0326486 ,  0.0326486 ,  0.0326486 ,\n",
        "         0.32031828,  0.0326486 ,  0.41849291,  0.0326486 ,  0.0326486 ],\n",
        "       [ 0.05016324,  0.05016324,  0.05016324,  0.05016324,  0.05016324,\n",
        "         0.2905658 ,  0.05016324,  0.30812829,  0.05016324,  0.05016324],\n",
        "       [ 0.04749006,  0.04749006,  0.04749006,  0.04749006,  0.04749006,\n",
        "         0.29451909,  0.04749006,  0.32556045,  0.04749006,  0.04749006],\n",
        "       [ 0.03527516,  0.03527516,  0.03527516,  0.03527516,  0.03527516,\n",
        "         0.26029676,  0.03527516,  0.45750196,  0.03527516,  0.03527516],\n",
        "       [ 0.03332052,  0.03332052,  0.03332052,  0.03332052,  0.03332052,\n",
        "         0.38848319,  0.03332052,  0.34495264,  0.03332052,  0.03332052],\n",
        "       [ 0.03738063,  0.03738063,  0.03738063,  0.03738063,  0.03738063,\n",
        "         0.25763516,  0.03738063,  0.44331984,  0.03738063,  0.03738063],\n",
        "       [ 0.03352338,  0.03352338,  0.03352338,  0.03352338,  0.03352338,\n",
        "         0.36893828,  0.03352338,  0.36287465,  0.03352338,  0.03352338],\n",
        "       [ 0.03100467,  0.03100467,  0.03100467,  0.03100467,  0.03100467,\n",
        "         0.39369182,  0.03100467,  0.35827083,  0.03100467,  0.03100467],\n",
        "       [ 0.03380757,  0.03380757,  0.03380757,  0.03380757,  0.03380757,\n",
        "         0.32577726,  0.03380757,  0.40376217,  0.03380757,  0.03380757],\n",
        "       [ 0.03894626,  0.03894626,  0.03894626,  0.03894626,  0.03894626,\n",
        "         0.32910868,  0.03894626,  0.35932126,  0.03894626,  0.03894626],\n",
        "       [ 0.05889768,  0.05889768,  0.05889768,  0.05889768,  0.05889768,\n",
        "         0.2336671 ,  0.05889768,  0.29515148,  0.05889768,  0.05889768],\n",
        "       [ 0.03712582,  0.03712582,  0.03712582,  0.03712582,  0.03712582,\n",
        "         0.31660229,  0.03712582,  0.38639116,  0.03712582,  0.03712582],\n",
        "       [ 0.0479684 ,  0.0479684 ,  0.0479684 ,  0.0479684 ,  0.0479684 ,\n",
        "         0.27615465,  0.0479684 ,  0.34009817,  0.0479684 ,  0.0479684 ],\n",
        "       [ 0.04104206,  0.04104206,  0.04104206,  0.04104206,  0.04104206,\n",
        "         0.32869973,  0.04104206,  0.34296381,  0.04104206,  0.04104206],\n",
        "       [ 0.02395519,  0.02395519,  0.02395519,  0.02395519,  0.02395519,\n",
        "         0.3182524 ,  0.02395519,  0.49010606,  0.02395519,  0.02395519],\n",
        "       [ 0.04222469,  0.04222469,  0.04222469,  0.04222469,  0.04222469,\n",
        "         0.31687546,  0.04222469,  0.34532703,  0.04222469,  0.04222469],\n",
        "       [ 0.01687571,  0.01687571,  0.01687571,  0.01687571,  0.01687571,\n",
        "         0.38343897,  0.01687571,  0.48155534,  0.01687571,  0.01687571],\n",
        "       [ 0.05120758,  0.05120758,  0.05120758,  0.05120758,  0.05120758,\n",
        "         0.31174213,  0.05120758,  0.27859719,  0.05120758,  0.05120758],\n",
        "       [ 0.03558781,  0.03558781,  0.03558781,  0.03558781,  0.03558781,\n",
        "         0.31584553,  0.03558781,  0.39945195,  0.03558781,  0.03558781],\n",
        "       [ 0.02295271,  0.02295271,  0.02295271,  0.02295271,  0.02295271,\n",
        "         0.40521934,  0.02295271,  0.41115902,  0.02295271,  0.02295271],\n",
        "       [ 0.04107744,  0.04107744,  0.04107744,  0.04107744,  0.04107744,\n",
        "         0.3374755 ,  0.04107744,  0.33390498,  0.04107744,  0.04107744],\n",
        "       [ 0.04439095,  0.04439095,  0.04439095,  0.04439095,  0.04439095,\n",
        "         0.31589241,  0.04439095,  0.32898002,  0.04439095,  0.04439095],\n",
        "       [ 0.03947339,  0.03947339,  0.03947339,  0.03947339,  0.03947339,\n",
        "         0.30446186,  0.03947339,  0.37975099,  0.03947339,  0.03947339],\n",
        "       [ 0.05174398,  0.05174398,  0.05174398,  0.05174398,  0.05174398,\n",
        "         0.20066857,  0.05174398,  0.38537963,  0.05174398,  0.05174398],\n",
        "       [ 0.05538364,  0.05538364,  0.05538364,  0.05538364,  0.05538364,\n",
        "         0.26118416,  0.05538364,  0.29574671,  0.05538364,  0.05538364],\n",
        "       [ 0.03257731,  0.03257731,  0.03257731,  0.03257731,  0.03257731,\n",
        "         0.37885419,  0.03257731,  0.36052733,  0.03257731,  0.03257731],\n",
        "       [ 0.02226804,  0.02226804,  0.02226804,  0.02226804,  0.02226804,\n",
        "         0.38229932,  0.02226804,  0.43955639,  0.02226804,  0.02226804]])"
       ]
      }
     ],
     "prompt_number": 12
    },
    {
     "cell_type": "code",
     "collapsed": false,
     "input": [
      "print \"Actual:\", np.argmax(labels_test2, axis=1)\n",
      "print \"Predicted:\", np.argmax(dbn2.predict(pics_test2), axis=1)"
     ],
     "language": "python",
     "metadata": {},
     "outputs": [
      {
       "output_type": "stream",
       "stream": "stdout",
       "text": [
        "Actual: [5 5 5 7 5 5 7 7 5 7 5 5 5 7 5 7 7 7 5 5 5 7 7 7 5 7 5 7 7 5 7 5 5 7 5 5 7\n",
        " 5 7 7 5 5 5 5 5 5 7 5 7 5 7 7 5 5 7 7 7 7 7 7 5 7 7 5 5 5 5 7 5 7 7 5 7 7\n",
        " 7 7 5 7 5 7 5 7 7 5 7 7 7 5 7 5 7 7 5 7 7 5 5 5 5 5]\n",
        "Predicted: [7 7 7 7 7 7 7 7 7 7 5 7 7 5 7 7 7 7 7 7 7 7 7 7 7 5 7 7 5 7 7 7 5 7 7 7 5\n",
        " 5 7 7 7 7 7 7 5 7 7 7 5 7 7 7 7 7 7 7 7 5 5 7 7 7 7 7 7 7 7 5 7 7 7 7 7 7\n",
        " 7 7 7 5 7 5 5 7 7 7 7 7 7 7 7 7 5 7 7 5 7 7 7 7 5 7]\n"
       ]
      }
     ],
     "prompt_number": 13
    },
    {
     "cell_type": "code",
     "collapsed": false,
     "input": [
      "print_accuracy(dbn2, labels_test2, pics_test2)"
     ],
     "language": "python",
     "metadata": {},
     "outputs": [
      {
       "output_type": "stream",
       "stream": "stdout",
       "text": [
        "0.44\n"
       ]
      }
     ],
     "prompt_number": 14
    },
    {
     "cell_type": "code",
     "collapsed": false,
     "input": [
      "%matplotlib inline \n",
      "cm = confusion_matrix(np.argmax(labels_test2, axis=1), np.argmax(dbn2.predict(pics_test2), axis=1))"
     ],
     "language": "python",
     "metadata": {},
     "outputs": [],
     "prompt_number": 16
    },
    {
     "cell_type": "code",
     "collapsed": false,
     "input": [
      "def plot_confusion_matrix2(conf_matrix):\n",
      "\n",
      "    startcolor = '#cccccc'\n",
      "    midcolor = '#08519c'\n",
      "    endcolor = '#08306b'\n",
      "\n",
      "    b_g2 = LinearSegmentedColormap.from_list('B_G2', [startcolor, midcolor, endcolor])\n",
      "\n",
      "    fig = plt.figure()\n",
      "    ax = fig.add_subplot(111)\n",
      "    cax = ax.matshow(conf_matrix, cmap=b_g2)\n",
      "    fig.colorbar(cax)\n",
      "    plt.title('Neural Net Confusion Matrix \\n', fontsize=16)\n",
      "\n",
      "#     ax.set_xticklabels([''] + cm_labels, fontsize=13)\n",
      "#     ax.set_yticklabels([''] + cm_labels, fontsize=13)\n",
      "\n",
      "    ax.xaxis.set_ticks_position('none')\n",
      "    ax.yaxis.set_ticks_position('none')\n",
      "\n",
      "    spines_to_remove = ['top', 'right', 'left', 'bottom']\n",
      "\n",
      "    plt.xlabel('Predicted', fontsize=14)\n",
      "    plt.ylabel('Actual', fontsize=14)\n",
      "    #plt.savefig(os.path.join(graph_dir, graph_fn))\n",
      "\n",
      "    plt.show()"
     ],
     "language": "python",
     "metadata": {},
     "outputs": [],
     "prompt_number": 17
    },
    {
     "cell_type": "code",
     "collapsed": false,
     "input": [
      "print cm\n",
      "plot_confusion_matrix2(cm);"
     ],
     "language": "python",
     "metadata": {},
     "outputs": [
      {
       "output_type": "stream",
       "stream": "stdout",
       "text": [
        "[[34 16]\n",
        " [43  7]]\n"
       ]
      },
      {
       "metadata": {},
       "output_type": "display_data",
       "png": "[encoded data removed]",
       "text": [
        "<matplotlib.figure.Figure at 0x105e5a110>"
       ]
      }
     ],
     "prompt_number": 19
    },
    {
     "cell_type": "markdown",
     "metadata": {},
     "source": [
      "Pulled function in above to figure out how to fix and below is showing that the confusion matrix code in script has been fixed. Main issue is that labels were being set that threw off the results. Note 0 is for the null hypothesis and 1 is the alternative hypothesis. "
     ]
    },
    {
     "cell_type": "code",
     "collapsed": false,
     "input": [
      "create_confusion_matrix(np.argmax(labels_test2, axis=1), np.argmax(dbn2.predict(pics_test2), axis=1))"
     ],
     "language": "python",
     "metadata": {},
     "outputs": [
      {
       "output_type": "stream",
       "stream": "stdout",
       "text": [
        "Neural Net CM:\n",
        "[[34 16]\n",
        " [43  7]]\n",
        "\n"
       ]
      },
      {
       "metadata": {},
       "output_type": "display_data",
       "png": "[encoded data removed]",
       "text": [
        "<matplotlib.figure.Figure at 0x105e5a110>"
       ]
      },
      {
       "metadata": {},
       "output_type": "pyout",
       "prompt_number": 21,
       "text": [
        "array([[34, 16],\n",
        "       [43,  7]])"
       ]
      }
     ],
     "prompt_number": 21
    },
    {
     "cell_type": "markdown",
     "metadata": {},
     "source": [
      "Note the matrix should take the labels 5, 7. If there are more than 2 labels/numbers classified then the matrix will add columns and rows. This will translate into a table of confusion for each value with TP, FP, FN, TN or you can add up all values of TP and so forth into a table. "
     ]
    },
    {
     "cell_type": "code",
     "collapsed": false,
     "input": [
      "%matplotlib inline \n",
      "confm = confusion_matrix(np.argmax(labels_test2, axis=1), np.argmax(dbn2.predict(pics_test2), axis=1), [5, 7])"
     ],
     "language": "python",
     "metadata": {},
     "outputs": [],
     "prompt_number": 15
    },
    {
     "cell_type": "code",
     "collapsed": true,
     "input": [
      "confm"
     ],
     "language": "python",
     "metadata": {},
     "outputs": [
      {
       "metadata": {},
       "output_type": "pyout",
       "prompt_number": 16,
       "text": [
        "array([[ 6, 44],\n",
        "       [12, 38]])"
       ]
      }
     ],
     "prompt_number": 16
    },
    {
     "cell_type": "code",
     "collapsed": false,
     "input": [
      "plot_confusion_matrix(confm, [5,7])"
     ],
     "language": "python",
     "metadata": {},
     "outputs": [
      {
       "metadata": {},
       "output_type": "display_data",
       "png": "[encoded data removed]",
       "text": [
        "<matplotlib.figure.Figure at 0x10770d590>"
       ]
      }
     ],
     "prompt_number": 17
    },
    {
     "cell_type": "markdown",
     "metadata": {},
     "source": [
      "Note: labels are now passed to create matrix and size will depende on number of variables being predicted. Also, accuracy has been sticking around 40%; thus, tunning is needed. \n",
      "\n",
      "Looks good for 7 but not for 5."
     ]
    }
   ],
   "metadata": {}
  }
 ]
}